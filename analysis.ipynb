{
 "cells": [
  {
   "cell_type": "code",
   "execution_count": 1,
   "id": "a1f16aac",
   "metadata": {},
   "outputs": [],
   "source": [
    "from collections import defaultdict\n",
    "from itertools import combinations\n",
    "import math\n",
    "import os\n",
    "\n",
    "import matplotlib.pyplot as plt\n",
    "import numpy as np\n",
    "import pandas as pd\n",
    "import plotly.express as px      \n",
    "import plotly.graph_objects as go\n",
    "from plotly.subplots import make_subplots\n",
    "import re as regular_expressions\n",
    "from scipy.stats import norm, pearsonr, spearmanr\n",
    "from sklearn.metrics import accuracy_score\n",
    "import spacy\n",
    "from spacy.cli import download\n",
    "from spacy.util import is_package\n",
    "import statsmodels.api as sm\n",
    "from statsmodels.stats.multitest import multipletests\n",
    "from statsmodels.stats.weightstats import ttest_ind\n",
    "from statsmodels.stats.inter_rater import cohens_kappa, to_table\n",
    "import statsmodels.formula.api as smf\n",
    "import textwrap"
   ]
  },
  {
   "cell_type": "markdown",
   "id": "2abe06f8",
   "metadata": {},
   "source": [
    "# Example Frames from Each Video\n",
    "<table>\n",
    "  <tr>\n",
    "    <td align=\"center\">Video&nbsp;1<br>\n",
    "      <img src=\"img/vid1-prev.png\" width=\"200\">\n",
    "    </td>\n",
    "    <td align=\"center\">Video&nbsp;2<br>\n",
    "      <img src=\"img/vid2-prev.png\" width=\"200\">\n",
    "    </td>\n",
    "    <td align=\"center\">Video&nbsp;3<br>\n",
    "      <img src=\"img/vid3-prev.png\" width=\"200\">\n",
    "    </td>\n",
    "  </tr>\n",
    "  <tr>\n",
    "    <td align=\"center\">Video&nbsp;4<br>\n",
    "      <img src=\"img/vid4-prev.png\" width=\"200\">\n",
    "    </td>\n",
    "    <td align=\"center\">Video&nbsp;5<br>\n",
    "      <img src=\"img/vid5-prev.png\" width=\"200\">\n",
    "    </td>\n",
    "    <td align=\"center\">Video&nbsp;6<br>\n",
    "      <img src=\"img/vid6-prev.png\" width=\"200\">\n",
    "    </td>\n",
    "  </tr>\n",
    "  <tr>\n",
    "    <td align=\"center\">Video&nbsp;7<br>\n",
    "      <img src=\"img/vid7-prev.png\" width=\"200\">\n",
    "    </td>\n",
    "    <td align=\"center\">Video&nbsp;8<br>\n",
    "      <img src=\"img/vid8-prev.png\" width=\"200\">\n",
    "    </td>\n",
    "    <td align=\"center\">Video&nbsp;9<br>\n",
    "      <img src=\"img/vid9-prev.png\" width=\"200\">\n",
    "    </td>\n",
    "  </tr>\n",
    "  <tr>\n",
    "    <td align=\"center\">Video&nbsp;10<br>\n",
    "      <img src=\"img/vid10-prev.png\" width=\"200\">\n",
    "    </td>\n",
    "    <td align=\"center\">Video&nbsp;11<br>\n",
    "      <img src=\"img/vid11-prev.png\" width=\"200\">\n",
    "    </td>\n",
    "    <td align=\"center\">Video&nbsp;12<br>\n",
    "      <img src=\"img/vid12-prev.png\" width=\"200\">\n",
    "    </td>\n",
    "  </tr>\n",
    "  <tr>\n",
    "    <td align=\"center\">Video&nbsp;13<br>\n",
    "      <img src=\"img/vid13-prev.png\" width=\"200\">\n",
    "    </td>\n",
    "    <td align=\"center\">Video&nbsp;14<br>\n",
    "      <img src=\"img/vid14-prev.png\" width=\"200\">\n",
    "    </td>\n",
    "    <td align=\"center\">Video&nbsp;15<br>\n",
    "      <img src=\"img/vid15-prev.png\" width=\"200\">\n",
    "    </td>\n",
    "  </tr>\n",
    "</table>\n"
   ]
  },
  {
   "cell_type": "markdown",
   "id": "af16de15",
   "metadata": {},
   "source": [
    "# Load Dataset"
   ]
  },
  {
   "cell_type": "code",
   "execution_count": 2,
   "id": "f723e436",
   "metadata": {},
   "outputs": [
    {
     "name": "stdout",
     "output_type": "stream",
     "text": [
      "df length: 1893\n",
      "df length after removing excluded questions: 1893\n"
     ]
    },
    {
     "data": {
      "text/html": [
       "<div>\n",
       "<style scoped>\n",
       "    .dataframe tbody tr th:only-of-type {\n",
       "        vertical-align: middle;\n",
       "    }\n",
       "\n",
       "    .dataframe tbody tr th {\n",
       "        vertical-align: top;\n",
       "    }\n",
       "\n",
       "    .dataframe thead th {\n",
       "        text-align: right;\n",
       "    }\n",
       "</style>\n",
       "<table border=\"1\" class=\"dataframe\">\n",
       "  <thead>\n",
       "    <tr style=\"text-align: right;\">\n",
       "      <th></th>\n",
       "      <th>Stimulus</th>\n",
       "      <th>Q_ID</th>\n",
       "      <th>Question</th>\n",
       "      <th>Q_Importance</th>\n",
       "      <th>Participant_ID</th>\n",
       "      <th>Group</th>\n",
       "      <th>Subgroup</th>\n",
       "      <th>Participant_Robot_Experience</th>\n",
       "      <th>Participant_Avg_Attitudes_S</th>\n",
       "      <th>Participant_Average_Attitudes_P</th>\n",
       "    </tr>\n",
       "  </thead>\n",
       "  <tbody>\n",
       "    <tr>\n",
       "      <th>0</th>\n",
       "      <td>Vid1</td>\n",
       "      <td>Q1</td>\n",
       "      <td>What salad were you making?</td>\n",
       "      <td>4.0</td>\n",
       "      <td>p1</td>\n",
       "      <td>execution-details</td>\n",
       "      <td>what-goal</td>\n",
       "      <td>7</td>\n",
       "      <td>4.6</td>\n",
       "      <td>3.4</td>\n",
       "    </tr>\n",
       "  </tbody>\n",
       "</table>\n",
       "</div>"
      ],
      "text/plain": [
       "  Stimulus Q_ID                     Question  Q_Importance Participant_ID  \\\n",
       "0     Vid1   Q1  What salad were you making?           4.0             p1   \n",
       "\n",
       "               Group   Subgroup  Participant_Robot_Experience  \\\n",
       "0  execution-details  what-goal                             7   \n",
       "\n",
       "   Participant_Avg_Attitudes_S  Participant_Average_Attitudes_P  \n",
       "0                          4.6                              3.4  "
      ]
     },
     "execution_count": 2,
     "metadata": {},
     "output_type": "execute_result"
    }
   ],
   "source": [
    "df_annotated = pd.read_csv(os.path.join(os.getcwd(), 'annotated_dataset.csv'), sep=';', encoding='utf-8')\n",
    "print(\"df length:\", len(df_annotated))\n",
    "df_annotated = df_annotated[df_annotated[\"Group\"] != \"excluded\"]\n",
    "df_annotated[\"Subgroup\"] = df_annotated[\"Subgroup\"].astype(\"string\")\n",
    "print(\"df length after removing excluded questions:\", len(df_annotated))\n",
    "df_annotated.head(1)\n"
   ]
  },
  {
   "cell_type": "markdown",
   "id": "81894960",
   "metadata": {},
   "source": [
    "# Inter Annotator Agreement"
   ]
  },
  {
   "cell_type": "code",
   "execution_count": 3,
   "id": "afbcd2d8",
   "metadata": {},
   "outputs": [
    {
     "name": "stdout",
     "output_type": "stream",
     "text": [
      "                  Simple Kappa Coefficient\n",
      "              --------------------------------\n",
      "              Kappa                     0.7727\n",
      "              ASE                       0.0451\n",
      "              95% Lower Conf Limit      0.6843\n",
      "              95% Upper Conf Limit      0.8611\n",
      "\n",
      "                 Test of H0: Simple Kappa = 0\n",
      "\n",
      "              ASE under H0              0.0307\n",
      "              Z                         25.1943\n",
      "              One-sided Pr >  Z         0.0000\n",
      "              Two-sided Pr > |Z|        0.0000\n",
      "\n",
      "Accuracy IAA: 0.792\n",
      "Disagreements:\n"
     ]
    },
    {
     "data": {
      "text/html": [
       "<div>\n",
       "<style scoped>\n",
       "    .dataframe tbody tr th:only-of-type {\n",
       "        vertical-align: middle;\n",
       "    }\n",
       "\n",
       "    .dataframe tbody tr th {\n",
       "        vertical-align: top;\n",
       "    }\n",
       "\n",
       "    .dataframe thead th {\n",
       "        text-align: right;\n",
       "    }\n",
       "</style>\n",
       "<table border=\"1\" class=\"dataframe\">\n",
       "  <thead>\n",
       "    <tr style=\"text-align: right;\">\n",
       "      <th></th>\n",
       "      <th>Stimulus</th>\n",
       "      <th>Q_ID</th>\n",
       "      <th>Question</th>\n",
       "      <th>Q_Importance</th>\n",
       "      <th>Participant_ID</th>\n",
       "      <th>Group (Annotator-1)</th>\n",
       "      <th>Subgroup</th>\n",
       "      <th>Annotator-2</th>\n",
       "    </tr>\n",
       "  </thead>\n",
       "  <tbody>\n",
       "    <tr>\n",
       "      <th>7</th>\n",
       "      <td>Vid1</td>\n",
       "      <td>Q4</td>\n",
       "      <td>Don't we need salad dressing?</td>\n",
       "      <td>3.0</td>\n",
       "      <td>R_2ROLkn5dyU92blU</td>\n",
       "      <td>mental-state</td>\n",
       "      <td>check-understanding/beliefs</td>\n",
       "      <td>self/task-assessment</td>\n",
       "    </tr>\n",
       "    <tr>\n",
       "      <th>14</th>\n",
       "      <td>vid10</td>\n",
       "      <td>Q3</td>\n",
       "      <td>What factors do you take into consideration wh...</td>\n",
       "      <td>4.0</td>\n",
       "      <td>R_2dvdoUcNnhE1r5z</td>\n",
       "      <td>how-did-you-decide</td>\n",
       "      <td>steps-to-take</td>\n",
       "      <td>technical-details</td>\n",
       "    </tr>\n",
       "    <tr>\n",
       "      <th>18</th>\n",
       "      <td>vid14</td>\n",
       "      <td>Q1</td>\n",
       "      <td>When you cracked the eggs how were you certain...</td>\n",
       "      <td>4.0</td>\n",
       "      <td>R_9znWIqnU8C5fz2Z</td>\n",
       "      <td>potential-issues</td>\n",
       "      <td>how-to-ensure-correctness</td>\n",
       "      <td>how-did-you-know</td>\n",
       "    </tr>\n",
       "    <tr>\n",
       "      <th>25</th>\n",
       "      <td>vid6</td>\n",
       "      <td>Q2</td>\n",
       "      <td>If it can remember where it placed each item?</td>\n",
       "      <td>2.0</td>\n",
       "      <td>R_8pXG43dM8nxtLHE</td>\n",
       "      <td>execution-details</td>\n",
       "      <td>what-location</td>\n",
       "      <td>what-abilities</td>\n",
       "    </tr>\n",
       "    <tr>\n",
       "      <th>34</th>\n",
       "      <td>vid6</td>\n",
       "      <td>Q3</td>\n",
       "      <td>Do you have any suggestion on how to better or...</td>\n",
       "      <td>2.0</td>\n",
       "      <td>R_2k5QSlY95Vtirfk</td>\n",
       "      <td>mental-state</td>\n",
       "      <td>ideas</td>\n",
       "      <td>future-actions</td>\n",
       "    </tr>\n",
       "    <tr>\n",
       "      <th>35</th>\n",
       "      <td>Vid4</td>\n",
       "      <td>Q2</td>\n",
       "      <td>how do you check that there is no bacteria on ...</td>\n",
       "      <td>4.0</td>\n",
       "      <td>R_21iQ9oF5M9bzjeg</td>\n",
       "      <td>potential-issues</td>\n",
       "      <td>how-to-ensure-correctness</td>\n",
       "      <td>technical-details</td>\n",
       "    </tr>\n",
       "    <tr>\n",
       "      <th>41</th>\n",
       "      <td>vid8</td>\n",
       "      <td>Q1</td>\n",
       "      <td>Why does it seem so struggle with certain piec...</td>\n",
       "      <td>2.0</td>\n",
       "      <td>R_3aS0gNZse7DMWkl</td>\n",
       "      <td>why</td>\n",
       "      <td>why-issues</td>\n",
       "      <td>technical-details</td>\n",
       "    </tr>\n",
       "    <tr>\n",
       "      <th>47</th>\n",
       "      <td>vid15</td>\n",
       "      <td>Q3</td>\n",
       "      <td>Where is the recipe from that you are following?</td>\n",
       "      <td>3.0</td>\n",
       "      <td>R_2Nn2gYl9AxN0IcY</td>\n",
       "      <td>execution-details</td>\n",
       "      <td>goal-origin</td>\n",
       "      <td>environment-state</td>\n",
       "    </tr>\n",
       "    <tr>\n",
       "      <th>51</th>\n",
       "      <td>vid12</td>\n",
       "      <td>Q1</td>\n",
       "      <td>Do you wait a specific amount of time for the ...</td>\n",
       "      <td>4.0</td>\n",
       "      <td>R_5kgIcvzbXW6bmit</td>\n",
       "      <td>how-did-you-know</td>\n",
       "      <td>goal-achieved</td>\n",
       "      <td>technical-details</td>\n",
       "    </tr>\n",
       "    <tr>\n",
       "      <th>53</th>\n",
       "      <td>vid11</td>\n",
       "      <td>Q2</td>\n",
       "      <td>How many times a day do you feed the cat?</td>\n",
       "      <td>5.0</td>\n",
       "      <td>R_21zSRo6v5goC908</td>\n",
       "      <td>time</td>\n",
       "      <td>frequency</td>\n",
       "      <td>execution-details</td>\n",
       "    </tr>\n",
       "    <tr>\n",
       "      <th>54</th>\n",
       "      <td>vid10</td>\n",
       "      <td>Q2</td>\n",
       "      <td>Are you able to tell me if were low on forks</td>\n",
       "      <td>3.0</td>\n",
       "      <td>R_6cXI0wosa2f4fds</td>\n",
       "      <td>environment-state</td>\n",
       "      <td>availability</td>\n",
       "      <td>what-abilities</td>\n",
       "    </tr>\n",
       "    <tr>\n",
       "      <th>58</th>\n",
       "      <td>Vid3</td>\n",
       "      <td>Q2</td>\n",
       "      <td>Was everything in the instructions ticked off?</td>\n",
       "      <td>3.0</td>\n",
       "      <td>R_8aY3lQuJu3gZP7e</td>\n",
       "      <td>self/task-assessment</td>\n",
       "      <td>success</td>\n",
       "      <td>execution-details</td>\n",
       "    </tr>\n",
       "    <tr>\n",
       "      <th>61</th>\n",
       "      <td>vid8</td>\n",
       "      <td>Q1</td>\n",
       "      <td>What do you consider a successfully folded pie...</td>\n",
       "      <td>5.0</td>\n",
       "      <td>R_7U4QrFI1d2HXKJJ</td>\n",
       "      <td>mental-state</td>\n",
       "      <td>check-understanding/beliefs</td>\n",
       "      <td>how-did-you-decide</td>\n",
       "    </tr>\n",
       "    <tr>\n",
       "      <th>64</th>\n",
       "      <td>Vid4</td>\n",
       "      <td>Q4</td>\n",
       "      <td>Did it occur to you why the human could not wa...</td>\n",
       "      <td>2.0</td>\n",
       "      <td>R_2G6YbBoAMRuaTeA</td>\n",
       "      <td>mental-state</td>\n",
       "      <td>check-understanding/beliefs</td>\n",
       "      <td>technical-details</td>\n",
       "    </tr>\n",
       "    <tr>\n",
       "      <th>65</th>\n",
       "      <td>vid11</td>\n",
       "      <td>Q1</td>\n",
       "      <td>How do you measure the food ?</td>\n",
       "      <td>4.0</td>\n",
       "      <td>R_8mWQj9ClNFoHtDH</td>\n",
       "      <td>technical-details</td>\n",
       "      <td>how-does-it-work</td>\n",
       "      <td>execution-details</td>\n",
       "    </tr>\n",
       "    <tr>\n",
       "      <th>66</th>\n",
       "      <td>vid10</td>\n",
       "      <td>Q2</td>\n",
       "      <td>Did you place the items in a way to make sure ...</td>\n",
       "      <td>4.0</td>\n",
       "      <td>R_31hTKmGvBd5emgZ</td>\n",
       "      <td>self/task-assessment</td>\n",
       "      <td>did-you-ensure</td>\n",
       "      <td>execution-details</td>\n",
       "    </tr>\n",
       "    <tr>\n",
       "      <th>73</th>\n",
       "      <td>Vid2</td>\n",
       "      <td>Q2</td>\n",
       "      <td>Did you check if the bag was closed securely?</td>\n",
       "      <td>4.0</td>\n",
       "      <td>R_2BnicD802ALgCFk</td>\n",
       "      <td>self/task-assessment</td>\n",
       "      <td>did-you-ensure</td>\n",
       "      <td>execution-details</td>\n",
       "    </tr>\n",
       "    <tr>\n",
       "      <th>78</th>\n",
       "      <td>Vid5</td>\n",
       "      <td>Q3</td>\n",
       "      <td>Are you also able to vacuum the room?</td>\n",
       "      <td>2.0</td>\n",
       "      <td>R_2ROLkn5dyU92blU</td>\n",
       "      <td>what-abilities</td>\n",
       "      <td>extra-ability</td>\n",
       "      <td>future-actions</td>\n",
       "    </tr>\n",
       "    <tr>\n",
       "      <th>82</th>\n",
       "      <td>vid14</td>\n",
       "      <td>Q1</td>\n",
       "      <td>How did you make sure that the food was safe t...</td>\n",
       "      <td>5.0</td>\n",
       "      <td>R_31hTKmGvBd5emgZ</td>\n",
       "      <td>potential-issues</td>\n",
       "      <td>how-to-ensure-correctness</td>\n",
       "      <td>how-did-you-decide</td>\n",
       "    </tr>\n",
       "    <tr>\n",
       "      <th>83</th>\n",
       "      <td>plan1</td>\n",
       "      <td>Q3</td>\n",
       "      <td>Any tasks the robot noticed and did not manage...</td>\n",
       "      <td>4.0</td>\n",
       "      <td>R_8pXG43dM8nxtLHE</td>\n",
       "      <td>future-actions</td>\n",
       "      <td>what-needs-to-be-done</td>\n",
       "      <td>self/task-assessment</td>\n",
       "    </tr>\n",
       "  </tbody>\n",
       "</table>\n",
       "</div>"
      ],
      "text/plain": [
       "   Stimulus Q_ID                                           Question  \\\n",
       "7      Vid1   Q4                      Don't we need salad dressing?   \n",
       "14    vid10   Q3  What factors do you take into consideration wh...   \n",
       "18    vid14   Q1  When you cracked the eggs how were you certain...   \n",
       "25     vid6   Q2      If it can remember where it placed each item?   \n",
       "34     vid6   Q3  Do you have any suggestion on how to better or...   \n",
       "35     Vid4   Q2  how do you check that there is no bacteria on ...   \n",
       "41     vid8   Q1  Why does it seem so struggle with certain piec...   \n",
       "47    vid15   Q3   Where is the recipe from that you are following?   \n",
       "51    vid12   Q1  Do you wait a specific amount of time for the ...   \n",
       "53    vid11   Q2          How many times a day do you feed the cat?   \n",
       "54    vid10   Q2       Are you able to tell me if were low on forks   \n",
       "58     Vid3   Q2     Was everything in the instructions ticked off?   \n",
       "61     vid8   Q1  What do you consider a successfully folded pie...   \n",
       "64     Vid4   Q4  Did it occur to you why the human could not wa...   \n",
       "65    vid11   Q1                      How do you measure the food ?   \n",
       "66    vid10   Q2  Did you place the items in a way to make sure ...   \n",
       "73     Vid2   Q2      Did you check if the bag was closed securely?   \n",
       "78     Vid5   Q3              Are you also able to vacuum the room?   \n",
       "82    vid14   Q1  How did you make sure that the food was safe t...   \n",
       "83    plan1   Q3  Any tasks the robot noticed and did not manage...   \n",
       "\n",
       "    Q_Importance     Participant_ID   Group (Annotator-1)  \\\n",
       "7            3.0  R_2ROLkn5dyU92blU          mental-state   \n",
       "14           4.0  R_2dvdoUcNnhE1r5z    how-did-you-decide   \n",
       "18           4.0  R_9znWIqnU8C5fz2Z      potential-issues   \n",
       "25           2.0  R_8pXG43dM8nxtLHE     execution-details   \n",
       "34           2.0  R_2k5QSlY95Vtirfk          mental-state   \n",
       "35           4.0  R_21iQ9oF5M9bzjeg      potential-issues   \n",
       "41           2.0  R_3aS0gNZse7DMWkl                   why   \n",
       "47           3.0  R_2Nn2gYl9AxN0IcY     execution-details   \n",
       "51           4.0  R_5kgIcvzbXW6bmit      how-did-you-know   \n",
       "53           5.0  R_21zSRo6v5goC908                  time   \n",
       "54           3.0  R_6cXI0wosa2f4fds     environment-state   \n",
       "58           3.0  R_8aY3lQuJu3gZP7e  self/task-assessment   \n",
       "61           5.0  R_7U4QrFI1d2HXKJJ          mental-state   \n",
       "64           2.0  R_2G6YbBoAMRuaTeA          mental-state   \n",
       "65           4.0  R_8mWQj9ClNFoHtDH     technical-details   \n",
       "66           4.0  R_31hTKmGvBd5emgZ  self/task-assessment   \n",
       "73           4.0  R_2BnicD802ALgCFk  self/task-assessment   \n",
       "78           2.0  R_2ROLkn5dyU92blU        what-abilities   \n",
       "82           5.0  R_31hTKmGvBd5emgZ      potential-issues   \n",
       "83           4.0  R_8pXG43dM8nxtLHE        future-actions   \n",
       "\n",
       "                       Subgroup           Annotator-2  \n",
       "7   check-understanding/beliefs  self/task-assessment  \n",
       "14                steps-to-take     technical-details  \n",
       "18    how-to-ensure-correctness      how-did-you-know  \n",
       "25                what-location        what-abilities  \n",
       "34                        ideas        future-actions  \n",
       "35    how-to-ensure-correctness     technical-details  \n",
       "41                   why-issues     technical-details  \n",
       "47                  goal-origin     environment-state  \n",
       "51                goal-achieved     technical-details  \n",
       "53                    frequency     execution-details  \n",
       "54                 availability        what-abilities  \n",
       "58                      success     execution-details  \n",
       "61  check-understanding/beliefs    how-did-you-decide  \n",
       "64  check-understanding/beliefs     technical-details  \n",
       "65             how-does-it-work     execution-details  \n",
       "66               did-you-ensure     execution-details  \n",
       "73               did-you-ensure     execution-details  \n",
       "78                extra-ability        future-actions  \n",
       "82    how-to-ensure-correctness    how-did-you-decide  \n",
       "83        what-needs-to-be-done  self/task-assessment  "
      ]
     },
     "execution_count": 3,
     "metadata": {},
     "output_type": "execute_result"
    }
   ],
   "source": [
    "# load df_for_IAA.csv\n",
    "df_IAA = pd.read_csv(\"df_for_IAA.csv\", sep=\";\")\n",
    "# compute IAA between row \"Group\" and row \"Annotator-1\"\n",
    "\n",
    "# drop missing labels — statsmodels' helpers don't handle NaNs\n",
    "raw = df_IAA[[\"Group (Annotator-1)\", \"Annotator-2\"]].dropna().to_numpy()\n",
    "\n",
    "# build the contingency table for the two raters\n",
    "table, _ = to_table(raw)  # shape: (n_classes, n_classes)\n",
    "\n",
    "res = cohens_kappa(table)              # returns KappaResults\n",
    "print(res)                \n",
    "\n",
    "iaa_accuracy = accuracy_score(df_IAA[\"Group (Annotator-1)\"], df_IAA[\"Annotator-2\"])\n",
    "print(f\"Accuracy IAA: {iaa_accuracy:.3f}\")\n",
    "\n",
    "# print all instances where the two annotators disagree\n",
    "disagreements = df_IAA[df_IAA[\"Group (Annotator-1)\"] != df_IAA[\"Annotator-2\"]]\n",
    "print(\"Disagreements:\")\n",
    "disagreements"
   ]
  },
  {
   "cell_type": "markdown",
   "id": "e802bb18",
   "metadata": {},
   "source": [
    "# Participant Statistics\n"
   ]
  },
  {
   "cell_type": "code",
   "execution_count": 4,
   "id": "202185a2",
   "metadata": {},
   "outputs": [
    {
     "name": "stdout",
     "output_type": "stream",
     "text": [
      "df lengths (= #participants): 100\n"
     ]
    },
    {
     "data": {
      "text/html": [
       "<div>\n",
       "<style scoped>\n",
       "    .dataframe tbody tr th:only-of-type {\n",
       "        vertical-align: middle;\n",
       "    }\n",
       "\n",
       "    .dataframe tbody tr th {\n",
       "        vertical-align: top;\n",
       "    }\n",
       "\n",
       "    .dataframe thead th {\n",
       "        text-align: right;\n",
       "    }\n",
       "</style>\n",
       "<table border=\"1\" class=\"dataframe\">\n",
       "  <thead>\n",
       "    <tr style=\"text-align: right;\">\n",
       "      <th></th>\n",
       "      <th>Participant_ID</th>\n",
       "      <th>Vid1-Q1</th>\n",
       "      <th>Vid1-Q1-Imp</th>\n",
       "      <th>Vid1-Q2</th>\n",
       "      <th>Vid1-Q2-Imp</th>\n",
       "      <th>Vid1-Q3</th>\n",
       "      <th>Vid1-Q3-Imp</th>\n",
       "      <th>Vid1-Q4</th>\n",
       "      <th>Vid1-Q4-Imp</th>\n",
       "      <th>Vid2-Q1</th>\n",
       "      <th>...</th>\n",
       "      <th>AttitudesP3</th>\n",
       "      <th>AttitudesP4</th>\n",
       "      <th>AttitudesP5</th>\n",
       "      <th>AttitudesS1</th>\n",
       "      <th>AttitudesS2</th>\n",
       "      <th>AttitudesS3</th>\n",
       "      <th>AttitudesS4</th>\n",
       "      <th>AttitudesS5</th>\n",
       "      <th>AttitudesAvgP</th>\n",
       "      <th>AttitudesAvgS</th>\n",
       "    </tr>\n",
       "  </thead>\n",
       "  <tbody>\n",
       "    <tr>\n",
       "      <th>0</th>\n",
       "      <td>p1</td>\n",
       "      <td>What salad were you making?</td>\n",
       "      <td>4.0</td>\n",
       "      <td>What ingredients did you put in the salad and ...</td>\n",
       "      <td>4.0</td>\n",
       "      <td>What other salads can you make?</td>\n",
       "      <td>3.0</td>\n",
       "      <td>Do you need help with anything?</td>\n",
       "      <td>3.0</td>\n",
       "      <td>How did you pick the lunchbox items?</td>\n",
       "      <td>...</td>\n",
       "      <td>3</td>\n",
       "      <td>5</td>\n",
       "      <td>3</td>\n",
       "      <td>5</td>\n",
       "      <td>4</td>\n",
       "      <td>4</td>\n",
       "      <td>6</td>\n",
       "      <td>4</td>\n",
       "      <td>3.4</td>\n",
       "      <td>4.6</td>\n",
       "    </tr>\n",
       "  </tbody>\n",
       "</table>\n",
       "<p>1 rows × 193 columns</p>\n",
       "</div>"
      ],
      "text/plain": [
       "  Participant_ID                      Vid1-Q1  Vid1-Q1-Imp  \\\n",
       "0             p1  What salad were you making?          4.0   \n",
       "\n",
       "                                             Vid1-Q2  Vid1-Q2-Imp  \\\n",
       "0  What ingredients did you put in the salad and ...          4.0   \n",
       "\n",
       "                           Vid1-Q3  Vid1-Q3-Imp  \\\n",
       "0  What other salads can you make?          3.0   \n",
       "\n",
       "                           Vid1-Q4  Vid1-Q4-Imp  \\\n",
       "0  Do you need help with anything?          3.0   \n",
       "\n",
       "                                Vid2-Q1  ...  AttitudesP3 AttitudesP4  \\\n",
       "0  How did you pick the lunchbox items?  ...            3           5   \n",
       "\n",
       "   AttitudesP5 AttitudesS1  AttitudesS2 AttitudesS3  AttitudesS4 AttitudesS5  \\\n",
       "0            3           5            4           4            6           4   \n",
       "\n",
       "   AttitudesAvgP AttitudesAvgS  \n",
       "0            3.4           4.6  \n",
       "\n",
       "[1 rows x 193 columns]"
      ]
     },
     "execution_count": 4,
     "metadata": {},
     "output_type": "execute_result"
    }
   ],
   "source": [
    "df_participants = pd.read_csv(os.path.join(os.getcwd(), 'raw_results.csv'), sep=';', encoding='utf-8')\n",
    "print(\"df lengths (= #participants):\", len(df_participants))\n",
    "df_participants.head(1)"
   ]
  },
  {
   "cell_type": "markdown",
   "id": "1d4b8906",
   "metadata": {},
   "source": [
    "Demographic Details"
   ]
  },
  {
   "cell_type": "code",
   "execution_count": 5,
   "id": "edf74c85",
   "metadata": {},
   "outputs": [
    {
     "name": "stdout",
     "output_type": "stream",
     "text": [
      "StudySubject\n",
      "No     79\n",
      "Yes    21\n",
      "Name: count, dtype: int64\n",
      "--------------------------------------------------\n",
      "RobotProgramming\n",
      "No     96\n",
      "Yes     4\n",
      "Name: count, dtype: int64\n",
      "--------------------------------------------------\n",
      "InteractionExp\n",
      "No     67\n",
      "Yes    33\n",
      "Name: count, dtype: int64\n",
      "--------------------------------------------------\n",
      "RobotExpScale\n",
      "1    40\n",
      "2    15\n",
      "3    21\n",
      "4    10\n",
      "5     9\n",
      "6     3\n",
      "7     2\n",
      "Name: count, dtype: int64\n",
      "--------------------------------------------------\n",
      "AttitudesAvgP\n",
      "1.8     2\n",
      "2.2     1\n",
      "2.4     2\n",
      "2.6     1\n",
      "2.8     3\n",
      "3.0     3\n",
      "3.2     1\n",
      "3.4     6\n",
      "3.6     1\n",
      "3.8     6\n",
      "4.0     6\n",
      "4.2     8\n",
      "4.4    10\n",
      "4.6     6\n",
      "4.8     7\n",
      "5.0     5\n",
      "5.2     2\n",
      "5.4     6\n",
      "5.6     7\n",
      "5.8     1\n",
      "6.0     3\n",
      "6.2     8\n",
      "6.6     2\n",
      "6.8     1\n",
      "7.0     2\n",
      "Name: count, dtype: int64\n",
      "--------------------------------------------------\n",
      "AttitudesAvgS\n",
      "2.8     1\n",
      "3.2     1\n",
      "4.0     2\n",
      "4.2     3\n",
      "4.4     3\n",
      "4.6    10\n",
      "4.8     4\n",
      "5.0     6\n",
      "5.2     6\n",
      "5.4     3\n",
      "5.6    14\n",
      "5.8     4\n",
      "6.0     5\n",
      "6.2    10\n",
      "6.4     5\n",
      "6.6    10\n",
      "6.8     5\n",
      "7.0     8\n",
      "Name: count, dtype: int64\n",
      "--------------------------------------------------\n"
     ]
    }
   ],
   "source": [
    "# value counts of columns \"StudySubject\", \"RobotProgramming\", \"InteractionExp\", \"RobotExpScale\"\n",
    "\n",
    "# \"Ethnicity\", \"Country\", \"Gender\", \"Age\" removed for public version\n",
    "\n",
    "demographic_cols = [\n",
    "    \"StudySubject\", \"RobotProgramming\", \"InteractionExp\", \"RobotExpScale\", \"AttitudesAvgP\", \"AttitudesAvgS\"\n",
    "]\n",
    "\n",
    "for col in demographic_cols:\n",
    "    print(df_participants[col].value_counts().sort_index())\n",
    "    print(\"-\" * 50)"
   ]
  },
  {
   "cell_type": "code",
   "execution_count": 6,
   "id": "dde9850f",
   "metadata": {},
   "outputs": [
    {
     "data": {
      "application/vnd.plotly.v1+json": {
       "config": {
        "plotlyServerURL": "https://plot.ly"
       },
       "data": [
        {
         "hovertemplate": "<b>%{x}</b><br>Count: %{y}<br>% of shown: %{text}<extra></extra>",
         "showlegend": false,
         "textposition": "outside",
         "type": "bar",
         "x": [
          "1",
          "2",
          "3",
          "4",
          "5",
          "6",
          "7"
         ],
         "xaxis": "x",
         "y": {
          "bdata": "KA8VCgkDAg==",
          "dtype": "i1"
         },
         "yaxis": "y"
        },
        {
         "hovertemplate": "<b>%{x}</b><br>Count: %{y}<br>% of shown: %{text}<extra></extra>",
         "showlegend": false,
         "textposition": "outside",
         "type": "bar",
         "x": [
          "1",
          "2",
          "3",
          "4",
          "5",
          "6",
          "7"
         ],
         "xaxis": "x2",
         "y": {
          "bdata": "AgcRJRUOAg==",
          "dtype": "i1"
         },
         "yaxis": "y2"
        },
        {
         "hovertemplate": "<b>%{x}</b><br>Count: %{y}<br>% of shown: %{text}<extra></extra>",
         "showlegend": false,
         "textposition": "outside",
         "type": "bar",
         "x": [
          "2",
          "3",
          "4",
          "5",
          "6",
          "7"
         ],
         "xaxis": "x3",
         "y": {
          "bdata": "AQEWISMI",
          "dtype": "i1"
         },
         "yaxis": "y3"
        },
        {
         "hovertemplate": "<b>%{y}</b><br>Count: %{x}<br>% of shown: %{text}<extra></extra>",
         "orientation": "h",
         "showlegend": false,
         "textposition": "outside",
         "type": "bar",
         "x": {
          "bdata": "BGA=",
          "dtype": "i1"
         },
         "xaxis": "x4",
         "y": [
          "Yes",
          "No"
         ],
         "yaxis": "y4"
        },
        {
         "hovertemplate": "<b>%{y}</b><br>Count: %{x}<br>% of shown: %{text}<extra></extra>",
         "orientation": "h",
         "showlegend": false,
         "textposition": "outside",
         "type": "bar",
         "x": {
          "bdata": "IUM=",
          "dtype": "i1"
         },
         "xaxis": "x5",
         "y": [
          "Yes",
          "No"
         ],
         "yaxis": "y5"
        },
        {
         "hovertemplate": "<b>%{y}</b><br>Count: %{x}<br>% of shown: %{text}<extra></extra>",
         "orientation": "h",
         "showlegend": false,
         "textposition": "outside",
         "type": "bar",
         "x": {
          "bdata": "FU8=",
          "dtype": "i1"
         },
         "xaxis": "x6",
         "y": [
          "Yes",
          "No"
         ],
         "yaxis": "y6"
        }
       ],
       "layout": {
        "annotations": [
         {
          "font": {
           "size": 16
          },
          "showarrow": false,
          "text": "Experience w. Robots",
          "x": 0.06,
          "xanchor": "center",
          "xref": "paper",
          "y": 0.9999999999999999,
          "yanchor": "bottom",
          "yref": "paper",
          "yshift": 10
         },
         {
          "font": {
           "size": 16
          },
          "showarrow": false,
          "text": "Attitudes towards Robots (Personal)",
          "x": 0.27999999999999997,
          "xanchor": "center",
          "xref": "paper",
          "y": 0.9999999999999999,
          "yanchor": "bottom",
          "yref": "paper",
          "yshift": 10
         },
         {
          "font": {
           "size": 16
          },
          "showarrow": false,
          "text": "Attitudes (Societal)",
          "x": 0.5,
          "xanchor": "center",
          "xref": "paper",
          "y": 0.9999999999999999,
          "yanchor": "bottom",
          "yref": "paper",
          "yshift": 10
         },
         {
          "font": {
           "size": 16
          },
          "showarrow": false,
          "text": "Robot Programming Exp.",
          "x": 0.72,
          "xanchor": "center",
          "xref": "paper",
          "y": 0.9999999999999999,
          "yanchor": "bottom",
          "yref": "paper",
          "yshift": 10
         },
         {
          "font": {
           "size": 16
          },
          "showarrow": false,
          "text": "Robot Interaction Exp.",
          "x": 0.94,
          "xanchor": "center",
          "xref": "paper",
          "y": 0.9999999999999999,
          "yanchor": "bottom",
          "yref": "paper",
          "yshift": 10
         },
         {
          "font": {
           "size": 16
          },
          "showarrow": false,
          "text": "Studied CS/Eng.",
          "x": 0.06,
          "xanchor": "center",
          "xref": "paper",
          "y": 0.35,
          "yanchor": "bottom",
          "yref": "paper",
          "yshift": 10
         }
        ],
        "bargap": 0.25,
        "font": {
         "family": "Times New Roman",
         "size": 14
        },
        "height": 480,
        "margin": {
         "b": 40,
         "l": 60,
         "r": 60,
         "t": 60
        },
        "template": {
         "data": {
          "bar": [
           {
            "error_x": {
             "color": "#2a3f5f"
            },
            "error_y": {
             "color": "#2a3f5f"
            },
            "marker": {
             "line": {
              "color": "white",
              "width": 0.5
             },
             "pattern": {
              "fillmode": "overlay",
              "size": 10,
              "solidity": 0.2
             }
            },
            "type": "bar"
           }
          ],
          "barpolar": [
           {
            "marker": {
             "line": {
              "color": "white",
              "width": 0.5
             },
             "pattern": {
              "fillmode": "overlay",
              "size": 10,
              "solidity": 0.2
             }
            },
            "type": "barpolar"
           }
          ],
          "carpet": [
           {
            "aaxis": {
             "endlinecolor": "#2a3f5f",
             "gridcolor": "#C8D4E3",
             "linecolor": "#C8D4E3",
             "minorgridcolor": "#C8D4E3",
             "startlinecolor": "#2a3f5f"
            },
            "baxis": {
             "endlinecolor": "#2a3f5f",
             "gridcolor": "#C8D4E3",
             "linecolor": "#C8D4E3",
             "minorgridcolor": "#C8D4E3",
             "startlinecolor": "#2a3f5f"
            },
            "type": "carpet"
           }
          ],
          "choropleth": [
           {
            "colorbar": {
             "outlinewidth": 0,
             "ticks": ""
            },
            "type": "choropleth"
           }
          ],
          "contour": [
           {
            "colorbar": {
             "outlinewidth": 0,
             "ticks": ""
            },
            "colorscale": [
             [
              0,
              "#0d0887"
             ],
             [
              0.1111111111111111,
              "#46039f"
             ],
             [
              0.2222222222222222,
              "#7201a8"
             ],
             [
              0.3333333333333333,
              "#9c179e"
             ],
             [
              0.4444444444444444,
              "#bd3786"
             ],
             [
              0.5555555555555556,
              "#d8576b"
             ],
             [
              0.6666666666666666,
              "#ed7953"
             ],
             [
              0.7777777777777778,
              "#fb9f3a"
             ],
             [
              0.8888888888888888,
              "#fdca26"
             ],
             [
              1,
              "#f0f921"
             ]
            ],
            "type": "contour"
           }
          ],
          "contourcarpet": [
           {
            "colorbar": {
             "outlinewidth": 0,
             "ticks": ""
            },
            "type": "contourcarpet"
           }
          ],
          "heatmap": [
           {
            "colorbar": {
             "outlinewidth": 0,
             "ticks": ""
            },
            "colorscale": [
             [
              0,
              "#0d0887"
             ],
             [
              0.1111111111111111,
              "#46039f"
             ],
             [
              0.2222222222222222,
              "#7201a8"
             ],
             [
              0.3333333333333333,
              "#9c179e"
             ],
             [
              0.4444444444444444,
              "#bd3786"
             ],
             [
              0.5555555555555556,
              "#d8576b"
             ],
             [
              0.6666666666666666,
              "#ed7953"
             ],
             [
              0.7777777777777778,
              "#fb9f3a"
             ],
             [
              0.8888888888888888,
              "#fdca26"
             ],
             [
              1,
              "#f0f921"
             ]
            ],
            "type": "heatmap"
           }
          ],
          "histogram": [
           {
            "marker": {
             "pattern": {
              "fillmode": "overlay",
              "size": 10,
              "solidity": 0.2
             }
            },
            "type": "histogram"
           }
          ],
          "histogram2d": [
           {
            "colorbar": {
             "outlinewidth": 0,
             "ticks": ""
            },
            "colorscale": [
             [
              0,
              "#0d0887"
             ],
             [
              0.1111111111111111,
              "#46039f"
             ],
             [
              0.2222222222222222,
              "#7201a8"
             ],
             [
              0.3333333333333333,
              "#9c179e"
             ],
             [
              0.4444444444444444,
              "#bd3786"
             ],
             [
              0.5555555555555556,
              "#d8576b"
             ],
             [
              0.6666666666666666,
              "#ed7953"
             ],
             [
              0.7777777777777778,
              "#fb9f3a"
             ],
             [
              0.8888888888888888,
              "#fdca26"
             ],
             [
              1,
              "#f0f921"
             ]
            ],
            "type": "histogram2d"
           }
          ],
          "histogram2dcontour": [
           {
            "colorbar": {
             "outlinewidth": 0,
             "ticks": ""
            },
            "colorscale": [
             [
              0,
              "#0d0887"
             ],
             [
              0.1111111111111111,
              "#46039f"
             ],
             [
              0.2222222222222222,
              "#7201a8"
             ],
             [
              0.3333333333333333,
              "#9c179e"
             ],
             [
              0.4444444444444444,
              "#bd3786"
             ],
             [
              0.5555555555555556,
              "#d8576b"
             ],
             [
              0.6666666666666666,
              "#ed7953"
             ],
             [
              0.7777777777777778,
              "#fb9f3a"
             ],
             [
              0.8888888888888888,
              "#fdca26"
             ],
             [
              1,
              "#f0f921"
             ]
            ],
            "type": "histogram2dcontour"
           }
          ],
          "mesh3d": [
           {
            "colorbar": {
             "outlinewidth": 0,
             "ticks": ""
            },
            "type": "mesh3d"
           }
          ],
          "parcoords": [
           {
            "line": {
             "colorbar": {
              "outlinewidth": 0,
              "ticks": ""
             }
            },
            "type": "parcoords"
           }
          ],
          "pie": [
           {
            "automargin": true,
            "type": "pie"
           }
          ],
          "scatter": [
           {
            "fillpattern": {
             "fillmode": "overlay",
             "size": 10,
             "solidity": 0.2
            },
            "type": "scatter"
           }
          ],
          "scatter3d": [
           {
            "line": {
             "colorbar": {
              "outlinewidth": 0,
              "ticks": ""
             }
            },
            "marker": {
             "colorbar": {
              "outlinewidth": 0,
              "ticks": ""
             }
            },
            "type": "scatter3d"
           }
          ],
          "scattercarpet": [
           {
            "marker": {
             "colorbar": {
              "outlinewidth": 0,
              "ticks": ""
             }
            },
            "type": "scattercarpet"
           }
          ],
          "scattergeo": [
           {
            "marker": {
             "colorbar": {
              "outlinewidth": 0,
              "ticks": ""
             }
            },
            "type": "scattergeo"
           }
          ],
          "scattergl": [
           {
            "marker": {
             "colorbar": {
              "outlinewidth": 0,
              "ticks": ""
             }
            },
            "type": "scattergl"
           }
          ],
          "scattermap": [
           {
            "marker": {
             "colorbar": {
              "outlinewidth": 0,
              "ticks": ""
             }
            },
            "type": "scattermap"
           }
          ],
          "scattermapbox": [
           {
            "marker": {
             "colorbar": {
              "outlinewidth": 0,
              "ticks": ""
             }
            },
            "type": "scattermapbox"
           }
          ],
          "scatterpolar": [
           {
            "marker": {
             "colorbar": {
              "outlinewidth": 0,
              "ticks": ""
             }
            },
            "type": "scatterpolar"
           }
          ],
          "scatterpolargl": [
           {
            "marker": {
             "colorbar": {
              "outlinewidth": 0,
              "ticks": ""
             }
            },
            "type": "scatterpolargl"
           }
          ],
          "scatterternary": [
           {
            "marker": {
             "colorbar": {
              "outlinewidth": 0,
              "ticks": ""
             }
            },
            "type": "scatterternary"
           }
          ],
          "surface": [
           {
            "colorbar": {
             "outlinewidth": 0,
             "ticks": ""
            },
            "colorscale": [
             [
              0,
              "#0d0887"
             ],
             [
              0.1111111111111111,
              "#46039f"
             ],
             [
              0.2222222222222222,
              "#7201a8"
             ],
             [
              0.3333333333333333,
              "#9c179e"
             ],
             [
              0.4444444444444444,
              "#bd3786"
             ],
             [
              0.5555555555555556,
              "#d8576b"
             ],
             [
              0.6666666666666666,
              "#ed7953"
             ],
             [
              0.7777777777777778,
              "#fb9f3a"
             ],
             [
              0.8888888888888888,
              "#fdca26"
             ],
             [
              1,
              "#f0f921"
             ]
            ],
            "type": "surface"
           }
          ],
          "table": [
           {
            "cells": {
             "fill": {
              "color": "#EBF0F8"
             },
             "line": {
              "color": "white"
             }
            },
            "header": {
             "fill": {
              "color": "#C8D4E3"
             },
             "line": {
              "color": "white"
             }
            },
            "type": "table"
           }
          ]
         },
         "layout": {
          "annotationdefaults": {
           "arrowcolor": "#2a3f5f",
           "arrowhead": 0,
           "arrowwidth": 1
          },
          "autotypenumbers": "strict",
          "coloraxis": {
           "colorbar": {
            "outlinewidth": 0,
            "ticks": ""
           }
          },
          "colorscale": {
           "diverging": [
            [
             0,
             "#8e0152"
            ],
            [
             0.1,
             "#c51b7d"
            ],
            [
             0.2,
             "#de77ae"
            ],
            [
             0.3,
             "#f1b6da"
            ],
            [
             0.4,
             "#fde0ef"
            ],
            [
             0.5,
             "#f7f7f7"
            ],
            [
             0.6,
             "#e6f5d0"
            ],
            [
             0.7,
             "#b8e186"
            ],
            [
             0.8,
             "#7fbc41"
            ],
            [
             0.9,
             "#4d9221"
            ],
            [
             1,
             "#276419"
            ]
           ],
           "sequential": [
            [
             0,
             "#0d0887"
            ],
            [
             0.1111111111111111,
             "#46039f"
            ],
            [
             0.2222222222222222,
             "#7201a8"
            ],
            [
             0.3333333333333333,
             "#9c179e"
            ],
            [
             0.4444444444444444,
             "#bd3786"
            ],
            [
             0.5555555555555556,
             "#d8576b"
            ],
            [
             0.6666666666666666,
             "#ed7953"
            ],
            [
             0.7777777777777778,
             "#fb9f3a"
            ],
            [
             0.8888888888888888,
             "#fdca26"
            ],
            [
             1,
             "#f0f921"
            ]
           ],
           "sequentialminus": [
            [
             0,
             "#0d0887"
            ],
            [
             0.1111111111111111,
             "#46039f"
            ],
            [
             0.2222222222222222,
             "#7201a8"
            ],
            [
             0.3333333333333333,
             "#9c179e"
            ],
            [
             0.4444444444444444,
             "#bd3786"
            ],
            [
             0.5555555555555556,
             "#d8576b"
            ],
            [
             0.6666666666666666,
             "#ed7953"
            ],
            [
             0.7777777777777778,
             "#fb9f3a"
            ],
            [
             0.8888888888888888,
             "#fdca26"
            ],
            [
             1,
             "#f0f921"
            ]
           ]
          },
          "colorway": [
           "#636efa",
           "#EF553B",
           "#00cc96",
           "#ab63fa",
           "#FFA15A",
           "#19d3f3",
           "#FF6692",
           "#B6E880",
           "#FF97FF",
           "#FECB52"
          ],
          "font": {
           "color": "#2a3f5f"
          },
          "geo": {
           "bgcolor": "white",
           "lakecolor": "white",
           "landcolor": "white",
           "showlakes": true,
           "showland": true,
           "subunitcolor": "#C8D4E3"
          },
          "hoverlabel": {
           "align": "left"
          },
          "hovermode": "closest",
          "mapbox": {
           "style": "light"
          },
          "paper_bgcolor": "white",
          "plot_bgcolor": "white",
          "polar": {
           "angularaxis": {
            "gridcolor": "#EBF0F8",
            "linecolor": "#EBF0F8",
            "ticks": ""
           },
           "bgcolor": "white",
           "radialaxis": {
            "gridcolor": "#EBF0F8",
            "linecolor": "#EBF0F8",
            "ticks": ""
           }
          },
          "scene": {
           "xaxis": {
            "backgroundcolor": "white",
            "gridcolor": "#DFE8F3",
            "gridwidth": 2,
            "linecolor": "#EBF0F8",
            "showbackground": true,
            "ticks": "",
            "zerolinecolor": "#EBF0F8"
           },
           "yaxis": {
            "backgroundcolor": "white",
            "gridcolor": "#DFE8F3",
            "gridwidth": 2,
            "linecolor": "#EBF0F8",
            "showbackground": true,
            "ticks": "",
            "zerolinecolor": "#EBF0F8"
           },
           "zaxis": {
            "backgroundcolor": "white",
            "gridcolor": "#DFE8F3",
            "gridwidth": 2,
            "linecolor": "#EBF0F8",
            "showbackground": true,
            "ticks": "",
            "zerolinecolor": "#EBF0F8"
           }
          },
          "shapedefaults": {
           "line": {
            "color": "#2a3f5f"
           }
          },
          "ternary": {
           "aaxis": {
            "gridcolor": "#DFE8F3",
            "linecolor": "#A2B1C6",
            "ticks": ""
           },
           "baxis": {
            "gridcolor": "#DFE8F3",
            "linecolor": "#A2B1C6",
            "ticks": ""
           },
           "bgcolor": "white",
           "caxis": {
            "gridcolor": "#DFE8F3",
            "linecolor": "#A2B1C6",
            "ticks": ""
           }
          },
          "title": {
           "x": 0.05
          },
          "xaxis": {
           "automargin": true,
           "gridcolor": "#EBF0F8",
           "linecolor": "#EBF0F8",
           "ticks": "",
           "title": {
            "standoff": 15
           },
           "zerolinecolor": "#EBF0F8",
           "zerolinewidth": 2
          },
          "yaxis": {
           "automargin": true,
           "gridcolor": "#EBF0F8",
           "linecolor": "#EBF0F8",
           "ticks": "",
           "title": {
            "standoff": 15
           },
           "zerolinecolor": "#EBF0F8",
           "zerolinewidth": 2
          }
         }
        },
        "width": 1200,
        "xaxis": {
         "anchor": "y",
         "domain": [
          0,
          0.12
         ],
         "tickangle": 0,
         "title": {
          "text": "Score"
         }
        },
        "xaxis10": {
         "anchor": "y10",
         "domain": [
          0.88,
          1
         ]
        },
        "xaxis2": {
         "anchor": "y2",
         "domain": [
          0.22,
          0.33999999999999997
         ],
         "tickangle": 0,
         "title": {
          "text": "Score"
         }
        },
        "xaxis3": {
         "anchor": "y3",
         "domain": [
          0.44,
          0.56
         ],
         "tickangle": 0,
         "title": {
          "text": "Score"
         }
        },
        "xaxis4": {
         "anchor": "y4",
         "domain": [
          0.66,
          0.78
         ],
         "title": {
          "text": "Count"
         }
        },
        "xaxis5": {
         "anchor": "y5",
         "domain": [
          0.88,
          1
         ],
         "title": {
          "text": "Count"
         }
        },
        "xaxis6": {
         "anchor": "y6",
         "domain": [
          0,
          0.12
         ],
         "title": {
          "text": "Count"
         }
        },
        "xaxis7": {
         "anchor": "y7",
         "domain": [
          0.22,
          0.33999999999999997
         ]
        },
        "xaxis8": {
         "anchor": "y8",
         "domain": [
          0.44,
          0.56
         ]
        },
        "xaxis9": {
         "anchor": "y9",
         "domain": [
          0.66,
          0.78
         ]
        },
        "yaxis": {
         "anchor": "x",
         "domain": [
          0.6499999999999999,
          0.9999999999999999
         ],
         "title": {
          "text": "Count"
         }
        },
        "yaxis10": {
         "anchor": "x10",
         "domain": [
          0,
          0.35
         ]
        },
        "yaxis2": {
         "anchor": "x2",
         "domain": [
          0.6499999999999999,
          0.9999999999999999
         ],
         "title": {
          "text": "Count"
         }
        },
        "yaxis3": {
         "anchor": "x3",
         "domain": [
          0.6499999999999999,
          0.9999999999999999
         ],
         "title": {
          "text": "Count"
         }
        },
        "yaxis4": {
         "anchor": "x4",
         "domain": [
          0.6499999999999999,
          0.9999999999999999
         ]
        },
        "yaxis5": {
         "anchor": "x5",
         "domain": [
          0.6499999999999999,
          0.9999999999999999
         ]
        },
        "yaxis6": {
         "anchor": "x6",
         "domain": [
          0,
          0.35
         ]
        },
        "yaxis7": {
         "anchor": "x7",
         "domain": [
          0,
          0.35
         ]
        },
        "yaxis8": {
         "anchor": "x8",
         "domain": [
          0,
          0.35
         ]
        },
        "yaxis9": {
         "anchor": "x9",
         "domain": [
          0,
          0.35
         ]
        }
       }
      }
     },
     "metadata": {},
     "output_type": "display_data"
    }
   ],
   "source": [
    "# Plotly collage of participant attributes from df_participants \n",
    "\n",
    "numeric_cols = [\"RobotExpScale\", \"AttitudesAvgP\", \"AttitudesAvgS\"]\n",
    "categorical_cols = [\"RobotProgramming\", \"InteractionExp\", \"StudySubject\"]\n",
    "\n",
    "# Pretty display names \n",
    "pretty_names = {\n",
    "    \"RobotProgramming\": \"Robot Programming Exp.\",\n",
    "    \"InteractionExp\": \"Robot Interaction Exp.\",\n",
    "    \"RobotExpScale\": \"Experience w. Robots\",\n",
    "    \"AttitudesAvgP\": \"Attitudes towards Robots (Personal)\",\n",
    "    \"AttitudesAvgS\": \"Attitudes (Societal)\",\n",
    "    \"StudySubject\": \"Studied CS/Eng.\",\n",
    "}\n",
    "\n",
    "axis_names = {\n",
    "    \"RobotProgramming\": \"Score\",\n",
    "    \"InteractionExp\": \"Score\",\n",
    "    \"RobotExpScale\": \"Score\",\n",
    "    \"AttitudesAvgP\": \"Score\",\n",
    "    \"AttitudesAvgS\": \"Score\",\n",
    "    \"StudySubject\": \"Studied CS/Eng.\",\n",
    "}\n",
    "\n",
    "# ---- Tunable aesthetics/logic ----\n",
    "COLS_PER_ROW = 5\n",
    "FIG_WIDTH = 1200\n",
    "ROW_HEIGHT = 240  \n",
    "FONT_FAMILY = \"Times New Roman\"  \n",
    "TITLE_SIZE = 16\n",
    "AXIS_SIZE = 14\n",
    "TICK_SIZE = 16\n",
    "BARGAP = 0.25\n",
    "\n",
    "# For very busy categoricals, keep Top-N and collapse the rest into \"Other\"\n",
    "TOP_N = {\"CountryText\": 15, \"StudySubject\": 15}\n",
    "MISSING_LABEL = \"Missing\"\n",
    "\n",
    "BIN_AGE = True\n",
    "AGE_BIN_WIDTH = 5  # years\n",
    "\n",
    "\n",
    "available_numeric = [c for c in numeric_cols if c in df_participants.columns]\n",
    "available_categorical = [c for c in categorical_cols if c in df_participants.columns]\n",
    "all_cols = available_numeric + available_categorical\n",
    "assert len(all_cols) > 0, \"None of the specified columns are present in df_participants.\"\n",
    "\n",
    "# ---- Helpers ----\n",
    "def counts_numeric(series: pd.Series):\n",
    "    s = pd.to_numeric(series, errors=\"coerce\").dropna()\n",
    "    if series.name == \"Age\" and BIN_AGE and s.nunique() > 20:\n",
    "        lo, hi = int(np.floor(s.min())), int(np.ceil(s.max()))\n",
    "        bins = np.arange(lo, hi + AGE_BIN_WIDTH, AGE_BIN_WIDTH)\n",
    "        binned = pd.cut(s, bins=bins, right=False)\n",
    "        counts = binned.value_counts().sort_index()\n",
    "        labels = [f\"{int(iv.left)}–{int(iv.right-1)}\" for iv in counts.index]  # [18–22] style\n",
    "        vals = counts.values\n",
    "        return labels, vals\n",
    "    # discrete integers\n",
    "    s = s.astype(int)\n",
    "    vc = s.value_counts().sort_index()\n",
    "    return vc.index.astype(str).tolist(), vc.values\n",
    "\n",
    "def counts_categorical(series: pd.Series, top_n: int | None = None):\n",
    "    s = series.fillna(MISSING_LABEL).astype(str).str.strip()\n",
    "    vc = s.value_counts()\n",
    "    if top_n is not None and len(vc) > top_n:\n",
    "        top = vc.iloc[: top_n - 1]\n",
    "        other = pd.Series({\"Other\": vc.iloc[top_n - 1 :].sum()})\n",
    "        vc = pd.concat([top, other])\n",
    "    # For horizontal bar with largest at top, sort ascending (smallest bottom, largest top)\n",
    "    vc = vc.sort_values(ascending=True)\n",
    "    return vc.index.tolist(), vc.values\n",
    "\n",
    "def add_bar_numeric(fig, row, col, name, x_labels, y_vals):\n",
    "    total = np.sum(y_vals) if len(y_vals) else 0\n",
    "    perc = (100 * y_vals / total) if total else np.zeros_like(y_vals)\n",
    "    fig.add_trace(\n",
    "        go.Bar(\n",
    "            x=x_labels,\n",
    "            y=y_vals,\n",
    "            text=None, # [f\"{v} ({p:.1f}%)\" for v, p in zip(y_vals, perc)],\n",
    "            textposition=\"outside\",\n",
    "            hovertemplate=\"<b>%{x}</b><br>Count: %{y}<br>% of shown: %{text}<extra></extra>\",\n",
    "            showlegend=False,\n",
    "        ),\n",
    "        row=row, col=col,\n",
    "    )\n",
    "    fig.update_xaxes(title_text=axis_names.get(name, name), row=row, col=col, tickangle=-45 if len(x_labels) > 10 else 0)\n",
    "    fig.update_yaxes(title_text=\"Count\", row=row, col=col)\n",
    "\n",
    "def add_bar_categorical(fig, row, col, name, y_labels, x_vals):\n",
    "    total = np.sum(x_vals) if len(x_vals) else 0\n",
    "    perc = (100 * x_vals / total) if total else np.zeros_like(x_vals)\n",
    "    fig.add_trace(\n",
    "        go.Bar(\n",
    "            x=x_vals,\n",
    "            y=y_labels,\n",
    "            orientation=\"h\",\n",
    "            text=None,# [f\"{v} ({p:.1f}%)\" for v, p in zip(x_vals, perc)],\n",
    "            textposition=\"outside\",\n",
    "            hovertemplate=\"<b>%{y}</b><br>Count: %{x}<br>% of shown: %{text}<extra></extra>\",\n",
    "            showlegend=False,\n",
    "        ),\n",
    "        row=row, col=col,\n",
    "    )\n",
    "    fig.update_xaxes(title_text=\"Count\", row=row, col=col)\n",
    "\n",
    "# ---- Build subplot grid ----\n",
    "n_plots = len(all_cols)\n",
    "rows = math.ceil(n_plots / COLS_PER_ROW)\n",
    "\n",
    "fig = make_subplots(\n",
    "    rows=rows,\n",
    "    cols=COLS_PER_ROW,\n",
    "    subplot_titles=[pretty_names.get(c, c) for c in all_cols],\n",
    "    horizontal_spacing=0.1,\n",
    "    vertical_spacing=0.30,\n",
    ")\n",
    "\n",
    "# ---- Add traces ----\n",
    "i = 0\n",
    "for col in all_cols:\n",
    "    r = i // COLS_PER_ROW + 1\n",
    "    c = i % COLS_PER_ROW + 1\n",
    "    if col in available_numeric:\n",
    "        x_labels, y_vals = counts_numeric(df_participants[col])\n",
    "        add_bar_numeric(fig, r, c, col, x_labels, y_vals)\n",
    "    else:\n",
    "        top_n = TOP_N.get(col)  # None unless configured above\n",
    "        y_labels, x_vals = counts_categorical(df_participants[col], top_n=top_n)\n",
    "        add_bar_categorical(fig, r, c, col, y_labels, x_vals)\n",
    "    i += 1\n",
    "\n",
    "# ---- Layout ----\n",
    "fig.update_layout(\n",
    "    template=\"plotly_white\",\n",
    "    height=rows * ROW_HEIGHT,\n",
    "    width=FIG_WIDTH,\n",
    "    bargap=BARGAP,\n",
    "    font=dict(family=FONT_FAMILY, size=AXIS_SIZE),\n",
    "    margin=dict(l=60, r=60, t=60, b=40),\n",
    ")\n",
    "fig.update_annotations(yshift=10)\n",
    "for ann in fig.layout.annotations:\n",
    "    ann.font.size = TITLE_SIZE\n",
    "\n",
    "fig.show()\n",
    "\n",
    "# save as pdf\n",
    "fig.write_image(\n",
    "    os.path.join(os.getcwd(), \"plots/user_distribution.pdf\"),\n",
    "    width=FIG_WIDTH,\n",
    "    height=rows * ROW_HEIGHT,\n",
    ")\n"
   ]
  },
  {
   "cell_type": "markdown",
   "id": "51cac980",
   "metadata": {},
   "source": [
    "# RQ1: Question Categories\n",
    "\n",
    "Three category visualizations that help with understanding the distribution of question types in the dataset\n",
    "- a sunburst chart\n",
    "- a treemap\n",
    "- a sankey diagram"
   ]
  },
  {
   "cell_type": "code",
   "execution_count": 7,
   "id": "656b0b07",
   "metadata": {},
   "outputs": [
    {
     "data": {
      "application/vnd.plotly.v1+json": {
       "config": {
        "plotlyServerURL": "https://plot.ly"
       },
       "data": [
        {
         "branchvalues": "total",
         "domain": {
          "x": [
           0,
           1
          ],
          "y": [
           0,
           1
          ]
         },
         "hovertemplate": "labels=%{label}<br>count=%{value}<br>parent=%{parent}<br>id=%{id}<extra></extra>",
         "ids": [
          "execution-details/what-goal",
          "environment-state/object-properties",
          "how-did-you-know/goal-properties",
          "why/why-not-extra",
          "future-actions/what-next",
          "why/why-did-you",
          "time/how-long",
          "execution-details/what-objects",
          "self/task-assessment/performance",
          "how-did-you-decide/goal-properties",
          "what-abilities/ability-modification",
          "how-did-you-know/goal-objects",
          "why/why-action-order",
          "self/task-assessment/difficulty",
          "execution-details/what-quantity",
          "self/task-assessment/success",
          "mental-state/ideas",
          "what-abilities/extra-ability",
          "why/why-not-alternative",
          "potential-issues/what-if",
          "what-abilities/ability-list",
          "self/task-assessment/correctness",
          "potential-issues/how-to-ensure-correctness",
          "what-abilities/ability-limits",
          "self/task-assessment/problems",
          "mental-state/emotions",
          "mental-state/opinion/likes",
          "future-actions/what-needs-to-be-done",
          "how-did-you-know/goal-achieved",
          "why/why-issues",
          "future-actions/assistance-need",
          "environment-state/availability",
          "mental-state/check-understanding/beliefs",
          "how-did-you-decide/goal-objects",
          "execution-details/how-was-it-done",
          "execution-details/what-options",
          "execution-details/what-action-order",
          "how-did-you-decide/action-order",
          "self/task-assessment/did-you-ensure",
          "technical-details/who-has-control",
          "environment-state/people",
          "how-did-you-decide/task-allocation",
          "execution-details/what-location",
          "self/task-assessment/confidence",
          "technical-details/what-model",
          "how-did-you-know/steps-to-take",
          "technical-details/how-does-it-work",
          "how-did-you-know/object-properties",
          "time/at-what-time",
          "execution-details/what-actions",
          "how-did-you-decide/task-priority",
          "time/task-count-within-time",
          "how-did-you-know/task-priority",
          "how-did-you-decide/goal-achieved",
          "potential-issues/does-it-happen-that",
          "how-did-you-decide/steps-to-take",
          "environment-state/advice",
          "future-actions/requirements",
          "what-abilities/ability-to-learn",
          "mental-state/preferences",
          "future-actions/how-to-improve",
          "time/frequency",
          "mental-state/relationships",
          "environment-state/pets",
          "technical-details/hardware",
          "self/task-assessment/safety",
          "technical-details/costs",
          "execution-details/goal-origin",
          "mental-state/inner-thoughts",
          "technical-details/battery-status",
          "mental-state/desires",
          "execution-details/report-unusual-events",
          "mental-state/small-talk",
          "execution-details/failure-details",
          "mental-state/what-did-you-learn",
          "time/compare-task-lenghts",
          "how-did-you-decide/object-properties",
          "execution-details",
          "environment-state",
          "how-did-you-know",
          "why",
          "future-actions",
          "time",
          "self/task-assessment",
          "how-did-you-decide",
          "what-abilities",
          "mental-state",
          "potential-issues",
          "technical-details"
         ],
         "insidetextorientation": "radial",
         "labels": [
          "what-goal",
          "object-properties",
          "goal-properties",
          "why-not-extra",
          "what-next",
          "why-did-you",
          "how-long",
          "what-objects",
          "performance",
          "goal-properties",
          "ability-modification",
          "goal-objects",
          "why-action-order",
          "difficulty",
          "what-quantity",
          "success",
          "ideas",
          "extra-ability",
          "why-not-alternative",
          "what-if",
          "ability-list",
          "correctness",
          "how-to-ensure-correctness",
          "ability-limits",
          "problems",
          "emotions",
          "opinion/likes",
          "what-needs-to-be-done",
          "goal-achieved",
          "why-issues",
          "assistance-need",
          "availability",
          "check-understanding/beliefs",
          "goal-objects",
          "how-was-it-done",
          "what-options",
          "what-action-order",
          "action-order",
          "did-you-ensure",
          "who-has-control",
          "people",
          "task-allocation",
          "what-location",
          "confidence",
          "what-model",
          "steps-to-take",
          "how-does-it-work",
          "object-properties",
          "at-what-time",
          "what-actions",
          "task-priority",
          "task-count-within-time",
          "task-priority",
          "goal-achieved",
          "does-it-happen-that",
          "steps-to-take",
          "advice",
          "requirements",
          "ability-to-learn",
          "preferences",
          "how-to-improve",
          "frequency",
          "relationships",
          "pets",
          "hardware",
          "safety",
          "costs",
          "goal-origin",
          "inner-thoughts",
          "battery-status",
          "desires",
          "report-unusual-events",
          "small-talk",
          "failure-details",
          "what-did-you-learn",
          "compare-task-lenghts",
          "object-properties",
          "execution-details",
          "environment-state",
          "how-did-you-know",
          "why",
          "future-actions",
          "time",
          "self/task-assessment",
          "how-did-you-decide",
          "what-abilities",
          "mental-state",
          "potential-issues",
          "technical-details"
         ],
         "name": "",
         "parents": [
          "execution-details",
          "environment-state",
          "how-did-you-know",
          "why",
          "future-actions",
          "why",
          "time",
          "execution-details",
          "self/task-assessment",
          "how-did-you-decide",
          "what-abilities",
          "how-did-you-know",
          "why",
          "self/task-assessment",
          "execution-details",
          "self/task-assessment",
          "mental-state",
          "what-abilities",
          "why",
          "potential-issues",
          "what-abilities",
          "self/task-assessment",
          "potential-issues",
          "what-abilities",
          "self/task-assessment",
          "mental-state",
          "mental-state",
          "future-actions",
          "how-did-you-know",
          "why",
          "future-actions",
          "environment-state",
          "mental-state",
          "how-did-you-decide",
          "execution-details",
          "execution-details",
          "execution-details",
          "how-did-you-decide",
          "self/task-assessment",
          "technical-details",
          "environment-state",
          "how-did-you-decide",
          "execution-details",
          "self/task-assessment",
          "technical-details",
          "how-did-you-know",
          "technical-details",
          "how-did-you-know",
          "time",
          "execution-details",
          "how-did-you-decide",
          "time",
          "how-did-you-know",
          "how-did-you-decide",
          "potential-issues",
          "how-did-you-decide",
          "environment-state",
          "future-actions",
          "what-abilities",
          "mental-state",
          "future-actions",
          "time",
          "mental-state",
          "environment-state",
          "technical-details",
          "self/task-assessment",
          "technical-details",
          "execution-details",
          "mental-state",
          "technical-details",
          "mental-state",
          "execution-details",
          "mental-state",
          "execution-details",
          "mental-state",
          "time",
          "how-did-you-decide",
          "",
          "",
          "",
          "",
          "",
          "",
          "",
          "",
          "",
          "",
          "",
          ""
         ],
         "textinfo": "label+value",
         "texttemplate": "%{label}<br>%{value}",
         "type": "sunburst",
         "values": {
          "bdata": "EABrACEAFQAdAFcAVgBdAB8AIQA/AA0AFwAuACQAEAAFAIEAIQBNAB8AJgAlABEAFQAmAAcAJQAjABoADAAWADoAGAA2AAMABQAHACsACgAMAAIALQAKAAIADwAeABwAGgCAABMABwABAAkABAAGAAMABAAFAAIAAQAGAAIADQABAAQAAQADAAIACAACAAoAAQAYAAMAAQAGAKEBnQB9AL4AUwB+ANEAagD1AHgAdgA0AA==",
          "dtype": "i2"
         }
        }
       ],
       "layout": {
        "height": 800,
        "legend": {
         "tracegroupgap": 0
        },
        "margin": {
         "b": 0,
         "l": 0,
         "r": 0,
         "t": 0
        },
        "template": {
         "data": {
          "bar": [
           {
            "error_x": {
             "color": "#2a3f5f"
            },
            "error_y": {
             "color": "#2a3f5f"
            },
            "marker": {
             "line": {
              "color": "#E5ECF6",
              "width": 0.5
             },
             "pattern": {
              "fillmode": "overlay",
              "size": 10,
              "solidity": 0.2
             }
            },
            "type": "bar"
           }
          ],
          "barpolar": [
           {
            "marker": {
             "line": {
              "color": "#E5ECF6",
              "width": 0.5
             },
             "pattern": {
              "fillmode": "overlay",
              "size": 10,
              "solidity": 0.2
             }
            },
            "type": "barpolar"
           }
          ],
          "carpet": [
           {
            "aaxis": {
             "endlinecolor": "#2a3f5f",
             "gridcolor": "white",
             "linecolor": "white",
             "minorgridcolor": "white",
             "startlinecolor": "#2a3f5f"
            },
            "baxis": {
             "endlinecolor": "#2a3f5f",
             "gridcolor": "white",
             "linecolor": "white",
             "minorgridcolor": "white",
             "startlinecolor": "#2a3f5f"
            },
            "type": "carpet"
           }
          ],
          "choropleth": [
           {
            "colorbar": {
             "outlinewidth": 0,
             "ticks": ""
            },
            "type": "choropleth"
           }
          ],
          "contour": [
           {
            "colorbar": {
             "outlinewidth": 0,
             "ticks": ""
            },
            "colorscale": [
             [
              0,
              "#0d0887"
             ],
             [
              0.1111111111111111,
              "#46039f"
             ],
             [
              0.2222222222222222,
              "#7201a8"
             ],
             [
              0.3333333333333333,
              "#9c179e"
             ],
             [
              0.4444444444444444,
              "#bd3786"
             ],
             [
              0.5555555555555556,
              "#d8576b"
             ],
             [
              0.6666666666666666,
              "#ed7953"
             ],
             [
              0.7777777777777778,
              "#fb9f3a"
             ],
             [
              0.8888888888888888,
              "#fdca26"
             ],
             [
              1,
              "#f0f921"
             ]
            ],
            "type": "contour"
           }
          ],
          "contourcarpet": [
           {
            "colorbar": {
             "outlinewidth": 0,
             "ticks": ""
            },
            "type": "contourcarpet"
           }
          ],
          "heatmap": [
           {
            "colorbar": {
             "outlinewidth": 0,
             "ticks": ""
            },
            "colorscale": [
             [
              0,
              "#0d0887"
             ],
             [
              0.1111111111111111,
              "#46039f"
             ],
             [
              0.2222222222222222,
              "#7201a8"
             ],
             [
              0.3333333333333333,
              "#9c179e"
             ],
             [
              0.4444444444444444,
              "#bd3786"
             ],
             [
              0.5555555555555556,
              "#d8576b"
             ],
             [
              0.6666666666666666,
              "#ed7953"
             ],
             [
              0.7777777777777778,
              "#fb9f3a"
             ],
             [
              0.8888888888888888,
              "#fdca26"
             ],
             [
              1,
              "#f0f921"
             ]
            ],
            "type": "heatmap"
           }
          ],
          "histogram": [
           {
            "marker": {
             "pattern": {
              "fillmode": "overlay",
              "size": 10,
              "solidity": 0.2
             }
            },
            "type": "histogram"
           }
          ],
          "histogram2d": [
           {
            "colorbar": {
             "outlinewidth": 0,
             "ticks": ""
            },
            "colorscale": [
             [
              0,
              "#0d0887"
             ],
             [
              0.1111111111111111,
              "#46039f"
             ],
             [
              0.2222222222222222,
              "#7201a8"
             ],
             [
              0.3333333333333333,
              "#9c179e"
             ],
             [
              0.4444444444444444,
              "#bd3786"
             ],
             [
              0.5555555555555556,
              "#d8576b"
             ],
             [
              0.6666666666666666,
              "#ed7953"
             ],
             [
              0.7777777777777778,
              "#fb9f3a"
             ],
             [
              0.8888888888888888,
              "#fdca26"
             ],
             [
              1,
              "#f0f921"
             ]
            ],
            "type": "histogram2d"
           }
          ],
          "histogram2dcontour": [
           {
            "colorbar": {
             "outlinewidth": 0,
             "ticks": ""
            },
            "colorscale": [
             [
              0,
              "#0d0887"
             ],
             [
              0.1111111111111111,
              "#46039f"
             ],
             [
              0.2222222222222222,
              "#7201a8"
             ],
             [
              0.3333333333333333,
              "#9c179e"
             ],
             [
              0.4444444444444444,
              "#bd3786"
             ],
             [
              0.5555555555555556,
              "#d8576b"
             ],
             [
              0.6666666666666666,
              "#ed7953"
             ],
             [
              0.7777777777777778,
              "#fb9f3a"
             ],
             [
              0.8888888888888888,
              "#fdca26"
             ],
             [
              1,
              "#f0f921"
             ]
            ],
            "type": "histogram2dcontour"
           }
          ],
          "mesh3d": [
           {
            "colorbar": {
             "outlinewidth": 0,
             "ticks": ""
            },
            "type": "mesh3d"
           }
          ],
          "parcoords": [
           {
            "line": {
             "colorbar": {
              "outlinewidth": 0,
              "ticks": ""
             }
            },
            "type": "parcoords"
           }
          ],
          "pie": [
           {
            "automargin": true,
            "type": "pie"
           }
          ],
          "scatter": [
           {
            "fillpattern": {
             "fillmode": "overlay",
             "size": 10,
             "solidity": 0.2
            },
            "type": "scatter"
           }
          ],
          "scatter3d": [
           {
            "line": {
             "colorbar": {
              "outlinewidth": 0,
              "ticks": ""
             }
            },
            "marker": {
             "colorbar": {
              "outlinewidth": 0,
              "ticks": ""
             }
            },
            "type": "scatter3d"
           }
          ],
          "scattercarpet": [
           {
            "marker": {
             "colorbar": {
              "outlinewidth": 0,
              "ticks": ""
             }
            },
            "type": "scattercarpet"
           }
          ],
          "scattergeo": [
           {
            "marker": {
             "colorbar": {
              "outlinewidth": 0,
              "ticks": ""
             }
            },
            "type": "scattergeo"
           }
          ],
          "scattergl": [
           {
            "marker": {
             "colorbar": {
              "outlinewidth": 0,
              "ticks": ""
             }
            },
            "type": "scattergl"
           }
          ],
          "scattermap": [
           {
            "marker": {
             "colorbar": {
              "outlinewidth": 0,
              "ticks": ""
             }
            },
            "type": "scattermap"
           }
          ],
          "scattermapbox": [
           {
            "marker": {
             "colorbar": {
              "outlinewidth": 0,
              "ticks": ""
             }
            },
            "type": "scattermapbox"
           }
          ],
          "scatterpolar": [
           {
            "marker": {
             "colorbar": {
              "outlinewidth": 0,
              "ticks": ""
             }
            },
            "type": "scatterpolar"
           }
          ],
          "scatterpolargl": [
           {
            "marker": {
             "colorbar": {
              "outlinewidth": 0,
              "ticks": ""
             }
            },
            "type": "scatterpolargl"
           }
          ],
          "scatterternary": [
           {
            "marker": {
             "colorbar": {
              "outlinewidth": 0,
              "ticks": ""
             }
            },
            "type": "scatterternary"
           }
          ],
          "surface": [
           {
            "colorbar": {
             "outlinewidth": 0,
             "ticks": ""
            },
            "colorscale": [
             [
              0,
              "#0d0887"
             ],
             [
              0.1111111111111111,
              "#46039f"
             ],
             [
              0.2222222222222222,
              "#7201a8"
             ],
             [
              0.3333333333333333,
              "#9c179e"
             ],
             [
              0.4444444444444444,
              "#bd3786"
             ],
             [
              0.5555555555555556,
              "#d8576b"
             ],
             [
              0.6666666666666666,
              "#ed7953"
             ],
             [
              0.7777777777777778,
              "#fb9f3a"
             ],
             [
              0.8888888888888888,
              "#fdca26"
             ],
             [
              1,
              "#f0f921"
             ]
            ],
            "type": "surface"
           }
          ],
          "table": [
           {
            "cells": {
             "fill": {
              "color": "#EBF0F8"
             },
             "line": {
              "color": "white"
             }
            },
            "header": {
             "fill": {
              "color": "#C8D4E3"
             },
             "line": {
              "color": "white"
             }
            },
            "type": "table"
           }
          ]
         },
         "layout": {
          "annotationdefaults": {
           "arrowcolor": "#2a3f5f",
           "arrowhead": 0,
           "arrowwidth": 1
          },
          "autotypenumbers": "strict",
          "coloraxis": {
           "colorbar": {
            "outlinewidth": 0,
            "ticks": ""
           }
          },
          "colorscale": {
           "diverging": [
            [
             0,
             "#8e0152"
            ],
            [
             0.1,
             "#c51b7d"
            ],
            [
             0.2,
             "#de77ae"
            ],
            [
             0.3,
             "#f1b6da"
            ],
            [
             0.4,
             "#fde0ef"
            ],
            [
             0.5,
             "#f7f7f7"
            ],
            [
             0.6,
             "#e6f5d0"
            ],
            [
             0.7,
             "#b8e186"
            ],
            [
             0.8,
             "#7fbc41"
            ],
            [
             0.9,
             "#4d9221"
            ],
            [
             1,
             "#276419"
            ]
           ],
           "sequential": [
            [
             0,
             "#0d0887"
            ],
            [
             0.1111111111111111,
             "#46039f"
            ],
            [
             0.2222222222222222,
             "#7201a8"
            ],
            [
             0.3333333333333333,
             "#9c179e"
            ],
            [
             0.4444444444444444,
             "#bd3786"
            ],
            [
             0.5555555555555556,
             "#d8576b"
            ],
            [
             0.6666666666666666,
             "#ed7953"
            ],
            [
             0.7777777777777778,
             "#fb9f3a"
            ],
            [
             0.8888888888888888,
             "#fdca26"
            ],
            [
             1,
             "#f0f921"
            ]
           ],
           "sequentialminus": [
            [
             0,
             "#0d0887"
            ],
            [
             0.1111111111111111,
             "#46039f"
            ],
            [
             0.2222222222222222,
             "#7201a8"
            ],
            [
             0.3333333333333333,
             "#9c179e"
            ],
            [
             0.4444444444444444,
             "#bd3786"
            ],
            [
             0.5555555555555556,
             "#d8576b"
            ],
            [
             0.6666666666666666,
             "#ed7953"
            ],
            [
             0.7777777777777778,
             "#fb9f3a"
            ],
            [
             0.8888888888888888,
             "#fdca26"
            ],
            [
             1,
             "#f0f921"
            ]
           ]
          },
          "colorway": [
           "#636efa",
           "#EF553B",
           "#00cc96",
           "#ab63fa",
           "#FFA15A",
           "#19d3f3",
           "#FF6692",
           "#B6E880",
           "#FF97FF",
           "#FECB52"
          ],
          "font": {
           "color": "#2a3f5f"
          },
          "geo": {
           "bgcolor": "white",
           "lakecolor": "white",
           "landcolor": "#E5ECF6",
           "showlakes": true,
           "showland": true,
           "subunitcolor": "white"
          },
          "hoverlabel": {
           "align": "left"
          },
          "hovermode": "closest",
          "mapbox": {
           "style": "light"
          },
          "paper_bgcolor": "white",
          "plot_bgcolor": "#E5ECF6",
          "polar": {
           "angularaxis": {
            "gridcolor": "white",
            "linecolor": "white",
            "ticks": ""
           },
           "bgcolor": "#E5ECF6",
           "radialaxis": {
            "gridcolor": "white",
            "linecolor": "white",
            "ticks": ""
           }
          },
          "scene": {
           "xaxis": {
            "backgroundcolor": "#E5ECF6",
            "gridcolor": "white",
            "gridwidth": 2,
            "linecolor": "white",
            "showbackground": true,
            "ticks": "",
            "zerolinecolor": "white"
           },
           "yaxis": {
            "backgroundcolor": "#E5ECF6",
            "gridcolor": "white",
            "gridwidth": 2,
            "linecolor": "white",
            "showbackground": true,
            "ticks": "",
            "zerolinecolor": "white"
           },
           "zaxis": {
            "backgroundcolor": "#E5ECF6",
            "gridcolor": "white",
            "gridwidth": 2,
            "linecolor": "white",
            "showbackground": true,
            "ticks": "",
            "zerolinecolor": "white"
           }
          },
          "shapedefaults": {
           "line": {
            "color": "#2a3f5f"
           }
          },
          "ternary": {
           "aaxis": {
            "gridcolor": "white",
            "linecolor": "white",
            "ticks": ""
           },
           "baxis": {
            "gridcolor": "white",
            "linecolor": "white",
            "ticks": ""
           },
           "bgcolor": "#E5ECF6",
           "caxis": {
            "gridcolor": "white",
            "linecolor": "white",
            "ticks": ""
           }
          },
          "title": {
           "x": 0.05
          },
          "xaxis": {
           "automargin": true,
           "gridcolor": "white",
           "linecolor": "white",
           "ticks": "",
           "title": {
            "standoff": 15
           },
           "zerolinecolor": "white",
           "zerolinewidth": 2
          },
          "yaxis": {
           "automargin": true,
           "gridcolor": "white",
           "linecolor": "white",
           "ticks": "",
           "title": {
            "standoff": 15
           },
           "zerolinecolor": "white",
           "zerolinewidth": 2
          }
         }
        },
        "width": 800
       }
      }
     },
     "metadata": {},
     "output_type": "display_data"
    }
   ],
   "source": [
    "# Sunburst Representation\n",
    "# replace every flavour of \"empty\" with one placeholder\n",
    "df_annotated[\"Subgroup\"] = df_annotated[\"Subgroup\"].replace(\n",
    "    {\"\": \"Other\",         \n",
    "     \"nan\":  \"Other\",       \n",
    "     None: \"Other\"}         \n",
    ")\n",
    "\n",
    "df_annotated = df_annotated.dropna(subset=['Group'])\n",
    "\n",
    "\n",
    "df_annotated[[\"Group\", \"Subgroup\"]] = (\n",
    "    df_annotated[[\"Group\", \"Subgroup\"]]\n",
    "      .apply(lambda col: col.str.split(\",\")\n",
    "                           .apply(lambda lst: [x.strip() for x in lst] \n",
    "                                             if isinstance(lst, list) else lst))\n",
    ")\n",
    "df_annotated = df_annotated.explode([\"Group\", \"Subgroup\"], ignore_index=True)\n",
    "\n",
    "fig = px.sunburst(\n",
    "    df_annotated,                               \n",
    "    path=[\"Group\", \"Subgroup\"],        \n",
    "    values=None                       \n",
    ")\n",
    "fig.update_traces(\n",
    "    textinfo=\"label+value\",                 \n",
    "    texttemplate=\"%{label}<br>%{value}\",    \n",
    "    insidetextorientation=\"radial\"          \n",
    ")\n",
    "fig.update_layout(\n",
    "    margin=dict(t=0, l=0, r=0, b=0),    \n",
    "    width=800,\n",
    "    height=800\n",
    ")\n",
    "fig.show()"
   ]
  },
  {
   "cell_type": "code",
   "execution_count": 8,
   "id": "d5f26088",
   "metadata": {},
   "outputs": [
    {
     "name": "stdout",
     "output_type": "stream",
     "text": [
      "Plan execution-details: 0.35\n",
      "Plan time: 0.10\n",
      "Plan self/task-assessment: 0.10\n",
      "Plan why: 0.08\n",
      "Plan environment-state: 0.08\n",
      "Plan how-did-you-decide: 0.07\n",
      "Plan future-actions: 0.06\n",
      "Plan potential-issues: 0.05\n",
      "Plan what-abilities: 0.04\n",
      "Plan how-did-you-know: 0.04\n",
      "Plan mental-state: 0.03\n",
      "Plan technical-details: 0.02\n",
      "\n",
      "Vid what-abilities: 0.17\n",
      "Vid execution-details: 0.15\n",
      "Vid self/task-assessment: 0.11\n",
      "Vid why: 0.11\n",
      "Vid environment-state: 0.08\n",
      "Vid how-did-you-know: 0.08\n",
      "Vid mental-state: 0.08\n",
      "Vid potential-issues: 0.07\n",
      "Vid time: 0.05\n",
      "Vid how-did-you-decide: 0.04\n",
      "Vid future-actions: 0.03\n",
      "Vid technical-details: 0.03\n"
     ]
    }
   ],
   "source": [
    "# compare the distribution of the \"group\" column for text plans vs text vids\n",
    "df_annotated_text_plans = df_annotated[df_annotated['Stimulus'].str.contains('plan', case=False)]\n",
    "df_annotated_text_vids = df_annotated[df_annotated['Stimulus'].str.contains('vid', case=False)]\n",
    "\n",
    "df_group_plans = df_annotated_text_plans['Group'].value_counts(normalize=True)\n",
    "df_group_vids = df_annotated_text_vids['Group'].value_counts(normalize=True)\n",
    "\n",
    "for group in df_group_plans.index:\n",
    "    print(f\"Plan {group}: {df_group_plans[group]:.2f}\")\n",
    "print()\n",
    "for group in df_group_vids.index:\n",
    "    print(f\"Vid {group}: {df_group_vids[group]:.2f}\")"
   ]
  },
  {
   "cell_type": "code",
   "execution_count": 9,
   "id": "b1312186",
   "metadata": {},
   "outputs": [
    {
     "data": {
      "application/vnd.plotly.v1+json": {
       "config": {
        "plotlyServerURL": "https://plot.ly"
       },
       "data": [
        {
         "branchvalues": "total",
         "customdata": {
          "bdata": "AAAAAAAAEED+QqwojY8MQAAAAAAAABBAVVVVVVVVDUDUCMs9jbAMQD6NsNzTCAtAU9aUNWVNDUDZZZdddtkNQO+999577w1ATjbZZJNNDkA9z/M8z/MMQOzETuzEThBALWQhC1nICkDqTW9605sOQI7jOI7jOBBAAAAAAACADkDNzMzMzMwEQBpzxpwxZwxAH3zwwQcfDEC66KKLLroQQKWUUkoppQxAoryG8hrKD0DCFPmsG0wRQNPS0tLS0gpAAAAAAAAAEECvobyG8hoKQNu2bdu2bQtAMEU+6wZTDEB8xVd8xVcQQJ7YiZ3YiQ1Aq6qqqqqqDkAvuuiiiy4KQGqE5Z5GWA5Aq6qqqqoqEECO4ziO4zgOQAAAAAAAAAhAzczMzMzMDEC3bdu2bdsOQBJ3xB1xRxBAZmZmZmZmDkAAAAAAAAAQQAAAAAAAAARAAAAAAAAAEEDNzMzMzMwQQAAAAAAAAApAzczMzMzMDEDv7u7u7u4OQG7btm3bthBAYid2Yid2CkAAAAAAAMANQAAAAAAAABBAJUmSJEmSDEAAAAAAAAAQQDmO4ziO4xBAAAAAAAAAEUAAAAAAAAAQQKuqqqqqqgpAZmZmZmZmDkBmZmZmZmYOQKuqqqqqqgxAAAAAAAAAEkDFTuzETuwQQAAAAAAAABRAAAAAAAAAEEAzMzMzMzMRQFVVVVVVVQtAAAAAAAAAEEBVVVVVVVUNQGk1CVH8RQ5AEO7GvkfkDEB/arx0kxgQQKK8hvIaygtAi4ES3mjqDEBBEARBEAQNQEN5DeU1lA9ASE0w3so+D0CHI6Y9kYEMQERERERERAxAj60IGk7qEEDZiZ3YiZ0OQA==",
          "dtype": "f8",
          "shape": "80, 1"
         },
         "domain": {
          "x": [
           0,
           1
          ],
          "y": [
           0,
           1
          ]
         },
         "hovertemplate": "labels=%{label}<br>count=%{value}<br>parent=%{parent}<br>id=%{id}<br>Q_Importance=%{color}<extra></extra>",
         "ids": [
          "execution-details (21.6%)/what-goal",
          "environment-state (7.8%)/object-properties",
          "how-did-you-know (6.9%)/goal-properties",
          "why (9.0%)/why-not-extra",
          "future-actions (4.1%)/what-next",
          "why (9.0%)/why-did-you",
          "time (6.3%)/how-long",
          "execution-details (21.6%)/what-objects",
          "self/task-assessment (11.3%)/performance",
          "how-did-you-decide (5.7%)/goal-properties",
          "what-abilities (12.0%)/ability-modification",
          "how-did-you-know (6.9%)/goal-objects",
          "why (9.0%)/why-action-order",
          "self/task-assessment (11.3%)/difficulty",
          "execution-details (21.6%)/what-quantity",
          "self/task-assessment (11.3%)/success",
          "mental-state (5.8%)/ideas",
          "what-abilities (12.0%)/extra-ability",
          "why (9.0%)/why-not-alternative",
          "potential-issues (6.8%)/what-if",
          "what-abilities (12.0%)/ability-list",
          "self/task-assessment (11.3%)/correctness",
          "potential-issues (6.8%)/how-to-ensure-correctness",
          "what-abilities (12.0%)/ability-limits",
          "self/task-assessment (11.3%)/problems",
          "mental-state (5.8%)/emotions",
          "mental-state (5.8%)/opinion/likes",
          "future-actions (4.1%)/what-needs-to-be-done",
          "how-did-you-know (6.9%)/goal-achieved",
          "why (9.0%)/why-issues",
          "future-actions (4.1%)/assistance-need",
          "environment-state (7.8%)/availability",
          "mental-state (5.8%)/check-understanding/beliefs",
          "how-did-you-decide (5.7%)/goal-objects",
          "execution-details (21.6%)/how-was-it-done",
          "execution-details (21.6%)/Other",
          "execution-details (21.6%)/what-action-order",
          "how-did-you-decide (5.7%)/action-order",
          "self/task-assessment (11.3%)/did-you-ensure",
          "technical-details (2.7%)/who-has-control",
          "environment-state (7.8%)/people",
          "how-did-you-decide (5.7%)/Other",
          "execution-details (21.6%)/what-location",
          "self/task-assessment (11.3%)/confidence",
          "technical-details (2.7%)/Other",
          "how-did-you-know (6.9%)/steps-to-take",
          "technical-details (2.7%)/how-does-it-work",
          "how-did-you-know (6.9%)/object-properties",
          "time (6.3%)/at-what-time",
          "execution-details (21.6%)/what-actions",
          "how-did-you-decide (5.7%)/task-priority",
          "time (6.3%)/task-count-within-time",
          "how-did-you-know (6.9%)/Other",
          "how-did-you-decide (5.7%)/goal-achieved",
          "potential-issues (6.8%)/Other",
          "how-did-you-decide (5.7%)/steps-to-take",
          "environment-state (7.8%)/Other",
          "future-actions (4.1%)/Other",
          "what-abilities (12.0%)/ability-to-learn",
          "mental-state (5.8%)/Other",
          "time (6.3%)/frequency",
          "environment-state (7.8%)/pets",
          "self/task-assessment (11.3%)/Other",
          "technical-details (2.7%)/battery-status",
          "execution-details (21.6%)/report-unusual-events",
          "execution-details (21.6%)/failure-details",
          "time (6.3%)/Other",
          "how-did-you-decide (5.7%)/object-properties",
          "execution-details (21.6%)",
          "environment-state (7.8%)",
          "how-did-you-know (6.9%)",
          "why (9.0%)",
          "future-actions (4.1%)",
          "time (6.3%)",
          "self/task-assessment (11.3%)",
          "how-did-you-decide (5.7%)",
          "what-abilities (12.0%)",
          "mental-state (5.8%)",
          "potential-issues (6.8%)",
          "technical-details (2.7%)"
         ],
         "labels": [
          "what-goal",
          "object-properties",
          "goal-properties",
          "why-not-extra",
          "what-next",
          "why-did-you",
          "how-long",
          "what-objects",
          "performance",
          "goal-properties",
          "ability-modification",
          "goal-objects",
          "why-action-order",
          "difficulty",
          "what-quantity",
          "success",
          "ideas",
          "extra-ability",
          "why-not-alternative",
          "what-if",
          "ability-list",
          "correctness",
          "how-to-ensure-correctness",
          "ability-limits",
          "problems",
          "emotions",
          "opinion/likes",
          "what-needs-to-be-done",
          "goal-achieved",
          "why-issues",
          "assistance-need",
          "availability",
          "check-understanding/beliefs",
          "goal-objects",
          "how-was-it-done",
          "Other",
          "what-action-order",
          "action-order",
          "did-you-ensure",
          "who-has-control",
          "people",
          "Other",
          "what-location",
          "confidence",
          "Other",
          "steps-to-take",
          "how-does-it-work",
          "object-properties",
          "at-what-time",
          "what-actions",
          "task-priority",
          "task-count-within-time",
          "Other",
          "goal-achieved",
          "Other",
          "steps-to-take",
          "Other",
          "Other",
          "ability-to-learn",
          "Other",
          "frequency",
          "pets",
          "Other",
          "battery-status",
          "report-unusual-events",
          "failure-details",
          "Other",
          "object-properties",
          "execution-details (21.6%)",
          "environment-state (7.8%)",
          "how-did-you-know (6.9%)",
          "why (9.0%)",
          "future-actions (4.1%)",
          "time (6.3%)",
          "self/task-assessment (11.3%)",
          "how-did-you-decide (5.7%)",
          "what-abilities (12.0%)",
          "mental-state (5.8%)",
          "potential-issues (6.8%)",
          "technical-details (2.7%)"
         ],
         "marker": {
          "coloraxis": "coloraxis",
          "colors": {
           "bdata": "AAAAAAAAEED+QqwojY8MQAAAAAAAABBAVVVVVVVVDUDUCMs9jbAMQD6NsNzTCAtAU9aUNWVNDUDZZZdddtkNQO+999577w1ATjbZZJNNDkA9z/M8z/MMQOzETuzEThBALWQhC1nICkDqTW9605sOQI7jOI7jOBBAAAAAAACADkDNzMzMzMwEQBpzxpwxZwxAH3zwwQcfDEC66KKLLroQQKWUUkoppQxAoryG8hrKD0DCFPmsG0wRQNPS0tLS0gpAAAAAAAAAEECvobyG8hoKQNu2bdu2bQtAMEU+6wZTDEB8xVd8xVcQQJ7YiZ3YiQ1Aq6qqqqqqDkAvuuiiiy4KQGqE5Z5GWA5Aq6qqqqoqEECO4ziO4zgOQAAAAAAAAAhAzczMzMzMDEC3bdu2bdsOQBJ3xB1xRxBAZmZmZmZmDkAAAAAAAAAQQAAAAAAAAARAAAAAAAAAEEDNzMzMzMwQQAAAAAAAAApAzczMzMzMDEDv7u7u7u4OQG7btm3bthBAYid2Yid2CkAAAAAAAMANQAAAAAAAABBAJUmSJEmSDEAAAAAAAAAQQDmO4ziO4xBAAAAAAAAAEUAAAAAAAAAQQKuqqqqqqgpAZmZmZmZmDkBmZmZmZmYOQKuqqqqqqgxAAAAAAAAAEkDFTuzETuwQQAAAAAAAABRAAAAAAAAAEEAzMzMzMzMRQFVVVVVVVQtAAAAAAAAAEEBVVVVVVVUNQGk1CVH8RQ5AEO7GvkfkDEB/arx0kxgQQKK8hvIaygtAi4ES3mjqDEBBEARBEAQNQEN5DeU1lA9ASE0w3so+D0CHI6Y9kYEMQERERERERAxAj60IGk7qEEDZiZ3YiZ0OQA==",
           "dtype": "f8"
          },
          "cornerradius": 5
         },
         "name": "",
         "parents": [
          "execution-details (21.6%)",
          "environment-state (7.8%)",
          "how-did-you-know (6.9%)",
          "why (9.0%)",
          "future-actions (4.1%)",
          "why (9.0%)",
          "time (6.3%)",
          "execution-details (21.6%)",
          "self/task-assessment (11.3%)",
          "how-did-you-decide (5.7%)",
          "what-abilities (12.0%)",
          "how-did-you-know (6.9%)",
          "why (9.0%)",
          "self/task-assessment (11.3%)",
          "execution-details (21.6%)",
          "self/task-assessment (11.3%)",
          "mental-state (5.8%)",
          "what-abilities (12.0%)",
          "why (9.0%)",
          "potential-issues (6.8%)",
          "what-abilities (12.0%)",
          "self/task-assessment (11.3%)",
          "potential-issues (6.8%)",
          "what-abilities (12.0%)",
          "self/task-assessment (11.3%)",
          "mental-state (5.8%)",
          "mental-state (5.8%)",
          "future-actions (4.1%)",
          "how-did-you-know (6.9%)",
          "why (9.0%)",
          "future-actions (4.1%)",
          "environment-state (7.8%)",
          "mental-state (5.8%)",
          "how-did-you-decide (5.7%)",
          "execution-details (21.6%)",
          "execution-details (21.6%)",
          "execution-details (21.6%)",
          "how-did-you-decide (5.7%)",
          "self/task-assessment (11.3%)",
          "technical-details (2.7%)",
          "environment-state (7.8%)",
          "how-did-you-decide (5.7%)",
          "execution-details (21.6%)",
          "self/task-assessment (11.3%)",
          "technical-details (2.7%)",
          "how-did-you-know (6.9%)",
          "technical-details (2.7%)",
          "how-did-you-know (6.9%)",
          "time (6.3%)",
          "execution-details (21.6%)",
          "how-did-you-decide (5.7%)",
          "time (6.3%)",
          "how-did-you-know (6.9%)",
          "how-did-you-decide (5.7%)",
          "potential-issues (6.8%)",
          "how-did-you-decide (5.7%)",
          "environment-state (7.8%)",
          "future-actions (4.1%)",
          "what-abilities (12.0%)",
          "mental-state (5.8%)",
          "time (6.3%)",
          "environment-state (7.8%)",
          "self/task-assessment (11.3%)",
          "technical-details (2.7%)",
          "execution-details (21.6%)",
          "execution-details (21.6%)",
          "time (6.3%)",
          "how-did-you-decide (5.7%)",
          "",
          "",
          "",
          "",
          "",
          "",
          "",
          "",
          "",
          "",
          "",
          ""
         ],
         "textinfo": "label+value",
         "texttemplate": "%{label}<br>%{value}",
         "type": "treemap",
         "values": {
          "bdata": "EABrACEAFQAdAFcAVgBdAB8AIQA/AA0AFwAuACQAEAAFAIEAIQBNAB8AJgAlABEAFQAmAAcAJQAjABoADAAWADoAGAA2AAYABQAHACsACgAMAAIALQAKAAQADwAeABwAGgCAABMABwABAAkABAAGAAMABQAFAAwABgANAAQACAAKABgAAQAGAKEBnQB9AL4AUwB+ANEAagD1AHgAdgA0AA==",
          "dtype": "i2"
         }
        }
       ],
       "layout": {
        "coloraxis": {
         "colorbar": {
          "tickmode": "array",
          "ticktext": [
           "1 (not at all important)",
           "2",
           "3 (moderately important)",
           "4 (very important)",
           "5 (extremely important)"
          ],
          "tickvals": [
           1,
           2,
           3,
           4,
           5
          ],
          "title": {
           "text": "Importance"
          }
         },
         "colorscale": [
          [
           0,
           "rgb(228, 241, 225)"
          ],
          [
           0.16666666666666666,
           "rgb(180, 217, 204)"
          ],
          [
           0.3333333333333333,
           "rgb(137, 192, 182)"
          ],
          [
           0.5,
           "rgb(99, 166, 160)"
          ],
          [
           0.6666666666666666,
           "rgb(68, 140, 138)"
          ],
          [
           0.8333333333333334,
           "rgb(40, 114, 116)"
          ],
          [
           1,
           "rgb(13, 88, 95)"
          ]
         ]
        },
        "height": 800,
        "legend": {
         "tracegroupgap": 0
        },
        "margin": {
         "b": 0,
         "l": 0,
         "r": 0,
         "t": 0
        },
        "template": {
         "data": {
          "bar": [
           {
            "error_x": {
             "color": "#2a3f5f"
            },
            "error_y": {
             "color": "#2a3f5f"
            },
            "marker": {
             "line": {
              "color": "#E5ECF6",
              "width": 0.5
             },
             "pattern": {
              "fillmode": "overlay",
              "size": 10,
              "solidity": 0.2
             }
            },
            "type": "bar"
           }
          ],
          "barpolar": [
           {
            "marker": {
             "line": {
              "color": "#E5ECF6",
              "width": 0.5
             },
             "pattern": {
              "fillmode": "overlay",
              "size": 10,
              "solidity": 0.2
             }
            },
            "type": "barpolar"
           }
          ],
          "carpet": [
           {
            "aaxis": {
             "endlinecolor": "#2a3f5f",
             "gridcolor": "white",
             "linecolor": "white",
             "minorgridcolor": "white",
             "startlinecolor": "#2a3f5f"
            },
            "baxis": {
             "endlinecolor": "#2a3f5f",
             "gridcolor": "white",
             "linecolor": "white",
             "minorgridcolor": "white",
             "startlinecolor": "#2a3f5f"
            },
            "type": "carpet"
           }
          ],
          "choropleth": [
           {
            "colorbar": {
             "outlinewidth": 0,
             "ticks": ""
            },
            "type": "choropleth"
           }
          ],
          "contour": [
           {
            "colorbar": {
             "outlinewidth": 0,
             "ticks": ""
            },
            "colorscale": [
             [
              0,
              "#0d0887"
             ],
             [
              0.1111111111111111,
              "#46039f"
             ],
             [
              0.2222222222222222,
              "#7201a8"
             ],
             [
              0.3333333333333333,
              "#9c179e"
             ],
             [
              0.4444444444444444,
              "#bd3786"
             ],
             [
              0.5555555555555556,
              "#d8576b"
             ],
             [
              0.6666666666666666,
              "#ed7953"
             ],
             [
              0.7777777777777778,
              "#fb9f3a"
             ],
             [
              0.8888888888888888,
              "#fdca26"
             ],
             [
              1,
              "#f0f921"
             ]
            ],
            "type": "contour"
           }
          ],
          "contourcarpet": [
           {
            "colorbar": {
             "outlinewidth": 0,
             "ticks": ""
            },
            "type": "contourcarpet"
           }
          ],
          "heatmap": [
           {
            "colorbar": {
             "outlinewidth": 0,
             "ticks": ""
            },
            "colorscale": [
             [
              0,
              "#0d0887"
             ],
             [
              0.1111111111111111,
              "#46039f"
             ],
             [
              0.2222222222222222,
              "#7201a8"
             ],
             [
              0.3333333333333333,
              "#9c179e"
             ],
             [
              0.4444444444444444,
              "#bd3786"
             ],
             [
              0.5555555555555556,
              "#d8576b"
             ],
             [
              0.6666666666666666,
              "#ed7953"
             ],
             [
              0.7777777777777778,
              "#fb9f3a"
             ],
             [
              0.8888888888888888,
              "#fdca26"
             ],
             [
              1,
              "#f0f921"
             ]
            ],
            "type": "heatmap"
           }
          ],
          "histogram": [
           {
            "marker": {
             "pattern": {
              "fillmode": "overlay",
              "size": 10,
              "solidity": 0.2
             }
            },
            "type": "histogram"
           }
          ],
          "histogram2d": [
           {
            "colorbar": {
             "outlinewidth": 0,
             "ticks": ""
            },
            "colorscale": [
             [
              0,
              "#0d0887"
             ],
             [
              0.1111111111111111,
              "#46039f"
             ],
             [
              0.2222222222222222,
              "#7201a8"
             ],
             [
              0.3333333333333333,
              "#9c179e"
             ],
             [
              0.4444444444444444,
              "#bd3786"
             ],
             [
              0.5555555555555556,
              "#d8576b"
             ],
             [
              0.6666666666666666,
              "#ed7953"
             ],
             [
              0.7777777777777778,
              "#fb9f3a"
             ],
             [
              0.8888888888888888,
              "#fdca26"
             ],
             [
              1,
              "#f0f921"
             ]
            ],
            "type": "histogram2d"
           }
          ],
          "histogram2dcontour": [
           {
            "colorbar": {
             "outlinewidth": 0,
             "ticks": ""
            },
            "colorscale": [
             [
              0,
              "#0d0887"
             ],
             [
              0.1111111111111111,
              "#46039f"
             ],
             [
              0.2222222222222222,
              "#7201a8"
             ],
             [
              0.3333333333333333,
              "#9c179e"
             ],
             [
              0.4444444444444444,
              "#bd3786"
             ],
             [
              0.5555555555555556,
              "#d8576b"
             ],
             [
              0.6666666666666666,
              "#ed7953"
             ],
             [
              0.7777777777777778,
              "#fb9f3a"
             ],
             [
              0.8888888888888888,
              "#fdca26"
             ],
             [
              1,
              "#f0f921"
             ]
            ],
            "type": "histogram2dcontour"
           }
          ],
          "mesh3d": [
           {
            "colorbar": {
             "outlinewidth": 0,
             "ticks": ""
            },
            "type": "mesh3d"
           }
          ],
          "parcoords": [
           {
            "line": {
             "colorbar": {
              "outlinewidth": 0,
              "ticks": ""
             }
            },
            "type": "parcoords"
           }
          ],
          "pie": [
           {
            "automargin": true,
            "type": "pie"
           }
          ],
          "scatter": [
           {
            "fillpattern": {
             "fillmode": "overlay",
             "size": 10,
             "solidity": 0.2
            },
            "type": "scatter"
           }
          ],
          "scatter3d": [
           {
            "line": {
             "colorbar": {
              "outlinewidth": 0,
              "ticks": ""
             }
            },
            "marker": {
             "colorbar": {
              "outlinewidth": 0,
              "ticks": ""
             }
            },
            "type": "scatter3d"
           }
          ],
          "scattercarpet": [
           {
            "marker": {
             "colorbar": {
              "outlinewidth": 0,
              "ticks": ""
             }
            },
            "type": "scattercarpet"
           }
          ],
          "scattergeo": [
           {
            "marker": {
             "colorbar": {
              "outlinewidth": 0,
              "ticks": ""
             }
            },
            "type": "scattergeo"
           }
          ],
          "scattergl": [
           {
            "marker": {
             "colorbar": {
              "outlinewidth": 0,
              "ticks": ""
             }
            },
            "type": "scattergl"
           }
          ],
          "scattermap": [
           {
            "marker": {
             "colorbar": {
              "outlinewidth": 0,
              "ticks": ""
             }
            },
            "type": "scattermap"
           }
          ],
          "scattermapbox": [
           {
            "marker": {
             "colorbar": {
              "outlinewidth": 0,
              "ticks": ""
             }
            },
            "type": "scattermapbox"
           }
          ],
          "scatterpolar": [
           {
            "marker": {
             "colorbar": {
              "outlinewidth": 0,
              "ticks": ""
             }
            },
            "type": "scatterpolar"
           }
          ],
          "scatterpolargl": [
           {
            "marker": {
             "colorbar": {
              "outlinewidth": 0,
              "ticks": ""
             }
            },
            "type": "scatterpolargl"
           }
          ],
          "scatterternary": [
           {
            "marker": {
             "colorbar": {
              "outlinewidth": 0,
              "ticks": ""
             }
            },
            "type": "scatterternary"
           }
          ],
          "surface": [
           {
            "colorbar": {
             "outlinewidth": 0,
             "ticks": ""
            },
            "colorscale": [
             [
              0,
              "#0d0887"
             ],
             [
              0.1111111111111111,
              "#46039f"
             ],
             [
              0.2222222222222222,
              "#7201a8"
             ],
             [
              0.3333333333333333,
              "#9c179e"
             ],
             [
              0.4444444444444444,
              "#bd3786"
             ],
             [
              0.5555555555555556,
              "#d8576b"
             ],
             [
              0.6666666666666666,
              "#ed7953"
             ],
             [
              0.7777777777777778,
              "#fb9f3a"
             ],
             [
              0.8888888888888888,
              "#fdca26"
             ],
             [
              1,
              "#f0f921"
             ]
            ],
            "type": "surface"
           }
          ],
          "table": [
           {
            "cells": {
             "fill": {
              "color": "#EBF0F8"
             },
             "line": {
              "color": "white"
             }
            },
            "header": {
             "fill": {
              "color": "#C8D4E3"
             },
             "line": {
              "color": "white"
             }
            },
            "type": "table"
           }
          ]
         },
         "layout": {
          "annotationdefaults": {
           "arrowcolor": "#2a3f5f",
           "arrowhead": 0,
           "arrowwidth": 1
          },
          "autotypenumbers": "strict",
          "coloraxis": {
           "colorbar": {
            "outlinewidth": 0,
            "ticks": ""
           }
          },
          "colorscale": {
           "diverging": [
            [
             0,
             "#8e0152"
            ],
            [
             0.1,
             "#c51b7d"
            ],
            [
             0.2,
             "#de77ae"
            ],
            [
             0.3,
             "#f1b6da"
            ],
            [
             0.4,
             "#fde0ef"
            ],
            [
             0.5,
             "#f7f7f7"
            ],
            [
             0.6,
             "#e6f5d0"
            ],
            [
             0.7,
             "#b8e186"
            ],
            [
             0.8,
             "#7fbc41"
            ],
            [
             0.9,
             "#4d9221"
            ],
            [
             1,
             "#276419"
            ]
           ],
           "sequential": [
            [
             0,
             "#0d0887"
            ],
            [
             0.1111111111111111,
             "#46039f"
            ],
            [
             0.2222222222222222,
             "#7201a8"
            ],
            [
             0.3333333333333333,
             "#9c179e"
            ],
            [
             0.4444444444444444,
             "#bd3786"
            ],
            [
             0.5555555555555556,
             "#d8576b"
            ],
            [
             0.6666666666666666,
             "#ed7953"
            ],
            [
             0.7777777777777778,
             "#fb9f3a"
            ],
            [
             0.8888888888888888,
             "#fdca26"
            ],
            [
             1,
             "#f0f921"
            ]
           ],
           "sequentialminus": [
            [
             0,
             "#0d0887"
            ],
            [
             0.1111111111111111,
             "#46039f"
            ],
            [
             0.2222222222222222,
             "#7201a8"
            ],
            [
             0.3333333333333333,
             "#9c179e"
            ],
            [
             0.4444444444444444,
             "#bd3786"
            ],
            [
             0.5555555555555556,
             "#d8576b"
            ],
            [
             0.6666666666666666,
             "#ed7953"
            ],
            [
             0.7777777777777778,
             "#fb9f3a"
            ],
            [
             0.8888888888888888,
             "#fdca26"
            ],
            [
             1,
             "#f0f921"
            ]
           ]
          },
          "colorway": [
           "#636efa",
           "#EF553B",
           "#00cc96",
           "#ab63fa",
           "#FFA15A",
           "#19d3f3",
           "#FF6692",
           "#B6E880",
           "#FF97FF",
           "#FECB52"
          ],
          "font": {
           "color": "#2a3f5f"
          },
          "geo": {
           "bgcolor": "white",
           "lakecolor": "white",
           "landcolor": "#E5ECF6",
           "showlakes": true,
           "showland": true,
           "subunitcolor": "white"
          },
          "hoverlabel": {
           "align": "left"
          },
          "hovermode": "closest",
          "mapbox": {
           "style": "light"
          },
          "paper_bgcolor": "white",
          "plot_bgcolor": "#E5ECF6",
          "polar": {
           "angularaxis": {
            "gridcolor": "white",
            "linecolor": "white",
            "ticks": ""
           },
           "bgcolor": "#E5ECF6",
           "radialaxis": {
            "gridcolor": "white",
            "linecolor": "white",
            "ticks": ""
           }
          },
          "scene": {
           "xaxis": {
            "backgroundcolor": "#E5ECF6",
            "gridcolor": "white",
            "gridwidth": 2,
            "linecolor": "white",
            "showbackground": true,
            "ticks": "",
            "zerolinecolor": "white"
           },
           "yaxis": {
            "backgroundcolor": "#E5ECF6",
            "gridcolor": "white",
            "gridwidth": 2,
            "linecolor": "white",
            "showbackground": true,
            "ticks": "",
            "zerolinecolor": "white"
           },
           "zaxis": {
            "backgroundcolor": "#E5ECF6",
            "gridcolor": "white",
            "gridwidth": 2,
            "linecolor": "white",
            "showbackground": true,
            "ticks": "",
            "zerolinecolor": "white"
           }
          },
          "shapedefaults": {
           "line": {
            "color": "#2a3f5f"
           }
          },
          "ternary": {
           "aaxis": {
            "gridcolor": "white",
            "linecolor": "white",
            "ticks": ""
           },
           "baxis": {
            "gridcolor": "white",
            "linecolor": "white",
            "ticks": ""
           },
           "bgcolor": "#E5ECF6",
           "caxis": {
            "gridcolor": "white",
            "linecolor": "white",
            "ticks": ""
           }
          },
          "title": {
           "x": 0.05
          },
          "xaxis": {
           "automargin": true,
           "gridcolor": "white",
           "linecolor": "white",
           "ticks": "",
           "title": {
            "standoff": 15
           },
           "zerolinecolor": "white",
           "zerolinewidth": 2
          },
          "yaxis": {
           "automargin": true,
           "gridcolor": "white",
           "linecolor": "white",
           "ticks": "",
           "title": {
            "standoff": 15
           },
           "zerolinecolor": "white",
           "zerolinewidth": 2
          }
         }
        },
        "width": 800
       }
      }
     },
     "metadata": {},
     "output_type": "display_data"
    }
   ],
   "source": [
    "# Treemap representation, colored by importance\n",
    "\n",
    "# for every subgroup with less than 5 entries, replace the subgroup with \"Other\"\n",
    "THRESH = 5\n",
    "\n",
    "tot = df_annotated[\"Q_Importance\"].sum()\n",
    "grp_pct = (df_annotated.groupby(\"Group\")[\"Q_Importance\"].sum() / tot)\n",
    "\n",
    "df_annotated_temp = df_annotated.copy()\n",
    "df_annotated_temp[\"Group_label\"] = df_annotated[\"Group\"].map(\n",
    "    lambda g: f\"{g} ({grp_pct[g]:.1%})\"\n",
    ")\n",
    "\n",
    "df_annotated_temp['n'] = (\n",
    "    df_annotated_temp\n",
    "        .groupby(['Group', 'Subgroup'])\n",
    "        .transform('size')\n",
    ")\n",
    "df_annotated_temp['Subgroup_collapsed'] = np.where(df_annotated_temp['n'] < THRESH, \"Other\", df_annotated_temp['Subgroup'])\n",
    "fig = px.treemap(\n",
    "    df_annotated_temp,\n",
    "    path=[\"Group_label\", \"Subgroup_collapsed\"],\n",
    "    color =\"Q_Importance\",  # color by importance\n",
    "    color_continuous_scale=\"mint\",\n",
    "    values=None,\n",
    ")\n",
    "fig.update_coloraxes(\n",
    "    colorbar=dict(\n",
    "        title=\"Importance\",\n",
    "        tickmode=\"array\",\n",
    "        tickvals=[1, 2, 3, 4, 5],\n",
    "        ticktext=[\n",
    "            \"1 (not at all important)\",\n",
    "            \"2\",\n",
    "            \"3 (moderately important)\",\n",
    "            \"4 (very important)\",\n",
    "            \"5 (extremely important)\"\n",
    "        ]\n",
    "    )\n",
    ")\n",
    "fig.update_layout(\n",
    "    margin=dict(t=0, l=0, r=0, b=0),\n",
    "    width=800,\n",
    "    height=800\n",
    ")\n",
    "fig.update_traces(\n",
    "    marker=dict(cornerradius=5),\n",
    "    textinfo=\"label+value\",\n",
    "    texttemplate=\"%{label}<br>%{value}\",\n",
    ")\n",
    "fig.show()\n",
    "# save as pdf \n",
    "fig.write_image(os.path.join(os.getcwd(), 'plots/question_category_analysis.pdf'), width=900, height=1200)\n"
   ]
  },
  {
   "cell_type": "code",
   "execution_count": 10,
   "id": "cf5bf61d",
   "metadata": {},
   "outputs": [
    {
     "data": {
      "application/vnd.plotly.v1+json": {
       "config": {
        "plotlyServerURL": "https://plot.ly"
       },
       "data": [
        {
         "arrangement": "fixed",
         "link": {
          "color": [
           "rgba(255,161,90,0.45)",
           "rgba(255,161,90,0.45)",
           "rgba(255,161,90,0.45)",
           "rgba(99,110,250,0.45)",
           "rgba(99,110,250,0.45)",
           "rgba(99,110,250,0.45)",
           "rgba(99,110,250,0.45)",
           "rgba(99,110,250,0.45)",
           "rgba(99,110,250,0.45)",
           "rgba(99,110,250,0.45)",
           "rgba(99,110,250,0.45)",
           "rgba(99,110,250,0.45)",
           "rgba(99,110,250,0.45)",
           "rgba(99,110,250,0.45)",
           "rgba(254,203,82,0.45)",
           "rgba(254,203,82,0.45)",
           "rgba(254,203,82,0.45)",
           "rgba(254,203,82,0.45)",
           "rgba(255,102,146,0.45)",
           "rgba(255,102,146,0.45)",
           "rgba(255,102,146,0.45)",
           "rgba(255,102,146,0.45)",
           "rgba(255,102,146,0.45)",
           "rgba(182,232,128,0.45)",
           "rgba(182,232,128,0.45)",
           "rgba(182,232,128,0.45)",
           "rgba(255,151,255,0.45)",
           "rgba(255,151,255,0.45)",
           "rgba(255,151,255,0.45)",
           "rgba(0,204,150,0.45)",
           "rgba(0,204,150,0.45)",
           "rgba(0,204,150,0.45)",
           "rgba(0,204,150,0.45)",
           "rgba(0,204,150,0.45)",
           "rgba(0,204,150,0.45)",
           "rgba(0,204,150,0.45)",
           "rgba(239,85,59,0.45)",
           "rgba(239,85,59,0.45)",
           "rgba(25,211,243,0.45)",
           "rgba(25,211,243,0.45)",
           "rgba(25,211,243,0.45)",
           "rgba(239,85,59,0.45)",
           "rgba(239,85,59,0.45)",
           "rgba(239,85,59,0.45)",
           "rgba(239,85,59,0.45)",
           "rgba(239,85,59,0.45)",
           "rgba(171,99,250,0.45)",
           "rgba(171,99,250,0.45)",
           "rgba(171,99,250,0.45)",
           "rgba(171,99,250,0.45)",
           "rgba(171,99,250,0.45)"
          ],
          "customdata": [
           [
            "environment-state",
            "availability — environment-state",
            0.14012738853503184,
            0.011293634496919919
           ],
           [
            "environment-state",
            "object-properties — environment-state",
            0.6815286624203821,
            0.054928131416837785
           ],
           [
            "environment-state",
            "other — environment-state",
            0.17834394904458598,
            0.014373716632443531
           ],
           [
            "execution-details",
            "failure-details — execution-details",
            0.05755395683453238,
            0.012320328542094456
           ],
           [
            "execution-details",
            "how-was-it-done — execution-details",
            0.12949640287769784,
            0.027720739219712527
           ],
           [
            "execution-details",
            "other — execution-details",
            0.050359712230215826,
            0.010780287474332649
           ],
           [
            "execution-details",
            "what-actions — execution-details",
            0.3069544364508393,
            0.06570841889117043
           ],
           [
            "execution-details",
            "what-goal — execution-details",
            0.03836930455635491,
            0.008213552361396304
           ],
           [
            "execution-details",
            "what-location — execution-details",
            0.1079136690647482,
            0.023100616016427104
           ],
           [
            "execution-details",
            "what-objects — execution-details",
            0.22302158273381295,
            0.047741273100616016
           ],
           [
            "execution-details",
            "what-quantity — execution-details",
            0.08633093525179857,
            0.018480492813141684
           ],
           [
            "future-actions",
            "other — future-actions",
            0.20481927710843373,
            0.008726899383983572
           ],
           [
            "future-actions",
            "what-needs-to-be-done — future-actions",
            0.4457831325301205,
            0.018993839835728953
           ],
           [
            "future-actions",
            "what-next — future-actions",
            0.3493975903614458,
            0.014887063655030801
           ],
           [
            "how-did-you-decide",
            "goal-objects — how-did-you-decide",
            0.22641509433962265,
            0.012320328542094456
           ],
           [
            "how-did-you-decide",
            "goal-properties — how-did-you-decide",
            0.3113207547169811,
            0.016940451745379878
           ],
           [
            "how-did-you-decide",
            "other — how-did-you-decide",
            0.2830188679245283,
            0.015400410677618069
           ],
           [
            "how-did-you-decide",
            "task-priority — how-did-you-decide",
            0.1792452830188679,
            0.009753593429158111
           ],
           [
            "how-did-you-know",
            "goal-achieved — how-did-you-know",
            0.28,
            0.017967145790554414
           ],
           [
            "how-did-you-know",
            "goal-properties — how-did-you-know",
            0.264,
            0.016940451745379878
           ],
           [
            "how-did-you-know",
            "object-properties — how-did-you-know",
            0.224,
            0.014373716632443531
           ],
           [
            "how-did-you-know",
            "other — how-did-you-know",
            0.112,
            0.007186858316221766
           ],
           [
            "how-did-you-know",
            "steps-to-take — how-did-you-know",
            0.12,
            0.0077002053388090345
           ],
           [
            "mental-state",
            "check-understanding/beliefs — mental-state",
            0.48333333333333334,
            0.029774127310061602
           ],
           [
            "mental-state",
            "emotions — mental-state",
            0.31666666666666665,
            0.019507186858316223
           ],
           [
            "mental-state",
            "other — mental-state",
            0.2,
            0.012320328542094456
           ],
           [
            "potential-issues",
            "how-to-ensure-correctness — potential-issues",
            0.3135593220338983,
            0.018993839835728953
           ],
           [
            "potential-issues",
            "other — potential-issues",
            0.03389830508474576,
            0.002053388090349076
           ],
           [
            "potential-issues",
            "what-if — potential-issues",
            0.652542372881356,
            0.039527720739219716
           ],
           [
            "self/task-assessment",
            "correctness — self/task-assessment",
            0.18181818181818182,
            0.019507186858316223
           ],
           [
            "self/task-assessment",
            "did-you-ensure — self/task-assessment",
            0.20574162679425836,
            0.022073921971252568
           ],
           [
            "self/task-assessment",
            "difficulty — self/task-assessment",
            0.22009569377990432,
            0.023613963039014373
           ],
           [
            "self/task-assessment",
            "other — self/task-assessment",
            0.06698564593301436,
            0.007186858316221766
           ],
           [
            "self/task-assessment",
            "performance — self/task-assessment",
            0.14832535885167464,
            0.01591375770020534
           ],
           [
            "self/task-assessment",
            "problems — self/task-assessment",
            0.10047846889952153,
            0.010780287474332649
           ],
           [
            "self/task-assessment",
            "success — self/task-assessment",
            0.07655502392344497,
            0.008213552361396304
           ],
           [
            "technical-details",
            "how-does-it-work — technical-details",
            0.5769230769230769,
            0.015400410677618069
           ],
           [
            "technical-details",
            "other — technical-details",
            0.4230769230769231,
            0.011293634496919919
           ],
           [
            "time",
            "at-what-time — time",
            0.20634920634920634,
            0.013347022587268994
           ],
           [
            "time",
            "how-long — time",
            0.6825396825396826,
            0.044147843942505136
           ],
           [
            "time",
            "other — time",
            0.1111111111111111,
            0.007186858316221766
           ],
           [
            "what-abilities",
            "ability-limits — what-abilities",
            0.06938775510204082,
            0.008726899383983572
           ],
           [
            "what-abilities",
            "ability-list — what-abilities",
            0.12653061224489795,
            0.01591375770020534
           ],
           [
            "what-abilities",
            "ability-modification — what-abilities",
            0.2571428571428571,
            0.03234086242299795
           ],
           [
            "what-abilities",
            "extra-ability — what-abilities",
            0.5265306122448979,
            0.0662217659137577
           ],
           [
            "what-abilities",
            "other — what-abilities",
            0.02040816326530612,
            0.002566735112936345
           ],
           [
            "why",
            "why-action-order — why",
            0.12105263157894737,
            0.011806981519507187
           ],
           [
            "why",
            "why-did-you — why",
            0.45789473684210524,
            0.044661190965092405
           ],
           [
            "why",
            "why-issues — why",
            0.1368421052631579,
            0.013347022587268994
           ],
           [
            "why",
            "why-not-alternative — why",
            0.1736842105263158,
            0.016940451745379878
           ],
           [
            "why",
            "why-not-extra — why",
            0.11052631578947368,
            0.010780287474332649
           ]
          ],
          "hovertemplate": "<b>%{customdata[0]} → %{customdata[1]}</b><br>Value: %{value}<br>% of group: %{customdata[2]:.1%}<br>% of total: %{customdata[3]:.1%}<extra></extra>",
          "source": [
           4,
           4,
           4,
           0,
           0,
           0,
           0,
           0,
           0,
           0,
           0,
           10,
           10,
           10,
           9,
           9,
           9,
           9,
           6,
           6,
           6,
           6,
           6,
           7,
           7,
           7,
           8,
           8,
           8,
           2,
           2,
           2,
           2,
           2,
           2,
           2,
           11,
           11,
           5,
           5,
           5,
           1,
           1,
           1,
           1,
           1,
           3,
           3,
           3,
           3,
           3
          ],
          "target": [
           39,
           37,
           38,
           17,
           14,
           18,
           12,
           19,
           15,
           13,
           16,
           60,
           58,
           59,
           56,
           54,
           55,
           57,
           43,
           44,
           45,
           47,
           46,
           48,
           49,
           50,
           52,
           53,
           51,
           27,
           26,
           25,
           31,
           28,
           29,
           30,
           61,
           62,
           41,
           40,
           42,
           23,
           22,
           21,
           20,
           24,
           35,
           32,
           34,
           33,
           36
          ],
          "value": [
           22,
           107,
           28,
           24,
           54,
           21,
           128,
           16,
           45,
           93,
           36,
           17,
           37,
           29,
           24,
           33,
           30,
           19,
           35,
           33,
           28,
           14,
           15,
           58,
           38,
           24,
           37,
           4,
           77,
           38,
           43,
           46,
           14,
           31,
           21,
           16,
           30,
           22,
           26,
           86,
           14,
           17,
           31,
           63,
           129,
           5,
           23,
           87,
           26,
           33,
           21
          ]
         },
         "node": {
          "color": [
           "rgba(99,110,250,1.0)",
           "rgba(239,85,59,1.0)",
           "rgba(0,204,150,1.0)",
           "rgba(171,99,250,1.0)",
           "rgba(255,161,90,1.0)",
           "rgba(25,211,243,1.0)",
           "rgba(255,102,146,1.0)",
           "rgba(182,232,128,1.0)",
           "rgba(255,151,255,1.0)",
           "rgba(254,203,82,1.0)",
           "rgba(99,110,250,1.0)",
           "rgba(239,85,59,1.0)",
           "rgba(99,110,250,0.25)",
           "rgba(99,110,250,0.25)",
           "rgba(99,110,250,0.25)",
           "rgba(99,110,250,0.25)",
           "rgba(99,110,250,0.25)",
           "rgba(99,110,250,0.25)",
           "rgba(99,110,250,0.25)",
           "rgba(99,110,250,0.25)",
           "rgba(239,85,59,0.25)",
           "rgba(239,85,59,0.25)",
           "rgba(239,85,59,0.25)",
           "rgba(239,85,59,0.25)",
           "rgba(239,85,59,0.25)",
           "rgba(0,204,150,0.25)",
           "rgba(0,204,150,0.25)",
           "rgba(0,204,150,0.25)",
           "rgba(0,204,150,0.25)",
           "rgba(0,204,150,0.25)",
           "rgba(0,204,150,0.25)",
           "rgba(0,204,150,0.25)",
           "rgba(171,99,250,0.25)",
           "rgba(171,99,250,0.25)",
           "rgba(171,99,250,0.25)",
           "rgba(171,99,250,0.25)",
           "rgba(171,99,250,0.25)",
           "rgba(255,161,90,0.25)",
           "rgba(255,161,90,0.25)",
           "rgba(255,161,90,0.25)",
           "rgba(25,211,243,0.25)",
           "rgba(25,211,243,0.25)",
           "rgba(25,211,243,0.25)",
           "rgba(255,102,146,0.25)",
           "rgba(255,102,146,0.25)",
           "rgba(255,102,146,0.25)",
           "rgba(255,102,146,0.25)",
           "rgba(255,102,146,0.25)",
           "rgba(182,232,128,0.25)",
           "rgba(182,232,128,0.25)",
           "rgba(182,232,128,0.25)",
           "rgba(255,151,255,0.25)",
           "rgba(255,151,255,0.25)",
           "rgba(255,151,255,0.25)",
           "rgba(254,203,82,0.25)",
           "rgba(254,203,82,0.25)",
           "rgba(254,203,82,0.25)",
           "rgba(254,203,82,0.25)",
           "rgba(99,110,250,0.25)",
           "rgba(99,110,250,0.25)",
           "rgba(99,110,250,0.25)",
           "rgba(239,85,59,0.25)",
           "rgba(239,85,59,0.25)"
          ],
          "hovertemplate": "<b>%{label}</b><extra></extra>",
          "label": [
           "<span style='font-size:32px'>execution-details</span><br>(21.4%)",
           "<span style='font-size:32px'>what-abilities</span><br>(12.6%)",
           "<span style='font-size:32px'>self/task-assessment</span><br>(10.7%)",
           "<span style='font-size:32px'>why</span><br>(9.8%)",
           "<span style='font-size:32px'>environment-state</span><br>(8.1%)",
           "<span style='font-size:32px'>time</span><br>(6.5%)",
           "<span style='font-size:32px'>how-did-you-know</span><br>(6.4%)",
           "<span style='font-size:32px'>mental-state</span><br>(6.2%)",
           "<span style='font-size:32px'>potential-issues</span><br>(6.1%)",
           "<span style='font-size:32px'>how-did-you-decide</span><br>(5.4%)",
           "<span style='font-size:32px'>future-actions</span><br>(4.3%)",
           "<span style='font-size:32px'>technical-details</span><br>(2.7%)",
           "what-actions (128)<br><span style='opacity:0.0'>execution-details</span>",
           "what-objects (93)<br><span style='opacity:0.0'>execution-details</span>",
           "how-was-it-done (54)<br><span style='opacity:0.0'>execution-details</span>",
           "what-location (45)<br><span style='opacity:0.0'>execution-details</span>",
           "what-quantity (36)<br><span style='opacity:0.0'>execution-details</span>",
           "failure-details (24)<br><span style='opacity:0.0'>execution-details</span>",
           "other (21)<br><span style='opacity:0.0'>execution-details</span>",
           "what-goal (16)<br><span style='opacity:0.0'>execution-details</span>",
           "extra-ability (129)<br><span style='opacity:0.0'>what-abilities</span>",
           "ability-modification (63)<br><span style='opacity:0.0'>what-abilities</span>",
           "ability-list (31)<br><span style='opacity:0.0'>what-abilities</span>",
           "ability-limits (17)<br><span style='opacity:0.0'>what-abilities</span>",
           "other (5)<br><span style='opacity:0.0'>what-abilities</span>",
           "difficulty (46)<br><span style='opacity:0.0'>self/task-assessment</span>",
           "did-you-ensure (43)<br><span style='opacity:0.0'>self/task-assessment</span>",
           "correctness (38)<br><span style='opacity:0.0'>self/task-assessment</span>",
           "performance (31)<br><span style='opacity:0.0'>self/task-assessment</span>",
           "problems (21)<br><span style='opacity:0.0'>self/task-assessment</span>",
           "success (16)<br><span style='opacity:0.0'>self/task-assessment</span>",
           "other (14)<br><span style='opacity:0.0'>self/task-assessment</span>",
           "why-did-you (87)<br><span style='opacity:0.0'>why</span>",
           "why-not-alternative (33)<br><span style='opacity:0.0'>why</span>",
           "why-issues (26)<br><span style='opacity:0.0'>why</span>",
           "why-action-order (23)<br><span style='opacity:0.0'>why</span>",
           "why-not-extra (21)<br><span style='opacity:0.0'>why</span>",
           "object-properties (107)<br><span style='opacity:0.0'>environment-state</span>",
           "other (28)<br><span style='opacity:0.0'>environment-state</span>",
           "availability (22)<br><span style='opacity:0.0'>environment-state</span>",
           "how-long (86)<br><span style='opacity:0.0'>time</span>",
           "at-what-time (26)<br><span style='opacity:0.0'>time</span>",
           "other (14)<br><span style='opacity:0.0'>time</span>",
           "goal-achieved (35)<br><span style='opacity:0.0'>how-did-you-know</span>",
           "goal-properties (33)<br><span style='opacity:0.0'>how-did-you-know</span>",
           "object-properties (28)<br><span style='opacity:0.0'>how-did-you-know</span>",
           "steps-to-take (15)<br><span style='opacity:0.0'>how-did-you-know</span>",
           "other (14)<br><span style='opacity:0.0'>how-did-you-know</span>",
           "check-understanding/beliefs (58)<br><span style='opacity:0.0'>mental-state</span>",
           "emotions (38)<br><span style='opacity:0.0'>mental-state</span>",
           "other (24)<br><span style='opacity:0.0'>mental-state</span>",
           "what-if (77)<br><span style='opacity:0.0'>potential-issues</span>",
           "how-to-ensure-correctness (37)<br><span style='opacity:0.0'>potential-issues</span>",
           "other (4)<br><span style='opacity:0.0'>potential-issues</span>",
           "goal-properties (33)<br><span style='opacity:0.0'>how-did-you-decide</span>",
           "other (30)<br><span style='opacity:0.0'>how-did-you-decide</span>",
           "goal-objects (24)<br><span style='opacity:0.0'>how-did-you-decide</span>",
           "task-priority (19)<br><span style='opacity:0.0'>how-did-you-decide</span>",
           "what-needs-to-be-done (37)<br><span style='opacity:0.0'>future-actions</span>",
           "what-next (29)<br><span style='opacity:0.0'>future-actions</span>",
           "other (17)<br><span style='opacity:0.0'>future-actions</span>",
           "how-does-it-work (30)<br><span style='opacity:0.0'>technical-details</span>",
           "other (22)<br><span style='opacity:0.0'>technical-details</span>"
          ],
          "line": {
           "color": "rgba(0,0,0,0.2)",
           "width": 0.5
          },
          "pad": 35,
          "thickness": 18
         },
         "type": "sankey",
         "valueformat": ","
        }
       ],
       "layout": {
        "font": {
         "size": 25
        },
        "height": 2400,
        "margin": {
         "b": 20,
         "l": 20,
         "r": 20,
         "t": 20
        },
        "template": {
         "data": {
          "bar": [
           {
            "error_x": {
             "color": "#2a3f5f"
            },
            "error_y": {
             "color": "#2a3f5f"
            },
            "marker": {
             "line": {
              "color": "#E5ECF6",
              "width": 0.5
             },
             "pattern": {
              "fillmode": "overlay",
              "size": 10,
              "solidity": 0.2
             }
            },
            "type": "bar"
           }
          ],
          "barpolar": [
           {
            "marker": {
             "line": {
              "color": "#E5ECF6",
              "width": 0.5
             },
             "pattern": {
              "fillmode": "overlay",
              "size": 10,
              "solidity": 0.2
             }
            },
            "type": "barpolar"
           }
          ],
          "carpet": [
           {
            "aaxis": {
             "endlinecolor": "#2a3f5f",
             "gridcolor": "white",
             "linecolor": "white",
             "minorgridcolor": "white",
             "startlinecolor": "#2a3f5f"
            },
            "baxis": {
             "endlinecolor": "#2a3f5f",
             "gridcolor": "white",
             "linecolor": "white",
             "minorgridcolor": "white",
             "startlinecolor": "#2a3f5f"
            },
            "type": "carpet"
           }
          ],
          "choropleth": [
           {
            "colorbar": {
             "outlinewidth": 0,
             "ticks": ""
            },
            "type": "choropleth"
           }
          ],
          "contour": [
           {
            "colorbar": {
             "outlinewidth": 0,
             "ticks": ""
            },
            "colorscale": [
             [
              0,
              "#0d0887"
             ],
             [
              0.1111111111111111,
              "#46039f"
             ],
             [
              0.2222222222222222,
              "#7201a8"
             ],
             [
              0.3333333333333333,
              "#9c179e"
             ],
             [
              0.4444444444444444,
              "#bd3786"
             ],
             [
              0.5555555555555556,
              "#d8576b"
             ],
             [
              0.6666666666666666,
              "#ed7953"
             ],
             [
              0.7777777777777778,
              "#fb9f3a"
             ],
             [
              0.8888888888888888,
              "#fdca26"
             ],
             [
              1,
              "#f0f921"
             ]
            ],
            "type": "contour"
           }
          ],
          "contourcarpet": [
           {
            "colorbar": {
             "outlinewidth": 0,
             "ticks": ""
            },
            "type": "contourcarpet"
           }
          ],
          "heatmap": [
           {
            "colorbar": {
             "outlinewidth": 0,
             "ticks": ""
            },
            "colorscale": [
             [
              0,
              "#0d0887"
             ],
             [
              0.1111111111111111,
              "#46039f"
             ],
             [
              0.2222222222222222,
              "#7201a8"
             ],
             [
              0.3333333333333333,
              "#9c179e"
             ],
             [
              0.4444444444444444,
              "#bd3786"
             ],
             [
              0.5555555555555556,
              "#d8576b"
             ],
             [
              0.6666666666666666,
              "#ed7953"
             ],
             [
              0.7777777777777778,
              "#fb9f3a"
             ],
             [
              0.8888888888888888,
              "#fdca26"
             ],
             [
              1,
              "#f0f921"
             ]
            ],
            "type": "heatmap"
           }
          ],
          "histogram": [
           {
            "marker": {
             "pattern": {
              "fillmode": "overlay",
              "size": 10,
              "solidity": 0.2
             }
            },
            "type": "histogram"
           }
          ],
          "histogram2d": [
           {
            "colorbar": {
             "outlinewidth": 0,
             "ticks": ""
            },
            "colorscale": [
             [
              0,
              "#0d0887"
             ],
             [
              0.1111111111111111,
              "#46039f"
             ],
             [
              0.2222222222222222,
              "#7201a8"
             ],
             [
              0.3333333333333333,
              "#9c179e"
             ],
             [
              0.4444444444444444,
              "#bd3786"
             ],
             [
              0.5555555555555556,
              "#d8576b"
             ],
             [
              0.6666666666666666,
              "#ed7953"
             ],
             [
              0.7777777777777778,
              "#fb9f3a"
             ],
             [
              0.8888888888888888,
              "#fdca26"
             ],
             [
              1,
              "#f0f921"
             ]
            ],
            "type": "histogram2d"
           }
          ],
          "histogram2dcontour": [
           {
            "colorbar": {
             "outlinewidth": 0,
             "ticks": ""
            },
            "colorscale": [
             [
              0,
              "#0d0887"
             ],
             [
              0.1111111111111111,
              "#46039f"
             ],
             [
              0.2222222222222222,
              "#7201a8"
             ],
             [
              0.3333333333333333,
              "#9c179e"
             ],
             [
              0.4444444444444444,
              "#bd3786"
             ],
             [
              0.5555555555555556,
              "#d8576b"
             ],
             [
              0.6666666666666666,
              "#ed7953"
             ],
             [
              0.7777777777777778,
              "#fb9f3a"
             ],
             [
              0.8888888888888888,
              "#fdca26"
             ],
             [
              1,
              "#f0f921"
             ]
            ],
            "type": "histogram2dcontour"
           }
          ],
          "mesh3d": [
           {
            "colorbar": {
             "outlinewidth": 0,
             "ticks": ""
            },
            "type": "mesh3d"
           }
          ],
          "parcoords": [
           {
            "line": {
             "colorbar": {
              "outlinewidth": 0,
              "ticks": ""
             }
            },
            "type": "parcoords"
           }
          ],
          "pie": [
           {
            "automargin": true,
            "type": "pie"
           }
          ],
          "scatter": [
           {
            "fillpattern": {
             "fillmode": "overlay",
             "size": 10,
             "solidity": 0.2
            },
            "type": "scatter"
           }
          ],
          "scatter3d": [
           {
            "line": {
             "colorbar": {
              "outlinewidth": 0,
              "ticks": ""
             }
            },
            "marker": {
             "colorbar": {
              "outlinewidth": 0,
              "ticks": ""
             }
            },
            "type": "scatter3d"
           }
          ],
          "scattercarpet": [
           {
            "marker": {
             "colorbar": {
              "outlinewidth": 0,
              "ticks": ""
             }
            },
            "type": "scattercarpet"
           }
          ],
          "scattergeo": [
           {
            "marker": {
             "colorbar": {
              "outlinewidth": 0,
              "ticks": ""
             }
            },
            "type": "scattergeo"
           }
          ],
          "scattergl": [
           {
            "marker": {
             "colorbar": {
              "outlinewidth": 0,
              "ticks": ""
             }
            },
            "type": "scattergl"
           }
          ],
          "scattermap": [
           {
            "marker": {
             "colorbar": {
              "outlinewidth": 0,
              "ticks": ""
             }
            },
            "type": "scattermap"
           }
          ],
          "scattermapbox": [
           {
            "marker": {
             "colorbar": {
              "outlinewidth": 0,
              "ticks": ""
             }
            },
            "type": "scattermapbox"
           }
          ],
          "scatterpolar": [
           {
            "marker": {
             "colorbar": {
              "outlinewidth": 0,
              "ticks": ""
             }
            },
            "type": "scatterpolar"
           }
          ],
          "scatterpolargl": [
           {
            "marker": {
             "colorbar": {
              "outlinewidth": 0,
              "ticks": ""
             }
            },
            "type": "scatterpolargl"
           }
          ],
          "scatterternary": [
           {
            "marker": {
             "colorbar": {
              "outlinewidth": 0,
              "ticks": ""
             }
            },
            "type": "scatterternary"
           }
          ],
          "surface": [
           {
            "colorbar": {
             "outlinewidth": 0,
             "ticks": ""
            },
            "colorscale": [
             [
              0,
              "#0d0887"
             ],
             [
              0.1111111111111111,
              "#46039f"
             ],
             [
              0.2222222222222222,
              "#7201a8"
             ],
             [
              0.3333333333333333,
              "#9c179e"
             ],
             [
              0.4444444444444444,
              "#bd3786"
             ],
             [
              0.5555555555555556,
              "#d8576b"
             ],
             [
              0.6666666666666666,
              "#ed7953"
             ],
             [
              0.7777777777777778,
              "#fb9f3a"
             ],
             [
              0.8888888888888888,
              "#fdca26"
             ],
             [
              1,
              "#f0f921"
             ]
            ],
            "type": "surface"
           }
          ],
          "table": [
           {
            "cells": {
             "fill": {
              "color": "#EBF0F8"
             },
             "line": {
              "color": "white"
             }
            },
            "header": {
             "fill": {
              "color": "#C8D4E3"
             },
             "line": {
              "color": "white"
             }
            },
            "type": "table"
           }
          ]
         },
         "layout": {
          "annotationdefaults": {
           "arrowcolor": "#2a3f5f",
           "arrowhead": 0,
           "arrowwidth": 1
          },
          "autotypenumbers": "strict",
          "coloraxis": {
           "colorbar": {
            "outlinewidth": 0,
            "ticks": ""
           }
          },
          "colorscale": {
           "diverging": [
            [
             0,
             "#8e0152"
            ],
            [
             0.1,
             "#c51b7d"
            ],
            [
             0.2,
             "#de77ae"
            ],
            [
             0.3,
             "#f1b6da"
            ],
            [
             0.4,
             "#fde0ef"
            ],
            [
             0.5,
             "#f7f7f7"
            ],
            [
             0.6,
             "#e6f5d0"
            ],
            [
             0.7,
             "#b8e186"
            ],
            [
             0.8,
             "#7fbc41"
            ],
            [
             0.9,
             "#4d9221"
            ],
            [
             1,
             "#276419"
            ]
           ],
           "sequential": [
            [
             0,
             "#0d0887"
            ],
            [
             0.1111111111111111,
             "#46039f"
            ],
            [
             0.2222222222222222,
             "#7201a8"
            ],
            [
             0.3333333333333333,
             "#9c179e"
            ],
            [
             0.4444444444444444,
             "#bd3786"
            ],
            [
             0.5555555555555556,
             "#d8576b"
            ],
            [
             0.6666666666666666,
             "#ed7953"
            ],
            [
             0.7777777777777778,
             "#fb9f3a"
            ],
            [
             0.8888888888888888,
             "#fdca26"
            ],
            [
             1,
             "#f0f921"
            ]
           ],
           "sequentialminus": [
            [
             0,
             "#0d0887"
            ],
            [
             0.1111111111111111,
             "#46039f"
            ],
            [
             0.2222222222222222,
             "#7201a8"
            ],
            [
             0.3333333333333333,
             "#9c179e"
            ],
            [
             0.4444444444444444,
             "#bd3786"
            ],
            [
             0.5555555555555556,
             "#d8576b"
            ],
            [
             0.6666666666666666,
             "#ed7953"
            ],
            [
             0.7777777777777778,
             "#fb9f3a"
            ],
            [
             0.8888888888888888,
             "#fdca26"
            ],
            [
             1,
             "#f0f921"
            ]
           ]
          },
          "colorway": [
           "#636efa",
           "#EF553B",
           "#00cc96",
           "#ab63fa",
           "#FFA15A",
           "#19d3f3",
           "#FF6692",
           "#B6E880",
           "#FF97FF",
           "#FECB52"
          ],
          "font": {
           "color": "#2a3f5f"
          },
          "geo": {
           "bgcolor": "white",
           "lakecolor": "white",
           "landcolor": "#E5ECF6",
           "showlakes": true,
           "showland": true,
           "subunitcolor": "white"
          },
          "hoverlabel": {
           "align": "left"
          },
          "hovermode": "closest",
          "mapbox": {
           "style": "light"
          },
          "paper_bgcolor": "white",
          "plot_bgcolor": "#E5ECF6",
          "polar": {
           "angularaxis": {
            "gridcolor": "white",
            "linecolor": "white",
            "ticks": ""
           },
           "bgcolor": "#E5ECF6",
           "radialaxis": {
            "gridcolor": "white",
            "linecolor": "white",
            "ticks": ""
           }
          },
          "scene": {
           "xaxis": {
            "backgroundcolor": "#E5ECF6",
            "gridcolor": "white",
            "gridwidth": 2,
            "linecolor": "white",
            "showbackground": true,
            "ticks": "",
            "zerolinecolor": "white"
           },
           "yaxis": {
            "backgroundcolor": "#E5ECF6",
            "gridcolor": "white",
            "gridwidth": 2,
            "linecolor": "white",
            "showbackground": true,
            "ticks": "",
            "zerolinecolor": "white"
           },
           "zaxis": {
            "backgroundcolor": "#E5ECF6",
            "gridcolor": "white",
            "gridwidth": 2,
            "linecolor": "white",
            "showbackground": true,
            "ticks": "",
            "zerolinecolor": "white"
           }
          },
          "shapedefaults": {
           "line": {
            "color": "#2a3f5f"
           }
          },
          "ternary": {
           "aaxis": {
            "gridcolor": "white",
            "linecolor": "white",
            "ticks": ""
           },
           "baxis": {
            "gridcolor": "white",
            "linecolor": "white",
            "ticks": ""
           },
           "bgcolor": "#E5ECF6",
           "caxis": {
            "gridcolor": "white",
            "linecolor": "white",
            "ticks": ""
           }
          },
          "title": {
           "x": 0.05
          },
          "xaxis": {
           "automargin": true,
           "gridcolor": "white",
           "linecolor": "white",
           "ticks": "",
           "title": {
            "standoff": 15
           },
           "zerolinecolor": "white",
           "zerolinewidth": 2
          },
          "yaxis": {
           "automargin": true,
           "gridcolor": "white",
           "linecolor": "white",
           "ticks": "",
           "title": {
            "standoff": 15
           },
           "zerolinecolor": "white",
           "zerolinewidth": 2
          }
         }
        },
        "title": {},
        "width": 2000
       }
      }
     },
     "metadata": {},
     "output_type": "display_data"
    }
   ],
   "source": [
    "# Sankey Diagram of Groups → Subgroups\n",
    "\n",
    "\n",
    "THRESH = 15                 # collapse subgroups with < THRESH rows into \"Other – <Group>\"\n",
    "USE_IMPORTANCE = False       # True => weight flows by sum of Q_Importance; False => by counts\n",
    "WRAP_WIDTH_GROUP = 50       # character wrap width for group labels\n",
    "WRAP_WIDTH_SUB = 50         # character wrap width for subgroup labels\n",
    "MERGE_SUBGROUPS_GLOBALLY = False  # if True, same Subgroup name across Groups becomes one node\n",
    "FIG_W, FIG_H = 2000, 2400    # sankey canvas size\n",
    "\n",
    "\n",
    "def wrap_label(s, width=16):\n",
    "    return \"<br>\".join(textwrap.wrap(str(s), width=width))\n",
    "\n",
    "def hex_to_rgb(hex_color):\n",
    "    hex_color = hex_color.lstrip(\"#\")\n",
    "    return tuple(int(hex_color[i:i+2], 16) for i in (0, 2, 4))\n",
    "\n",
    "def rgba_str(rgb, a=1.0):\n",
    "    r, g, b = rgb\n",
    "    return f\"rgba({r},{g},{b},{a})\"\n",
    "\n",
    "# ------------------------------------------------------------\n",
    "# DATA PREP (assumes df_annotated with columns: Group, Subgroup, Q_Importance)\n",
    "# ------------------------------------------------------------\n",
    "df = df_annotated.copy()\n",
    "\n",
    "# collapse tiny subgroups within each (Group, Subgroup)\n",
    "df[\"n\"] = df.groupby([\"Group\", \"Subgroup\"])[\"Subgroup\"].transform(\"size\")\n",
    "df[\"Subgroup_collapsed\"] = np.where(df[\"n\"] < THRESH, \"other\", df[\"Subgroup\"])\n",
    "\n",
    "agg = (\n",
    "    df.groupby([\"Group\", \"Subgroup_collapsed\"])[\"Q_Importance\" if USE_IMPORTANCE else \"Subgroup\"].count()\n",
    "    .reset_index(name=\"value\")\n",
    ")\n",
    "total_value = float(agg[\"value\"].sum())\n",
    "group_totals = agg.groupby(\"Group\")[\"value\"].sum().to_dict()\n",
    "\n",
    "groups = sorted(agg[\"Group\"].unique(),\n",
    "                key=lambda g: group_totals.get(g, 0.0),\n",
    "                reverse=True)\n",
    "group_labels = [\n",
    "    f\"<span style='font-size:32px'>{wrap_label(g, WRAP_WIDTH_GROUP)}</span><br>({group_totals[g] / total_value:.1%})\"\n",
    "    for g in groups\n",
    "]\n",
    "if MERGE_SUBGROUPS_GLOBALLY:\n",
    "    agg[\"SubNode\"] = agg[\"Subgroup_collapsed\"]\n",
    "else:\n",
    "    # disambiguate subgroups per group to avoid unintended merging\n",
    "    agg[\"SubNode\"] = agg.apply(\n",
    "        lambda r: f\"{r['Subgroup_collapsed']} — {r['Group']}\", axis=1\n",
    "    )\n",
    "\n",
    "subnodes_order = []\n",
    "for g in groups:\n",
    "    subs_in_group = agg.loc[agg[\"Group\"] == g, \"SubNode\"].unique()\n",
    "    # optional: sort by subgroup value\n",
    "    subs_in_group = sorted(\n",
    "        subs_in_group,\n",
    "        key=lambda s: agg.loc[agg[\"SubNode\"] == s, \"value\"].sum(),\n",
    "        reverse=True\n",
    "    )\n",
    "    subnodes_order.extend(subs_in_group)\n",
    "\n",
    "def pretty_sub_label(subnode, subcount):\n",
    "    if \" — \" in subnode and not MERGE_SUBGROUPS_GLOBALLY:\n",
    "        sub, g = subnode.split(\" — \", 1)\n",
    "    else:\n",
    "        sub, g = subnode, None\n",
    "\n",
    "    if g is not None:\n",
    "        return f\"{wrap_label(sub, WRAP_WIDTH_SUB)} ({subcount})<br><span style='opacity:0.0'>{wrap_label(g, WRAP_WIDTH_GROUP)}</span>\"\n",
    "    else:\n",
    "        return wrap_label(sub, WRAP_WIDTH_SUB)\n",
    "\n",
    "subnode_labels = [pretty_sub_label(s, agg.loc[agg[\"SubNode\"] == s, \"value\"].sum()) for s in subnodes_order]\n",
    "\n",
    "# final label list and index lookup\n",
    "labels = group_labels + subnode_labels\n",
    "label_to_index = {lab: i for i, lab in enumerate(labels)}\n",
    "# maps for raw->display label\n",
    "group_to_display = dict(zip(groups, group_labels))\n",
    "subnode_to_display = dict(zip(subnodes_order, subnode_labels))\n",
    "\n",
    "palette = px.colors.qualitative.Plotly  # or \"D3\", \"Set3\", etc.\n",
    "group_colors_hex = {g: palette[i % len(palette)] for i, g in enumerate(groups)}\n",
    "group_colors_rgb = {g: hex_to_rgb(c) if c.startswith(\"#\") else hex_to_rgb(px.colors.label_rgb(c)) \n",
    "                    if isinstance(c, str) and c.startswith(\"rgb\") == False else (31, 119, 180)\n",
    "                    for g, c in group_colors_hex.items()}\n",
    "# node colors (groups solid; subnodes = lighter tint of their group's color)\n",
    "node_colors = []\n",
    "for g in groups:\n",
    "    node_colors.append(rgba_str(group_colors_rgb[g], 1.0))  # group node (left)\n",
    "\n",
    "for s in subnodes_order:\n",
    "    # get the group this subnode belongs to (when MERGE_SUBGROUPS_GLOBALLY, tint by the largest contributing group)\n",
    "    if MERGE_SUBGROUPS_GLOBALLY:\n",
    "        # find the group with the max value contributing to this subnode\n",
    "        contrib = agg[agg[\"SubNode\"] == s]\n",
    "        top_g = contrib.sort_values(\"value\", ascending=False).iloc[0][\"Group\"]\n",
    "        rgb = group_colors_rgb[top_g]\n",
    "    else:\n",
    "        # subnode is unique to its group, parse it\n",
    "        _sub, g = s.split(\" — \", 1) if \" — \" in s else (s, groups[0])\n",
    "        rgb = group_colors_rgb[g]\n",
    "    node_colors.append(rgba_str(rgb, 0.25))  # light tint\n",
    "\n",
    "sources, targets, values = [], [], []\n",
    "link_colors, link_customdata = [], []\n",
    "\n",
    "\n",
    "for _, row in agg.iterrows():\n",
    "    g = row[\"Group\"]\n",
    "    s = row[\"SubNode\"]\n",
    "    val = float(row[\"value\"])\n",
    "\n",
    "    src_idx = label_to_index[group_to_display[g]]\n",
    "    tgt_idx = label_to_index[subnode_to_display[s]]\n",
    "\n",
    "    sources.append(src_idx)\n",
    "    targets.append(tgt_idx)\n",
    "    values.append(val)\n",
    "\n",
    "    # link color = group's color with alpha\n",
    "    link_colors.append(rgba_str(group_colors_rgb[g], 0.45))\n",
    "\n",
    "    # for hover: % of group and % of total\n",
    "    pct_group = val / group_totals[g] if group_totals[g] else 0.0\n",
    "    pct_total = val / total_value if total_value else 0.0\n",
    "    link_customdata.append([g, s, pct_group, pct_total])\n",
    "\n",
    "# ------------------------------------------------------------\n",
    "# FIGURE\n",
    "# ------------------------------------------------------------\n",
    "fig = go.Figure(data=[\n",
    "    go.Sankey(\n",
    "        arrangement=\"fixed\", \n",
    "        node=dict(\n",
    "            pad=35,\n",
    "            thickness=18,\n",
    "            line=dict(width=0.5, color=\"rgba(0,0,0,0.2)\"),\n",
    "            label=labels,\n",
    "            color=node_colors,\n",
    "            hovertemplate=\"<b>%{label}</b><extra></extra>\",\n",
    "        ),\n",
    "        link=dict(\n",
    "            source=sources,\n",
    "            target=targets,\n",
    "            value=values,\n",
    "            color=link_colors,\n",
    "            customdata=link_customdata,\n",
    "            hovertemplate=(\n",
    "                \"<b>%{customdata[0]} → %{customdata[1]}</b><br>\"\n",
    "                \"Value: %{value}<br>\"\n",
    "                \"% of group: %{customdata[2]:.1%}<br>\"\n",
    "                \"% of total: %{customdata[3]:.1%}<extra></extra>\"\n",
    "            ),\n",
    "        ),\n",
    "        valueformat=\",\", \n",
    "    )\n",
    "])\n",
    "\n",
    "fig.update_layout(\n",
    "    title=None,\n",
    "    font=dict(size=25),\n",
    "    width=FIG_W,\n",
    "    height=FIG_H,\n",
    "    margin=dict(t=20, r=20, b=20, l=20),\n",
    ")\n",
    "\n",
    "fig.show()\n",
    "\n",
    "os.makedirs(\"plots\", exist_ok=True)\n",
    "fig.write_image(\n",
    "    os.path.join(os.getcwd(), \"plots/question_category_sankey.pdf\"),\n",
    "    width=FIG_W,\n",
    "    height=FIG_H\n",
    ")\n"
   ]
  },
  {
   "cell_type": "markdown",
   "id": "e7dabad7",
   "metadata": {},
   "source": [
    "# RQ2: Question Importance Analysis"
   ]
  },
  {
   "cell_type": "code",
   "execution_count": 11,
   "id": "dd07c041",
   "metadata": {},
   "outputs": [
    {
     "name": "stdout",
     "output_type": "stream",
     "text": [
      "Fitted with LBFGS optimizer.\n",
      "                 Mixed Linear Model Regression Results\n",
      "========================================================================\n",
      "Model:                  MixedLM     Dependent Variable:     Q_Importance\n",
      "No. Observations:       1948        Method:                 REML        \n",
      "No. Groups:             100         Scale:                  0.5569      \n",
      "Min. group size:        9           Log-Likelihood:         -2419.8598  \n",
      "Max. group size:        27          Converged:              Yes         \n",
      "Mean group size:        19.5                                            \n",
      "------------------------------------------------------------------------\n",
      "                               Coef. Std.Err.   z    P>|z| [0.025 0.975]\n",
      "------------------------------------------------------------------------\n",
      "C(Group)[environment-state]    3.697    0.089 41.332 0.000  3.522  3.872\n",
      "C(Group)[execution-details]    3.810    0.072 53.272 0.000  3.669  3.950\n",
      "C(Group)[future-actions]       3.661    0.107 34.288 0.000  3.451  3.870\n",
      "C(Group)[how-did-you-decide]   3.848    0.100 38.430 0.000  3.652  4.044\n",
      "C(Group)[how-did-you-know]     3.952    0.095 41.778 0.000  3.767  4.138\n",
      "C(Group)[mental-state]         3.534    0.096 36.979 0.000  3.347  3.721\n",
      "C(Group)[potential-issues]     4.011    0.098 41.112 0.000  3.820  4.203\n",
      "C(Group)[self/task-assessment] 3.861    0.083 46.354 0.000  3.698  4.025\n",
      "C(Group)[technical-details]    3.744    0.128 29.148 0.000  3.492  3.996\n",
      "C(Group)[time]                 3.630    0.092 39.415 0.000  3.449  3.810\n",
      "C(Group)[what-abilities]       3.639    0.080 45.626 0.000  3.483  3.795\n",
      "C(Group)[why]                  3.582    0.085 42.112 0.000  3.415  3.749\n",
      "Group Var                      0.331    0.073                           \n",
      "Stimulus Var                   0.069    0.024                           \n",
      "========================================================================\n",
      "\n",
      "\n",
      "Estimated marginal means (per category):\n",
      "                   Group       EMM        SE    CI_low   CI_high  Count\n",
      "5           mental-state  3.533829  0.095562  3.346530  3.721128    120\n",
      "11                   why  3.581977  0.085058  3.415267  3.748688    190\n",
      "9                   time  3.629916  0.092094  3.449416  3.810417    126\n",
      "10        what-abilities  3.638999  0.079757  3.482677  3.795320    245\n",
      "2         future-actions  3.660643  0.106763  3.451391  3.869895     83\n",
      "0      environment-state  3.697019  0.089446  3.521707  3.872331    157\n",
      "8      technical-details  3.744270  0.128459  3.492496  3.996045     52\n",
      "1      execution-details  3.809579  0.071511  3.669419  3.949739    417\n",
      "3     how-did-you-decide  3.847895  0.100128  3.651647  4.044142    106\n",
      "7   self/task-assessment  3.861488  0.083304  3.698216  4.024760    209\n",
      "4       how-did-you-know  3.952260  0.094602  3.766843  4.137677    125\n",
      "6       potential-issues  4.011368  0.097573  3.820129  4.202607    118\n",
      "\n",
      "Pairwise category comparisons (A - B):\n"
     ]
    },
    {
     "data": {
      "text/html": [
       "<div>\n",
       "<style scoped>\n",
       "    .dataframe tbody tr th:only-of-type {\n",
       "        vertical-align: middle;\n",
       "    }\n",
       "\n",
       "    .dataframe tbody tr th {\n",
       "        vertical-align: top;\n",
       "    }\n",
       "\n",
       "    .dataframe thead th {\n",
       "        text-align: right;\n",
       "    }\n",
       "</style>\n",
       "<table border=\"1\" class=\"dataframe\">\n",
       "  <thead>\n",
       "    <tr style=\"text-align: right;\">\n",
       "      <th></th>\n",
       "      <th>contrast</th>\n",
       "      <th>estimate</th>\n",
       "      <th>SE</th>\n",
       "      <th>z</th>\n",
       "      <th>p</th>\n",
       "      <th>p_adj</th>\n",
       "      <th>sig_0.05</th>\n",
       "      <th>CI_low</th>\n",
       "      <th>CI_high</th>\n",
       "    </tr>\n",
       "  </thead>\n",
       "  <tbody>\n",
       "    <tr>\n",
       "      <th>55</th>\n",
       "      <td>potential-issues - why</td>\n",
       "      <td>0.429390</td>\n",
       "      <td>0.097527</td>\n",
       "      <td>4.402792</td>\n",
       "      <td>0.000011</td>\n",
       "      <td>0.000705</td>\n",
       "      <td>True</td>\n",
       "      <td>0.238241</td>\n",
       "      <td>0.620540</td>\n",
       "    </tr>\n",
       "    <tr>\n",
       "      <th>45</th>\n",
       "      <td>mental-state - potential-issues</td>\n",
       "      <td>-0.477539</td>\n",
       "      <td>0.109753</td>\n",
       "      <td>-4.351045</td>\n",
       "      <td>0.000014</td>\n",
       "      <td>0.000881</td>\n",
       "      <td>True</td>\n",
       "      <td>-0.692650</td>\n",
       "      <td>-0.262427</td>\n",
       "    </tr>\n",
       "    <tr>\n",
       "      <th>38</th>\n",
       "      <td>how-did-you-know - mental-state</td>\n",
       "      <td>0.418431</td>\n",
       "      <td>0.106069</td>\n",
       "      <td>3.944877</td>\n",
       "      <td>0.000080</td>\n",
       "      <td>0.005110</td>\n",
       "      <td>True</td>\n",
       "      <td>0.210539</td>\n",
       "      <td>0.626323</td>\n",
       "    </tr>\n",
       "    <tr>\n",
       "      <th>54</th>\n",
       "      <td>potential-issues - what-abilities</td>\n",
       "      <td>0.372369</td>\n",
       "      <td>0.095267</td>\n",
       "      <td>3.908702</td>\n",
       "      <td>0.000093</td>\n",
       "      <td>0.005846</td>\n",
       "      <td>True</td>\n",
       "      <td>0.185650</td>\n",
       "      <td>0.559088</td>\n",
       "    </tr>\n",
       "    <tr>\n",
       "      <th>44</th>\n",
       "      <td>how-did-you-know - why</td>\n",
       "      <td>0.370282</td>\n",
       "      <td>0.095585</td>\n",
       "      <td>3.873837</td>\n",
       "      <td>0.000107</td>\n",
       "      <td>0.006642</td>\n",
       "      <td>True</td>\n",
       "      <td>0.182938</td>\n",
       "      <td>0.557627</td>\n",
       "    </tr>\n",
       "    <tr>\n",
       "      <th>53</th>\n",
       "      <td>potential-issues - time</td>\n",
       "      <td>0.381452</td>\n",
       "      <td>0.107579</td>\n",
       "      <td>3.545798</td>\n",
       "      <td>0.000391</td>\n",
       "      <td>0.023877</td>\n",
       "      <td>True</td>\n",
       "      <td>0.170602</td>\n",
       "      <td>0.592302</td>\n",
       "    </tr>\n",
       "    <tr>\n",
       "      <th>46</th>\n",
       "      <td>mental-state - self/task-assessment</td>\n",
       "      <td>-0.327659</td>\n",
       "      <td>0.096059</td>\n",
       "      <td>-3.411000</td>\n",
       "      <td>0.000647</td>\n",
       "      <td>0.038835</td>\n",
       "      <td>True</td>\n",
       "      <td>-0.515932</td>\n",
       "      <td>-0.139386</td>\n",
       "    </tr>\n",
       "    <tr>\n",
       "      <th>43</th>\n",
       "      <td>how-did-you-know - what-abilities</td>\n",
       "      <td>0.313261</td>\n",
       "      <td>0.092597</td>\n",
       "      <td>3.383046</td>\n",
       "      <td>0.000717</td>\n",
       "      <td>0.042295</td>\n",
       "      <td>True</td>\n",
       "      <td>0.131774</td>\n",
       "      <td>0.494749</td>\n",
       "    </tr>\n",
       "    <tr>\n",
       "      <th>14</th>\n",
       "      <td>execution-details - mental-state</td>\n",
       "      <td>0.275750</td>\n",
       "      <td>0.086781</td>\n",
       "      <td>3.177551</td>\n",
       "      <td>0.001485</td>\n",
       "      <td>0.086144</td>\n",
       "      <td>False</td>\n",
       "      <td>0.105663</td>\n",
       "      <td>0.445837</td>\n",
       "    </tr>\n",
       "    <tr>\n",
       "      <th>59</th>\n",
       "      <td>self/task-assessment - why</td>\n",
       "      <td>0.279510</td>\n",
       "      <td>0.088137</td>\n",
       "      <td>3.171335</td>\n",
       "      <td>0.001517</td>\n",
       "      <td>0.086492</td>\n",
       "      <td>False</td>\n",
       "      <td>0.106766</td>\n",
       "      <td>0.452255</td>\n",
       "    </tr>\n",
       "  </tbody>\n",
       "</table>\n",
       "</div>"
      ],
      "text/plain": [
       "                               contrast  estimate        SE         z  \\\n",
       "55               potential-issues - why  0.429390  0.097527  4.402792   \n",
       "45      mental-state - potential-issues -0.477539  0.109753 -4.351045   \n",
       "38      how-did-you-know - mental-state  0.418431  0.106069  3.944877   \n",
       "54    potential-issues - what-abilities  0.372369  0.095267  3.908702   \n",
       "44               how-did-you-know - why  0.370282  0.095585  3.873837   \n",
       "53              potential-issues - time  0.381452  0.107579  3.545798   \n",
       "46  mental-state - self/task-assessment -0.327659  0.096059 -3.411000   \n",
       "43    how-did-you-know - what-abilities  0.313261  0.092597  3.383046   \n",
       "14     execution-details - mental-state  0.275750  0.086781  3.177551   \n",
       "59           self/task-assessment - why  0.279510  0.088137  3.171335   \n",
       "\n",
       "           p     p_adj  sig_0.05    CI_low   CI_high  \n",
       "55  0.000011  0.000705      True  0.238241  0.620540  \n",
       "45  0.000014  0.000881      True -0.692650 -0.262427  \n",
       "38  0.000080  0.005110      True  0.210539  0.626323  \n",
       "54  0.000093  0.005846      True  0.185650  0.559088  \n",
       "44  0.000107  0.006642      True  0.182938  0.557627  \n",
       "53  0.000391  0.023877      True  0.170602  0.592302  \n",
       "46  0.000647  0.038835      True -0.515932 -0.139386  \n",
       "43  0.000717  0.042295      True  0.131774  0.494749  \n",
       "14  0.001485  0.086144     False  0.105663  0.445837  \n",
       "59  0.001517  0.086492     False  0.106766  0.452255  "
      ]
     },
     "execution_count": 11,
     "metadata": {},
     "output_type": "execute_result"
    }
   ],
   "source": [
    "# Linear mixed-effects model with random intercepts\n",
    "\n",
    "y_col        = \"Q_Importance\"    \n",
    "category_col = \"Group\"         \n",
    "stim_col     = \"Stimulus\"\n",
    "part_col     = \"Participant_ID\"\n",
    "\n",
    "d = df_annotated.dropna(subset=[y_col, category_col, stim_col, part_col]).copy()\n",
    "\n",
    "for c in (category_col, stim_col, part_col):\n",
    "    d[c] = d[c].astype(\"category\")\n",
    "\n",
    "# Use 0 + C(category) so each fixed-effect coefficient = the mean for that category\n",
    "formula = f\"{y_col} ~ 0 + C({category_col})\"\n",
    "\n",
    "# Random intercepts: participants as groups; stimuli as variance components (quirk of statsmodels)\n",
    "m = smf.mixedlm(formula, d,\n",
    "                groups=d[part_col],\n",
    "                re_formula=\"1\",\n",
    "                vc_formula={stim_col: f\"0 + C({stim_col})\"})\n",
    "\n",
    "# Fit model\n",
    "try:\n",
    "    res = m.fit(reml=True, method=\"lbfgs\", maxiter=200)\n",
    "    print(\"Fitted with LBFGS optimizer.\")\n",
    "except Exception:\n",
    "    try:\n",
    "        res = m.fit(reml=True, method=\"cg\", maxiter=200)\n",
    "        print(\"Fitted with CG optimizer.\")\n",
    "    except Exception:\n",
    "        res = m.fit(reml=True, method=\"nm\", maxiter=400)\n",
    "        print(\"Fitted with NM optimizer.\")\n",
    "\n",
    "print(res.summary())\n",
    "\n",
    "# EMMs per category\n",
    "def _level_from_param(name: str) -> str:\n",
    "    m = regular_expressions.search(r\"\\[(?:T\\.)?(.+)\\]$\", name)\n",
    "    return m.group(1) if m else name\n",
    "\n",
    "levels = [_level_from_param(n) for n in res.fe_params.index]\n",
    "emm = pd.DataFrame({\n",
    "    category_col: levels,\n",
    "    \"EMM\": res.fe_params.values,\n",
    "    \"SE\": np.sqrt(np.diag(res.cov_params()))[:len(levels)]\n",
    "})\n",
    "z_975 = norm.ppf(0.975)\n",
    "emm[\"CI_low\"]  = emm[\"EMM\"] - z_975 * emm[\"SE\"]\n",
    "emm[\"CI_high\"] = emm[\"EMM\"] + z_975 * emm[\"SE\"]\n",
    "emm[\"Count\"] = d[category_col].value_counts().reindex(levels).values\n",
    "print(\"\\nEstimated marginal means (per category):\")\n",
    "print(emm.sort_values(\"EMM\"))\n",
    "\n",
    "# pairwise comparisons (z-tests)\n",
    "pairs = []\n",
    "cov = res.cov_params()\n",
    "for i, j in combinations(range(len(levels)), 2):\n",
    "    lev_i, lev_j = levels[i], levels[j]\n",
    "    est_i, est_j = res.fe_params.iloc[i], res.fe_params.iloc[j]\n",
    "    diff = est_i - est_j\n",
    "    se = np.sqrt(cov.iloc[i, i] + cov.iloc[j, j] - 2 * cov.iloc[i, j])\n",
    "    z = diff / se\n",
    "    p_two_sided = 2 * (1 - norm.cdf(abs(z)))\n",
    "    pairs.append({\n",
    "        \"contrast\": f\"{lev_i} - {lev_j}\",\n",
    "        \"estimate\": diff,\n",
    "        \"SE\": se,\n",
    "        \"z\": z,\n",
    "        \"p\": p_two_sided\n",
    "    })\n",
    "\n",
    "# correct for multiple testing with Bonferroni-Holm\n",
    "pairs_df = pd.DataFrame(pairs)\n",
    "pairs_df[\"p_adj\"] = multipletests(pairs_df[\"p\"].values, method=\"holm\")[1]\n",
    "pairs_df[\"sig_0.05\"] = pairs_df[\"p_adj\"] < 0.05\n",
    "pairs_df[\"CI_low\"]  = pairs_df[\"estimate\"] - z_975 * pairs_df[\"SE\"]\n",
    "pairs_df[\"CI_high\"] = pairs_df[\"estimate\"] + z_975 * pairs_df[\"SE\"]\n",
    "\n",
    "print(\"\\nPairwise category comparisons (A - B):\")\n",
    "pairs_df.sort_values(\"p_adj\").head(10)\n"
   ]
  },
  {
   "cell_type": "code",
   "execution_count": 12,
   "id": "7b115578",
   "metadata": {},
   "outputs": [
    {
     "data": {
      "application/vnd.plotly.v1+json": {
       "config": {
        "plotlyServerURL": "https://plot.ly"
       },
       "data": [
        {
         "hovertemplate": "<b>mental-state</b><br>mean=3.534<br>95% CI=[3.347, 3.721]<extra></extra>",
         "marker": {
          "color": "#ef4444",
          "line": {
           "color": "white",
           "width": 2
          },
          "size": 14
         },
         "mode": "markers",
         "showlegend": false,
         "type": "scatter",
         "x": [
          3.533829136533284
         ],
         "y": [
          0
         ]
        },
        {
         "hovertemplate": "<b>why</b><br>mean=3.582<br>95% CI=[3.415, 3.749]<extra></extra>",
         "marker": {
          "color": "#22c55e",
          "line": {
           "color": "white",
           "width": 2
          },
          "size": 14
         },
         "mode": "markers",
         "showlegend": false,
         "type": "scatter",
         "x": [
          3.5819773701186564
         ],
         "y": [
          1
         ]
        },
        {
         "hovertemplate": "<b>time</b><br>mean=3.630<br>95% CI=[3.449, 3.810]<extra></extra>",
         "marker": {
          "color": "#3b82f6",
          "line": {
           "color": "white",
           "width": 2
          },
          "size": 14
         },
         "mode": "markers",
         "showlegend": false,
         "type": "scatter",
         "x": [
          3.6299160598372966
         ],
         "y": [
          2
         ]
        },
        {
         "hovertemplate": "<b>what-abilities</b><br>mean=3.639<br>95% CI=[3.483, 3.795]<extra></extra>",
         "marker": {
          "color": "#8b5cf6",
          "line": {
           "color": "white",
           "width": 2
          },
          "size": 14
         },
         "mode": "markers",
         "showlegend": false,
         "type": "scatter",
         "x": [
          3.638998696315891
         ],
         "y": [
          3
         ]
        },
        {
         "hovertemplate": "<b>future-actions</b><br>mean=3.661<br>95% CI=[3.451, 3.870]<extra></extra>",
         "marker": {
          "color": "#f59e0b",
          "line": {
           "color": "white",
           "width": 2
          },
          "size": 14
         },
         "mode": "markers",
         "showlegend": false,
         "type": "scatter",
         "x": [
          3.66064346058918
         ],
         "y": [
          4
         ]
        },
        {
         "hovertemplate": "<b>environment-state</b><br>mean=3.697<br>95% CI=[3.522, 3.872]<extra></extra>",
         "marker": {
          "color": "#06b6d4",
          "line": {
           "color": "white",
           "width": 2
          },
          "size": 14
         },
         "mode": "markers",
         "showlegend": false,
         "type": "scatter",
         "x": [
          3.6970189570016543
         ],
         "y": [
          5
         ]
        },
        {
         "hovertemplate": "<b>technical-details</b><br>mean=3.744<br>95% CI=[3.492, 3.996]<extra></extra>",
         "marker": {
          "color": "#ef4444",
          "line": {
           "color": "white",
           "width": 2
          },
          "size": 14
         },
         "mode": "markers",
         "showlegend": false,
         "type": "scatter",
         "x": [
          3.7442702225065507
         ],
         "y": [
          6
         ]
        },
        {
         "hovertemplate": "<b>execution-details</b><br>mean=3.810<br>95% CI=[3.669, 3.950]<extra></extra>",
         "marker": {
          "color": "#22c55e",
          "line": {
           "color": "white",
           "width": 2
          },
          "size": 14
         },
         "mode": "markers",
         "showlegend": false,
         "type": "scatter",
         "x": [
          3.8095790862808054
         ],
         "y": [
          7
         ]
        },
        {
         "hovertemplate": "<b>how-did-you-decide</b><br>mean=3.848<br>95% CI=[3.652, 4.044]<extra></extra>",
         "marker": {
          "color": "#3b82f6",
          "line": {
           "color": "white",
           "width": 2
          },
          "size": 14
         },
         "mode": "markers",
         "showlegend": false,
         "type": "scatter",
         "x": [
          3.8478947535018175
         ],
         "y": [
          8
         ]
        },
        {
         "hovertemplate": "<b>self/task-assessment</b><br>mean=3.861<br>95% CI=[3.698, 4.025]<extra></extra>",
         "marker": {
          "color": "#8b5cf6",
          "line": {
           "color": "white",
           "width": 2
          },
          "size": 14
         },
         "mode": "markers",
         "showlegend": false,
         "type": "scatter",
         "x": [
          3.8614878547869123
         ],
         "y": [
          9
         ]
        },
        {
         "hovertemplate": "<b>how-did-you-know</b><br>mean=3.952<br>95% CI=[3.767, 4.138]<extra></extra>",
         "marker": {
          "color": "#f59e0b",
          "line": {
           "color": "white",
           "width": 2
          },
          "size": 14
         },
         "mode": "markers",
         "showlegend": false,
         "type": "scatter",
         "x": [
          3.9522598464024554
         ],
         "y": [
          10
         ]
        },
        {
         "hovertemplate": "<b>potential-issues</b><br>mean=4.011<br>95% CI=[3.820, 4.203]<extra></extra>",
         "marker": {
          "color": "#06b6d4",
          "line": {
           "color": "white",
           "width": 2
          },
          "size": 14
         },
         "mode": "markers",
         "showlegend": false,
         "type": "scatter",
         "x": [
          4.0113677826929575
         ],
         "y": [
          11
         ]
        }
       ],
       "layout": {
        "annotations": [
         {
          "font": {
           "color": "#ef4444",
           "size": 12
          },
          "showarrow": false,
          "text": "<b>+3.534</b>",
          "x": 3.563829136533284,
          "xanchor": "left",
          "xref": "x",
          "y": 0,
          "yanchor": "middle",
          "yref": "y"
         },
         {
          "font": {
           "color": "#6B7280",
           "size": 12
          },
          "showarrow": false,
          "text": "n=120",
          "x": 0.9,
          "xanchor": "left",
          "xref": "paper",
          "y": 0,
          "yanchor": "middle",
          "yref": "y"
         },
         {
          "font": {
           "color": "#22c55e",
           "size": 12
          },
          "showarrow": false,
          "text": "<b>+3.582</b>",
          "x": 3.611977370118656,
          "xanchor": "left",
          "xref": "x",
          "y": 1,
          "yanchor": "middle",
          "yref": "y"
         },
         {
          "font": {
           "color": "#6B7280",
           "size": 12
          },
          "showarrow": false,
          "text": "n=190",
          "x": 0.9,
          "xanchor": "left",
          "xref": "paper",
          "y": 1,
          "yanchor": "middle",
          "yref": "y"
         },
         {
          "font": {
           "color": "#3b82f6",
           "size": 12
          },
          "showarrow": false,
          "text": "<b>+3.630</b>",
          "x": 3.6599160598372964,
          "xanchor": "left",
          "xref": "x",
          "y": 2,
          "yanchor": "middle",
          "yref": "y"
         },
         {
          "font": {
           "color": "#6B7280",
           "size": 12
          },
          "showarrow": false,
          "text": "n=126",
          "x": 0.9,
          "xanchor": "left",
          "xref": "paper",
          "y": 2,
          "yanchor": "middle",
          "yref": "y"
         },
         {
          "font": {
           "color": "#8b5cf6",
           "size": 12
          },
          "showarrow": false,
          "text": "<b>+3.639</b>",
          "x": 3.668998696315891,
          "xanchor": "left",
          "xref": "x",
          "y": 3,
          "yanchor": "middle",
          "yref": "y"
         },
         {
          "font": {
           "color": "#6B7280",
           "size": 12
          },
          "showarrow": false,
          "text": "n=245",
          "x": 0.9,
          "xanchor": "left",
          "xref": "paper",
          "y": 3,
          "yanchor": "middle",
          "yref": "y"
         },
         {
          "font": {
           "color": "#f59e0b",
           "size": 12
          },
          "showarrow": false,
          "text": "<b>+3.661</b>",
          "x": 3.69064346058918,
          "xanchor": "left",
          "xref": "x",
          "y": 4,
          "yanchor": "middle",
          "yref": "y"
         },
         {
          "font": {
           "color": "#6B7280",
           "size": 12
          },
          "showarrow": false,
          "text": "n=83",
          "x": 0.9,
          "xanchor": "left",
          "xref": "paper",
          "y": 4,
          "yanchor": "middle",
          "yref": "y"
         },
         {
          "font": {
           "color": "#06b6d4",
           "size": 12
          },
          "showarrow": false,
          "text": "<b>+3.697</b>",
          "x": 3.727018957001654,
          "xanchor": "left",
          "xref": "x",
          "y": 5,
          "yanchor": "middle",
          "yref": "y"
         },
         {
          "font": {
           "color": "#6B7280",
           "size": 12
          },
          "showarrow": false,
          "text": "n=157",
          "x": 0.9,
          "xanchor": "left",
          "xref": "paper",
          "y": 5,
          "yanchor": "middle",
          "yref": "y"
         },
         {
          "font": {
           "color": "#ef4444",
           "size": 12
          },
          "showarrow": false,
          "text": "<b>+3.744</b>",
          "x": 3.7742702225065505,
          "xanchor": "left",
          "xref": "x",
          "y": 6,
          "yanchor": "middle",
          "yref": "y"
         },
         {
          "font": {
           "color": "#6B7280",
           "size": 12
          },
          "showarrow": false,
          "text": "n=52",
          "x": 0.9,
          "xanchor": "left",
          "xref": "paper",
          "y": 6,
          "yanchor": "middle",
          "yref": "y"
         },
         {
          "font": {
           "color": "#22c55e",
           "size": 12
          },
          "showarrow": false,
          "text": "<b>+3.810</b>",
          "x": 3.8395790862808052,
          "xanchor": "left",
          "xref": "x",
          "y": 7,
          "yanchor": "middle",
          "yref": "y"
         },
         {
          "font": {
           "color": "#6B7280",
           "size": 12
          },
          "showarrow": false,
          "text": "n=417",
          "x": 0.9,
          "xanchor": "left",
          "xref": "paper",
          "y": 7,
          "yanchor": "middle",
          "yref": "y"
         },
         {
          "font": {
           "color": "#3b82f6",
           "size": 12
          },
          "showarrow": false,
          "text": "<b>+3.848</b>",
          "x": 3.8778947535018173,
          "xanchor": "left",
          "xref": "x",
          "y": 8,
          "yanchor": "middle",
          "yref": "y"
         },
         {
          "font": {
           "color": "#6B7280",
           "size": 12
          },
          "showarrow": false,
          "text": "n=106",
          "x": 0.9,
          "xanchor": "left",
          "xref": "paper",
          "y": 8,
          "yanchor": "middle",
          "yref": "y"
         },
         {
          "font": {
           "color": "#8b5cf6",
           "size": 12
          },
          "showarrow": false,
          "text": "<b>+3.861</b>",
          "x": 3.891487854786912,
          "xanchor": "left",
          "xref": "x",
          "y": 9,
          "yanchor": "middle",
          "yref": "y"
         },
         {
          "font": {
           "color": "#6B7280",
           "size": 12
          },
          "showarrow": false,
          "text": "n=209",
          "x": 0.9,
          "xanchor": "left",
          "xref": "paper",
          "y": 9,
          "yanchor": "middle",
          "yref": "y"
         },
         {
          "font": {
           "color": "#f59e0b",
           "size": 12
          },
          "showarrow": false,
          "text": "<b>+3.952</b>",
          "x": 3.9822598464024552,
          "xanchor": "left",
          "xref": "x",
          "y": 10,
          "yanchor": "middle",
          "yref": "y"
         },
         {
          "font": {
           "color": "#6B7280",
           "size": 12
          },
          "showarrow": false,
          "text": "n=125",
          "x": 0.9,
          "xanchor": "left",
          "xref": "paper",
          "y": 10,
          "yanchor": "middle",
          "yref": "y"
         },
         {
          "font": {
           "color": "#06b6d4",
           "size": 12
          },
          "showarrow": false,
          "text": "<b>+4.011</b>",
          "x": 4.041367782692958,
          "xanchor": "left",
          "xref": "x",
          "y": 11,
          "yanchor": "middle",
          "yref": "y"
         },
         {
          "font": {
           "color": "#6B7280",
           "size": 12
          },
          "showarrow": false,
          "text": "n=118",
          "x": 0.9,
          "xanchor": "left",
          "xref": "paper",
          "y": 11,
          "yanchor": "middle",
          "yref": "y"
         },
         {
          "font": {
           "color": "#111827",
           "size": 12
          },
          "showarrow": false,
          "text": "***",
          "x": 0.992,
          "xanchor": "left",
          "xref": "paper",
          "y": 6,
          "yanchor": "middle",
          "yref": "y"
         },
         {
          "font": {
           "color": "#111827",
           "size": 12
          },
          "showarrow": false,
          "text": "***",
          "x": 1.047,
          "xanchor": "left",
          "xref": "paper",
          "y": 5.5,
          "yanchor": "middle",
          "yref": "y"
         },
         {
          "font": {
           "color": "#111827",
           "size": 12
          },
          "showarrow": false,
          "text": "**",
          "x": 1.102,
          "xanchor": "left",
          "xref": "paper",
          "y": 5,
          "yanchor": "middle",
          "yref": "y"
         },
         {
          "font": {
           "color": "#111827",
           "size": 12
          },
          "showarrow": false,
          "text": "**",
          "x": 1.157,
          "xanchor": "left",
          "xref": "paper",
          "y": 7,
          "yanchor": "middle",
          "yref": "y"
         },
         {
          "font": {
           "color": "#111827",
           "size": 12
          },
          "showarrow": false,
          "text": "**",
          "x": 1.212,
          "xanchor": "left",
          "xref": "paper",
          "y": 5.5,
          "yanchor": "middle",
          "yref": "y"
         },
         {
          "font": {
           "color": "#111827",
           "size": 12
          },
          "showarrow": false,
          "text": "*",
          "x": 1.267,
          "xanchor": "left",
          "xref": "paper",
          "y": 6.5,
          "yanchor": "middle",
          "yref": "y"
         },
         {
          "font": {
           "color": "#111827",
           "size": 12
          },
          "showarrow": false,
          "text": "*",
          "x": 1.322,
          "xanchor": "left",
          "xref": "paper",
          "y": 4.5,
          "yanchor": "middle",
          "yref": "y"
         },
         {
          "font": {
           "color": "#111827",
           "size": 12
          },
          "showarrow": false,
          "text": "*",
          "x": 1.377,
          "xanchor": "left",
          "xref": "paper",
          "y": 6.5,
          "yanchor": "middle",
          "yref": "y"
         }
        ],
        "autosize": false,
        "height": 600,
        "margin": {
         "b": 100,
         "l": 220,
         "r": 380,
         "t": 60
        },
        "paper_bgcolor": "#FAFAF9",
        "plot_bgcolor": "#FFFFFF",
        "shapes": [
         {
          "fillcolor": "#ef4444",
          "layer": "between",
          "line": {
           "width": 0
          },
          "opacity": 0.22,
          "path": "M 3.3764981680833857,-0.31 L 3.6911601049831826,-0.31 Q 3.721127908497449,-0.31 3.721127908497449,-0.28003219648573363 L 3.721127908497449,0.28003219648573363 Q 3.721127908497449,0.31 3.6911601049831826,0.31 L 3.3764981680833857,0.31 Q 3.3465303645691193,0.31 3.3465303645691193,0.28003219648573363 L 3.3465303645691193,-0.28003219648573363 Q 3.3465303645691193,-0.31 3.3764981680833857,-0.31 Z",
          "type": "path",
          "xref": "x",
          "yref": "y"
         },
         {
          "fillcolor": "#22c55e",
          "layer": "between",
          "line": {
           "width": 0
          },
          "opacity": 0.22,
          "path": "M 3.4419407607736767,0.69 L 3.722013979463636,0.69 Q 3.7486876193388703,0.69 3.7486876193388703,0.7166736398752341 L 3.7486876193388703,1.2833263601247658 Q 3.7486876193388703,1.31 3.722013979463636,1.31 L 3.4419407607736767,1.31 Q 3.4152671208984424,1.31 3.4152671208984424,1.2833263601247658 L 3.4152671208984424,0.7166736398752341 Q 3.4152671208984424,0.69 3.4419407607736767,0.69 Z",
          "type": "path",
          "xref": "x",
          "yref": "y"
         },
         {
          "fillcolor": "#3b82f6",
          "layer": "between",
          "line": {
           "width": 0
          },
          "opacity": 0.22,
          "path": "M 3.478295673379951,1.69 L 3.781536446294642,1.69 Q 3.8104165199055653,1.69 3.8104165199055653,1.7188800736109229 L 3.8104165199055653,2.281119926389077 Q 3.8104165199055653,2.31 3.781536446294642,2.31 L 3.478295673379951,2.31 Q 3.449415599769028,2.31 3.449415599769028,2.281119926389077 L 3.449415599769028,1.7188800736109229 Q 3.449415599769028,1.69 3.478295673379951,1.69 Z",
          "type": "path",
          "xref": "x",
          "yref": "y"
         },
         {
          "fillcolor": "#8b5cf6",
          "layer": "between",
          "line": {
           "width": 0
          },
          "opacity": 0.22,
          "path": "M 3.5076887673014547,2.69 L 3.7703086253303275,2.69 Q 3.7953200403806964,2.69 3.7953200403806964,2.715011415050369 L 3.7953200403806964,3.284988584949631 Q 3.7953200403806964,3.31 3.7703086253303275,3.31 L 3.5076887673014547,3.31 Q 3.482677352251086,3.31 3.482677352251086,3.284988584949631 L 3.482677352251086,2.715011415050369 Q 3.482677352251086,2.69 3.5076887673014547,2.69 Z",
          "type": "path",
          "xref": "x",
          "yref": "y"
         },
         {
          "fillcolor": "#f59e0b",
          "layer": "between",
          "line": {
           "width": 0
          },
          "opacity": 0.22,
          "path": "M 3.4848717582329254,3.69 L 3.8364151629454346,3.69 Q 3.869895487203769,3.69 3.869895487203769,3.7234803242583343 L 3.869895487203769,4.276519675741666 Q 3.869895487203769,4.31 3.8364151629454346,4.31 L 3.4848717582329254,4.31 Q 3.451391433974591,4.31 3.451391433974591,4.276519675741666 L 3.451391433974591,3.7234803242583343 Q 3.451391433974591,3.69 3.4848717582329254,3.69 Z",
          "type": "path",
          "xref": "x",
          "yref": "y"
         },
         {
          "fillcolor": "#06b6d4",
          "layer": "between",
          "line": {
           "width": 0
          },
          "opacity": 0.22,
          "path": "M 3.5497572562625503,4.69 L 3.8442806577407582,4.69 Q 3.8723305055005874,4.69 3.8723305055005874,4.71804984775983 L 3.8723305055005874,5.28195015224017 Q 3.8723305055005874,5.31 3.8442806577407582,5.31 L 3.5497572562625503,5.31 Q 3.521707408502721,5.31 3.521707408502721,5.28195015224017 L 3.521707408502721,4.71804984775983 Q 3.521707408502721,4.69 3.5497572562625503,4.69 Z",
          "type": "path",
          "xref": "x",
          "yref": "y"
         },
         {
          "fillcolor": "#ef4444",
          "layer": "between",
          "line": {
           "width": 0
          },
          "opacity": 0.22,
          "path": "M 3.5327795143431215,5.69 L 3.95576093066998,5.69 Q 3.9960448750820614,5.69 3.9960448750820614,5.730283944412082 L 3.9960448750820614,6.269716055587918 Q 3.9960448750820614,6.31 3.95576093066998,6.31 L 3.5327795143431215,6.31 Q 3.49249556993104,6.31 3.49249556993104,6.269716055587918 L 3.49249556993104,5.730283944412082 Q 3.49249556993104,5.69 3.5327795143431215,5.69 Z",
          "type": "path",
          "xref": "x",
          "yref": "y"
         },
         {
          "fillcolor": "#22c55e",
          "layer": "between",
          "line": {
           "width": 0
          },
          "opacity": 0.22,
          "path": "M 3.6918449764760077,6.69 L 3.927313196085603,6.69 Q 3.9497387408103264,6.69 3.9497387408103264,6.712425544724724 L 3.9497387408103264,7.287574455275276 Q 3.9497387408103264,7.31 3.927313196085603,7.31 L 3.6918449764760077,7.31 Q 3.6694194317512845,7.31 3.6694194317512845,7.287574455275276 L 3.6694194317512845,6.712425544724724 Q 3.6694194317512845,6.69 3.6918449764760077,6.69 Z",
          "type": "path",
          "xref": "x",
          "yref": "y"
         },
         {
          "fillcolor": "#3b82f6",
          "layer": "between",
          "line": {
           "width": 0
          },
          "opacity": 0.22,
          "path": "M 3.6830470550774757,7.69 L 4.012742451926159,7.69 Q 4.044142013530796,7.69 4.044142013530796,7.721399561604637 L 4.044142013530796,8.278600438395364 Q 4.044142013530796,8.31 4.012742451926159,8.31 L 3.6830470550774757,8.31 Q 3.651647493472839,8.31 3.651647493472839,8.278600438395364 L 3.651647493472839,7.721399561604637 Q 3.651647493472839,7.69 3.6830470550774757,7.69 Z",
          "type": "path",
          "xref": "x",
          "yref": "y"
         },
         {
          "fillcolor": "#8b5cf6",
          "layer": "between",
          "line": {
           "width": 0
          },
          "opacity": 0.22,
          "path": "M 3.724339373000568,8.69 L 3.9986363365732567,8.69 Q 4.024759856913513,8.69 4.024759856913513,8.716123520340256 L 4.024759856913513,9.283876479659744 Q 4.024759856913513,9.31 3.9986363365732567,9.31 L 3.724339373000568,9.31 Q 3.6982158526603115,9.31 3.6982158526603115,9.283876479659744 L 3.6982158526603115,8.716123520340256 Q 3.6982158526603115,8.69 3.724339373000568,8.69 Z",
          "type": "path",
          "xref": "x",
          "yref": "y"
         },
         {
          "fillcolor": "#f59e0b",
          "layer": "between",
          "line": {
           "width": 0
          },
          "opacity": 0.22,
          "path": "M 3.7965094220045077,9.69 L 4.108010270800403,9.69 Q 4.137677018304774,9.69 4.137677018304774,9.71966674750437 L 4.137677018304774,10.28033325249563 Q 4.137677018304774,10.31 4.108010270800403,10.31 L 3.7965094220045077,10.31 Q 3.7668426745001367,10.31 3.7668426745001367,10.28033325249563 L 3.7668426745001367,9.71966674750437 Q 3.7668426745001367,9.69 3.7965094220045077,9.69 Z",
          "type": "path",
          "xref": "x",
          "yref": "y"
         },
         {
          "fillcolor": "#06b6d4",
          "layer": "between",
          "line": {
           "width": 0
          },
          "opacity": 0.22,
          "path": "M 3.8507268872723284,10.69 L 4.1720086781135866,10.69 Q 4.202606943907992,10.69 4.202606943907992,10.720598265794406 L 4.202606943907992,11.279401734205594 Q 4.202606943907992,11.31 4.1720086781135866,11.31 L 3.8507268872723284,11.31 Q 3.820128621477923,11.31 3.820128621477923,11.279401734205594 L 3.820128621477923,10.720598265794406 Q 3.820128621477923,10.69 3.8507268872723284,10.69 Z",
          "type": "path",
          "xref": "x",
          "yref": "y"
         },
         {
          "layer": "above",
          "line": {
           "color": "#111827",
           "width": 1
          },
          "type": "line",
          "x0": 0.98,
          "x1": 0.98,
          "xref": "paper",
          "y0": 1,
          "y1": 11,
          "yref": "y"
         },
         {
          "layer": "above",
          "line": {
           "color": "#111827",
           "width": 1
          },
          "type": "line",
          "x0": 0.965,
          "x1": 0.98,
          "xref": "paper",
          "y0": 1,
          "y1": 1,
          "yref": "y"
         },
         {
          "layer": "above",
          "line": {
           "color": "#111827",
           "width": 1
          },
          "type": "line",
          "x0": 0.965,
          "x1": 0.98,
          "xref": "paper",
          "y0": 11,
          "y1": 11,
          "yref": "y"
         },
         {
          "layer": "above",
          "line": {
           "color": "#111827",
           "width": 1
          },
          "type": "line",
          "x0": 1.035,
          "x1": 1.035,
          "xref": "paper",
          "y0": 0,
          "y1": 11,
          "yref": "y"
         },
         {
          "layer": "above",
          "line": {
           "color": "#111827",
           "width": 1
          },
          "type": "line",
          "x0": 1.02,
          "x1": 1.035,
          "xref": "paper",
          "y0": 0,
          "y1": 0,
          "yref": "y"
         },
         {
          "layer": "above",
          "line": {
           "color": "#111827",
           "width": 1
          },
          "type": "line",
          "x0": 1.02,
          "x1": 1.035,
          "xref": "paper",
          "y0": 11,
          "y1": 11,
          "yref": "y"
         },
         {
          "layer": "above",
          "line": {
           "color": "#111827",
           "width": 1
          },
          "type": "line",
          "x0": 1.09,
          "x1": 1.09,
          "xref": "paper",
          "y0": 0,
          "y1": 10,
          "yref": "y"
         },
         {
          "layer": "above",
          "line": {
           "color": "#111827",
           "width": 1
          },
          "type": "line",
          "x0": 1.0750000000000002,
          "x1": 1.09,
          "xref": "paper",
          "y0": 0,
          "y1": 0,
          "yref": "y"
         },
         {
          "layer": "above",
          "line": {
           "color": "#111827",
           "width": 1
          },
          "type": "line",
          "x0": 1.0750000000000002,
          "x1": 1.09,
          "xref": "paper",
          "y0": 10,
          "y1": 10,
          "yref": "y"
         },
         {
          "layer": "above",
          "line": {
           "color": "#111827",
           "width": 1
          },
          "type": "line",
          "x0": 1.145,
          "x1": 1.145,
          "xref": "paper",
          "y0": 3,
          "y1": 11,
          "yref": "y"
         },
         {
          "layer": "above",
          "line": {
           "color": "#111827",
           "width": 1
          },
          "type": "line",
          "x0": 1.1300000000000001,
          "x1": 1.145,
          "xref": "paper",
          "y0": 3,
          "y1": 3,
          "yref": "y"
         },
         {
          "layer": "above",
          "line": {
           "color": "#111827",
           "width": 1
          },
          "type": "line",
          "x0": 1.1300000000000001,
          "x1": 1.145,
          "xref": "paper",
          "y0": 11,
          "y1": 11,
          "yref": "y"
         },
         {
          "layer": "above",
          "line": {
           "color": "#111827",
           "width": 1
          },
          "type": "line",
          "x0": 1.2,
          "x1": 1.2,
          "xref": "paper",
          "y0": 1,
          "y1": 10,
          "yref": "y"
         },
         {
          "layer": "above",
          "line": {
           "color": "#111827",
           "width": 1
          },
          "type": "line",
          "x0": 1.185,
          "x1": 1.2,
          "xref": "paper",
          "y0": 1,
          "y1": 1,
          "yref": "y"
         },
         {
          "layer": "above",
          "line": {
           "color": "#111827",
           "width": 1
          },
          "type": "line",
          "x0": 1.185,
          "x1": 1.2,
          "xref": "paper",
          "y0": 10,
          "y1": 10,
          "yref": "y"
         },
         {
          "layer": "above",
          "line": {
           "color": "#111827",
           "width": 1
          },
          "type": "line",
          "x0": 1.255,
          "x1": 1.255,
          "xref": "paper",
          "y0": 2,
          "y1": 11,
          "yref": "y"
         },
         {
          "layer": "above",
          "line": {
           "color": "#111827",
           "width": 1
          },
          "type": "line",
          "x0": 1.24,
          "x1": 1.255,
          "xref": "paper",
          "y0": 2,
          "y1": 2,
          "yref": "y"
         },
         {
          "layer": "above",
          "line": {
           "color": "#111827",
           "width": 1
          },
          "type": "line",
          "x0": 1.24,
          "x1": 1.255,
          "xref": "paper",
          "y0": 11,
          "y1": 11,
          "yref": "y"
         },
         {
          "layer": "above",
          "line": {
           "color": "#111827",
           "width": 1
          },
          "type": "line",
          "x0": 1.31,
          "x1": 1.31,
          "xref": "paper",
          "y0": 0,
          "y1": 9,
          "yref": "y"
         },
         {
          "layer": "above",
          "line": {
           "color": "#111827",
           "width": 1
          },
          "type": "line",
          "x0": 1.2950000000000002,
          "x1": 1.31,
          "xref": "paper",
          "y0": 0,
          "y1": 0,
          "yref": "y"
         },
         {
          "layer": "above",
          "line": {
           "color": "#111827",
           "width": 1
          },
          "type": "line",
          "x0": 1.2950000000000002,
          "x1": 1.31,
          "xref": "paper",
          "y0": 9,
          "y1": 9,
          "yref": "y"
         },
         {
          "layer": "above",
          "line": {
           "color": "#111827",
           "width": 1
          },
          "type": "line",
          "x0": 1.365,
          "x1": 1.365,
          "xref": "paper",
          "y0": 3,
          "y1": 10,
          "yref": "y"
         },
         {
          "layer": "above",
          "line": {
           "color": "#111827",
           "width": 1
          },
          "type": "line",
          "x0": 1.35,
          "x1": 1.365,
          "xref": "paper",
          "y0": 3,
          "y1": 3,
          "yref": "y"
         },
         {
          "layer": "above",
          "line": {
           "color": "#111827",
           "width": 1
          },
          "type": "line",
          "x0": 1.35,
          "x1": 1.365,
          "xref": "paper",
          "y0": 10,
          "y1": 10,
          "yref": "y"
         }
        ],
        "template": {
         "data": {
          "bar": [
           {
            "error_x": {
             "color": "#2a3f5f"
            },
            "error_y": {
             "color": "#2a3f5f"
            },
            "marker": {
             "line": {
              "color": "#E5ECF6",
              "width": 0.5
             },
             "pattern": {
              "fillmode": "overlay",
              "size": 10,
              "solidity": 0.2
             }
            },
            "type": "bar"
           }
          ],
          "barpolar": [
           {
            "marker": {
             "line": {
              "color": "#E5ECF6",
              "width": 0.5
             },
             "pattern": {
              "fillmode": "overlay",
              "size": 10,
              "solidity": 0.2
             }
            },
            "type": "barpolar"
           }
          ],
          "carpet": [
           {
            "aaxis": {
             "endlinecolor": "#2a3f5f",
             "gridcolor": "white",
             "linecolor": "white",
             "minorgridcolor": "white",
             "startlinecolor": "#2a3f5f"
            },
            "baxis": {
             "endlinecolor": "#2a3f5f",
             "gridcolor": "white",
             "linecolor": "white",
             "minorgridcolor": "white",
             "startlinecolor": "#2a3f5f"
            },
            "type": "carpet"
           }
          ],
          "choropleth": [
           {
            "colorbar": {
             "outlinewidth": 0,
             "ticks": ""
            },
            "type": "choropleth"
           }
          ],
          "contour": [
           {
            "colorbar": {
             "outlinewidth": 0,
             "ticks": ""
            },
            "colorscale": [
             [
              0,
              "#0d0887"
             ],
             [
              0.1111111111111111,
              "#46039f"
             ],
             [
              0.2222222222222222,
              "#7201a8"
             ],
             [
              0.3333333333333333,
              "#9c179e"
             ],
             [
              0.4444444444444444,
              "#bd3786"
             ],
             [
              0.5555555555555556,
              "#d8576b"
             ],
             [
              0.6666666666666666,
              "#ed7953"
             ],
             [
              0.7777777777777778,
              "#fb9f3a"
             ],
             [
              0.8888888888888888,
              "#fdca26"
             ],
             [
              1,
              "#f0f921"
             ]
            ],
            "type": "contour"
           }
          ],
          "contourcarpet": [
           {
            "colorbar": {
             "outlinewidth": 0,
             "ticks": ""
            },
            "type": "contourcarpet"
           }
          ],
          "heatmap": [
           {
            "colorbar": {
             "outlinewidth": 0,
             "ticks": ""
            },
            "colorscale": [
             [
              0,
              "#0d0887"
             ],
             [
              0.1111111111111111,
              "#46039f"
             ],
             [
              0.2222222222222222,
              "#7201a8"
             ],
             [
              0.3333333333333333,
              "#9c179e"
             ],
             [
              0.4444444444444444,
              "#bd3786"
             ],
             [
              0.5555555555555556,
              "#d8576b"
             ],
             [
              0.6666666666666666,
              "#ed7953"
             ],
             [
              0.7777777777777778,
              "#fb9f3a"
             ],
             [
              0.8888888888888888,
              "#fdca26"
             ],
             [
              1,
              "#f0f921"
             ]
            ],
            "type": "heatmap"
           }
          ],
          "histogram": [
           {
            "marker": {
             "pattern": {
              "fillmode": "overlay",
              "size": 10,
              "solidity": 0.2
             }
            },
            "type": "histogram"
           }
          ],
          "histogram2d": [
           {
            "colorbar": {
             "outlinewidth": 0,
             "ticks": ""
            },
            "colorscale": [
             [
              0,
              "#0d0887"
             ],
             [
              0.1111111111111111,
              "#46039f"
             ],
             [
              0.2222222222222222,
              "#7201a8"
             ],
             [
              0.3333333333333333,
              "#9c179e"
             ],
             [
              0.4444444444444444,
              "#bd3786"
             ],
             [
              0.5555555555555556,
              "#d8576b"
             ],
             [
              0.6666666666666666,
              "#ed7953"
             ],
             [
              0.7777777777777778,
              "#fb9f3a"
             ],
             [
              0.8888888888888888,
              "#fdca26"
             ],
             [
              1,
              "#f0f921"
             ]
            ],
            "type": "histogram2d"
           }
          ],
          "histogram2dcontour": [
           {
            "colorbar": {
             "outlinewidth": 0,
             "ticks": ""
            },
            "colorscale": [
             [
              0,
              "#0d0887"
             ],
             [
              0.1111111111111111,
              "#46039f"
             ],
             [
              0.2222222222222222,
              "#7201a8"
             ],
             [
              0.3333333333333333,
              "#9c179e"
             ],
             [
              0.4444444444444444,
              "#bd3786"
             ],
             [
              0.5555555555555556,
              "#d8576b"
             ],
             [
              0.6666666666666666,
              "#ed7953"
             ],
             [
              0.7777777777777778,
              "#fb9f3a"
             ],
             [
              0.8888888888888888,
              "#fdca26"
             ],
             [
              1,
              "#f0f921"
             ]
            ],
            "type": "histogram2dcontour"
           }
          ],
          "mesh3d": [
           {
            "colorbar": {
             "outlinewidth": 0,
             "ticks": ""
            },
            "type": "mesh3d"
           }
          ],
          "parcoords": [
           {
            "line": {
             "colorbar": {
              "outlinewidth": 0,
              "ticks": ""
             }
            },
            "type": "parcoords"
           }
          ],
          "pie": [
           {
            "automargin": true,
            "type": "pie"
           }
          ],
          "scatter": [
           {
            "fillpattern": {
             "fillmode": "overlay",
             "size": 10,
             "solidity": 0.2
            },
            "type": "scatter"
           }
          ],
          "scatter3d": [
           {
            "line": {
             "colorbar": {
              "outlinewidth": 0,
              "ticks": ""
             }
            },
            "marker": {
             "colorbar": {
              "outlinewidth": 0,
              "ticks": ""
             }
            },
            "type": "scatter3d"
           }
          ],
          "scattercarpet": [
           {
            "marker": {
             "colorbar": {
              "outlinewidth": 0,
              "ticks": ""
             }
            },
            "type": "scattercarpet"
           }
          ],
          "scattergeo": [
           {
            "marker": {
             "colorbar": {
              "outlinewidth": 0,
              "ticks": ""
             }
            },
            "type": "scattergeo"
           }
          ],
          "scattergl": [
           {
            "marker": {
             "colorbar": {
              "outlinewidth": 0,
              "ticks": ""
             }
            },
            "type": "scattergl"
           }
          ],
          "scattermap": [
           {
            "marker": {
             "colorbar": {
              "outlinewidth": 0,
              "ticks": ""
             }
            },
            "type": "scattermap"
           }
          ],
          "scattermapbox": [
           {
            "marker": {
             "colorbar": {
              "outlinewidth": 0,
              "ticks": ""
             }
            },
            "type": "scattermapbox"
           }
          ],
          "scatterpolar": [
           {
            "marker": {
             "colorbar": {
              "outlinewidth": 0,
              "ticks": ""
             }
            },
            "type": "scatterpolar"
           }
          ],
          "scatterpolargl": [
           {
            "marker": {
             "colorbar": {
              "outlinewidth": 0,
              "ticks": ""
             }
            },
            "type": "scatterpolargl"
           }
          ],
          "scatterternary": [
           {
            "marker": {
             "colorbar": {
              "outlinewidth": 0,
              "ticks": ""
             }
            },
            "type": "scatterternary"
           }
          ],
          "surface": [
           {
            "colorbar": {
             "outlinewidth": 0,
             "ticks": ""
            },
            "colorscale": [
             [
              0,
              "#0d0887"
             ],
             [
              0.1111111111111111,
              "#46039f"
             ],
             [
              0.2222222222222222,
              "#7201a8"
             ],
             [
              0.3333333333333333,
              "#9c179e"
             ],
             [
              0.4444444444444444,
              "#bd3786"
             ],
             [
              0.5555555555555556,
              "#d8576b"
             ],
             [
              0.6666666666666666,
              "#ed7953"
             ],
             [
              0.7777777777777778,
              "#fb9f3a"
             ],
             [
              0.8888888888888888,
              "#fdca26"
             ],
             [
              1,
              "#f0f921"
             ]
            ],
            "type": "surface"
           }
          ],
          "table": [
           {
            "cells": {
             "fill": {
              "color": "#EBF0F8"
             },
             "line": {
              "color": "white"
             }
            },
            "header": {
             "fill": {
              "color": "#C8D4E3"
             },
             "line": {
              "color": "white"
             }
            },
            "type": "table"
           }
          ]
         },
         "layout": {
          "annotationdefaults": {
           "arrowcolor": "#2a3f5f",
           "arrowhead": 0,
           "arrowwidth": 1
          },
          "autotypenumbers": "strict",
          "coloraxis": {
           "colorbar": {
            "outlinewidth": 0,
            "ticks": ""
           }
          },
          "colorscale": {
           "diverging": [
            [
             0,
             "#8e0152"
            ],
            [
             0.1,
             "#c51b7d"
            ],
            [
             0.2,
             "#de77ae"
            ],
            [
             0.3,
             "#f1b6da"
            ],
            [
             0.4,
             "#fde0ef"
            ],
            [
             0.5,
             "#f7f7f7"
            ],
            [
             0.6,
             "#e6f5d0"
            ],
            [
             0.7,
             "#b8e186"
            ],
            [
             0.8,
             "#7fbc41"
            ],
            [
             0.9,
             "#4d9221"
            ],
            [
             1,
             "#276419"
            ]
           ],
           "sequential": [
            [
             0,
             "#0d0887"
            ],
            [
             0.1111111111111111,
             "#46039f"
            ],
            [
             0.2222222222222222,
             "#7201a8"
            ],
            [
             0.3333333333333333,
             "#9c179e"
            ],
            [
             0.4444444444444444,
             "#bd3786"
            ],
            [
             0.5555555555555556,
             "#d8576b"
            ],
            [
             0.6666666666666666,
             "#ed7953"
            ],
            [
             0.7777777777777778,
             "#fb9f3a"
            ],
            [
             0.8888888888888888,
             "#fdca26"
            ],
            [
             1,
             "#f0f921"
            ]
           ],
           "sequentialminus": [
            [
             0,
             "#0d0887"
            ],
            [
             0.1111111111111111,
             "#46039f"
            ],
            [
             0.2222222222222222,
             "#7201a8"
            ],
            [
             0.3333333333333333,
             "#9c179e"
            ],
            [
             0.4444444444444444,
             "#bd3786"
            ],
            [
             0.5555555555555556,
             "#d8576b"
            ],
            [
             0.6666666666666666,
             "#ed7953"
            ],
            [
             0.7777777777777778,
             "#fb9f3a"
            ],
            [
             0.8888888888888888,
             "#fdca26"
            ],
            [
             1,
             "#f0f921"
            ]
           ]
          },
          "colorway": [
           "#636efa",
           "#EF553B",
           "#00cc96",
           "#ab63fa",
           "#FFA15A",
           "#19d3f3",
           "#FF6692",
           "#B6E880",
           "#FF97FF",
           "#FECB52"
          ],
          "font": {
           "color": "#2a3f5f"
          },
          "geo": {
           "bgcolor": "white",
           "lakecolor": "white",
           "landcolor": "#E5ECF6",
           "showlakes": true,
           "showland": true,
           "subunitcolor": "white"
          },
          "hoverlabel": {
           "align": "left"
          },
          "hovermode": "closest",
          "mapbox": {
           "style": "light"
          },
          "paper_bgcolor": "white",
          "plot_bgcolor": "#E5ECF6",
          "polar": {
           "angularaxis": {
            "gridcolor": "white",
            "linecolor": "white",
            "ticks": ""
           },
           "bgcolor": "#E5ECF6",
           "radialaxis": {
            "gridcolor": "white",
            "linecolor": "white",
            "ticks": ""
           }
          },
          "scene": {
           "xaxis": {
            "backgroundcolor": "#E5ECF6",
            "gridcolor": "white",
            "gridwidth": 2,
            "linecolor": "white",
            "showbackground": true,
            "ticks": "",
            "zerolinecolor": "white"
           },
           "yaxis": {
            "backgroundcolor": "#E5ECF6",
            "gridcolor": "white",
            "gridwidth": 2,
            "linecolor": "white",
            "showbackground": true,
            "ticks": "",
            "zerolinecolor": "white"
           },
           "zaxis": {
            "backgroundcolor": "#E5ECF6",
            "gridcolor": "white",
            "gridwidth": 2,
            "linecolor": "white",
            "showbackground": true,
            "ticks": "",
            "zerolinecolor": "white"
           }
          },
          "shapedefaults": {
           "line": {
            "color": "#2a3f5f"
           }
          },
          "ternary": {
           "aaxis": {
            "gridcolor": "white",
            "linecolor": "white",
            "ticks": ""
           },
           "baxis": {
            "gridcolor": "white",
            "linecolor": "white",
            "ticks": ""
           },
           "bgcolor": "#E5ECF6",
           "caxis": {
            "gridcolor": "white",
            "linecolor": "white",
            "ticks": ""
           }
          },
          "title": {
           "x": 0.05
          },
          "xaxis": {
           "automargin": true,
           "gridcolor": "white",
           "linecolor": "white",
           "ticks": "",
           "title": {
            "standoff": 15
           },
           "zerolinecolor": "white",
           "zerolinewidth": 2
          },
          "yaxis": {
           "automargin": true,
           "gridcolor": "white",
           "linecolor": "white",
           "ticks": "",
           "title": {
            "standoff": 15
           },
           "zerolinecolor": "white",
           "zerolinewidth": 2
          }
         }
        },
        "width": 1400,
        "xaxis": {
         "gridcolor": "rgba(2,6,23,0.08)",
         "range": [
          3,
          5
         ],
         "tickfont": {
          "size": 18
         },
         "tickformat": ".1f",
         "title": {
          "font": {
           "size": 22
          },
          "text": "Question importance score, 0 (not at all important), 5 (extremely important)"
         },
         "zeroline": false
        },
        "yaxis": {
         "range": [
          -0.8,
          11.8
         ],
         "showgrid": false,
         "tickfont": {
          "size": 18
         },
         "tickmode": "array",
         "ticktext": [
          "mental-state",
          "why",
          "time",
          "what-abilities",
          "future-actions",
          "environment-state",
          "technical-details",
          "execution-details",
          "how-did-you-decide",
          "self/task-assessment",
          "how-did-you-know",
          "potential-issues"
         ],
         "tickvals": [
          0,
          1,
          2,
          3,
          4,
          5,
          6,
          7,
          8,
          9,
          10,
          11
         ],
         "title": {
          "font": {
           "size": 22
          },
          "text": "Question Category"
         }
        }
       }
      }
     },
     "metadata": {},
     "output_type": "display_data"
    }
   ],
   "source": [
    "# Plot EMMs with significance brackets and CI bands\n",
    "\n",
    "\n",
    "def observable_forest_plotly(\n",
    "    stats_df,\n",
    "    pairs_df=None,        \n",
    "    alpha=0.05,\n",
    "    top_k=None,\n",
    "    xlabel=\"Question importance score, 0 (not at all important), 5 (extremely important)\",\n",
    "    x_end=None,            \n",
    "    n_label_x=1.06,        \n",
    "    brackets=\"auto\",       \n",
    "    baseline = False,\n",
    "):\n",
    "    \"\"\"\n",
    "    Expects stats_df with columns: Group, EMM, CI_low, CI_high, Count\n",
    "\n",
    "    Optional pairs_df with significance results in either format:\n",
    "      1) Columns: A, B, p_adj\n",
    "      2) Columns: contrast, p_adj    (where 'contrast' looks like \"GroupA - GroupB\")\n",
    "\n",
    "    Parameters\n",
    "    ----------\n",
    "    alpha : float\n",
    "        Adjusted p-value threshold for drawing significance brackets.\n",
    "    top_k : int or None\n",
    "        If provided, only the top_k most significant pairs are drawn.\n",
    "    x_end : float or None\n",
    "        If provided, x-axis is capped at this value and brackets are drawn outside (paper coords) when\n",
    "        brackets=\"auto\". If None, brackets are drawn inside (data coords) and axis range expands to fit.\n",
    "    brackets : {\"auto\",\"paper\",\"data\"}\n",
    "        Where to draw the brackets. \"auto\" uses \"paper\" when x_end is set, else \"data\".\n",
    "    \"\"\"\n",
    "\n",
    "    # ---- copy & derived CI bounds ----\n",
    "    s = stats_df.copy()\n",
    "    s = s.sort_values(\"EMM\", ascending=True).reset_index(drop=True)\n",
    "\n",
    "    # ---- style constants ----\n",
    "    palette     = ['#ef4444', '#22c55e', '#3b82f6', '#8b5cf6', '#f59e0b', '#06b6d4']\n",
    "    band_alpha  = 0.22\n",
    "    band_h      = 0.62\n",
    "    dot_size    = 14\n",
    "    xr_base_min = 0.0\n",
    "    colors = {g: palette[i % len(palette)] for i, g in enumerate(s[\"Group\"])}\n",
    "    k      = len(s)\n",
    "    y_pos  = {g: i for i, g in enumerate(s[\"Group\"])}\n",
    "    x_data_max = float(s[\"CI_high\"].max())\n",
    "    x_right_base = x_end if x_end is not None else x_data_max\n",
    "    xr = max(1e-9, x_right_base - xr_base_min)\n",
    "    right_label_pad   = 0.10 * xr\n",
    "    right_bracket_pad = 0.08 * xr\n",
    "    x_max_inside = x_right_base + (0 if x_end is not None else (right_label_pad + right_bracket_pad))\n",
    "\n",
    "    fig = go.Figure()\n",
    "    shapes = []\n",
    "    ann = []\n",
    "\n",
    "    # ---- rounded-rectangle path for CI pills ----\n",
    "    def rounded_rect_path(x0, x1, yc, h, r_frac=0.08):\n",
    "        y0, y1 = yc - h/2, yc + h/2\n",
    "        r = min((x1-x0)/2, h/2) * r_frac * 2.0\n",
    "        return (\n",
    "            f\"M {x0+r},{y0} L {x1-r},{y0} \"\n",
    "            f\"Q {x1},{y0} {x1},{y0+r} L {x1},{y1-r} \"\n",
    "            f\"Q {x1},{y1} {x1-r},{y1} L {x0+r},{y1} \"\n",
    "            f\"Q {x0},{y1} {x0},{y1-r} L {x0},{y0+r} \"\n",
    "            f\"Q {x0},{y0} {x0+r},{y0} Z\"\n",
    "        )\n",
    "\n",
    "    # ---- plot rows ----\n",
    "    for _, row in s.iterrows():\n",
    "        g   = row[\"Group\"]\n",
    "        mu  = float(row[\"EMM\"])\n",
    "        lo  = float(row[\"CI_low\"])\n",
    "        hi  = float(row[\"CI_high\"])\n",
    "        n   = int(row[\"Count\"])\n",
    "        yi  = y_pos[g]\n",
    "        col = colors[g]\n",
    "\n",
    "        # rounded CI band \n",
    "        shapes.append(dict(\n",
    "            type=\"path\", path=rounded_rect_path(lo, hi, yi, band_h),\n",
    "            line=dict(width=0), fillcolor=col, opacity=band_alpha,\n",
    "            layer=\"between\", xref=\"x\", yref=\"y\"\n",
    "        ))\n",
    "\n",
    "        if baseline:\n",
    "            shapes.append(dict(\n",
    "                type=\"line\", x0=xr_base_min, x1=mu, y0=yi, y1=yi,\n",
    "                line=dict(width=12, color=col), opacity=1.0,\n",
    "                layer=\"below\",\n",
    "                xref=\"x\",\n",
    "            yref=\"y\"\n",
    "            ))\n",
    "\n",
    "        # mean dot for EMM\n",
    "        fig.add_trace(go.Scatter(\n",
    "            x=[mu], y=[yi], mode=\"markers\",\n",
    "            marker=dict(size=dot_size, color=col, line=dict(color=\"white\", width=2)),\n",
    "            hovertemplate=f\"<b>{g}</b><br>mean={mu:.3f}<br>95% CI=[{lo:.3f}, {hi:.3f}]<extra></extra>\",\n",
    "            showlegend=False,\n",
    "        ))\n",
    "\n",
    "        # inline +0.000 label\n",
    "        sign = \"+\" if mu >= 0 else \"\"\n",
    "        ann.append(dict(\n",
    "            x=mu + 0.006*xr, y=yi, xref=\"x\", yref=\"y\", showarrow=False,\n",
    "            text=f\"<b>{sign}{mu:.3f}</b>\", xanchor=\"left\", yanchor=\"middle\",\n",
    "            font=dict(color=col, size=12)\n",
    "        ))\n",
    "        ann.append(dict(\n",
    "            x=n_label_x, xref=\"paper\",\n",
    "            y=yi, yref=\"y\", showarrow=False,\n",
    "            text=f\"n={n:,}\", xanchor=\"left\", yanchor=\"middle\",\n",
    "            font=dict(color=\"#6B7280\", size=12)\n",
    "        ))\n",
    "\n",
    "    # ---- significance brackets  ----\n",
    "    def _p_to_stars(p):\n",
    "        if p < 1e-4: return \"****\"\n",
    "        if p < 1e-3: return \"***\"\n",
    "        if p < 1e-2: return \"**\"\n",
    "        if p < 0.05: return \"*\"\n",
    "        return \"ns\"\n",
    "\n",
    "    if pairs_df is not None and len(pairs_df):\n",
    "        # Build/repair A and B robustly from 'contrast' if needed\n",
    "        cats = s[\"Group\"].astype(str).tolist()\n",
    "        catset = set(cats)\n",
    "\n",
    "        def derive_AB_from_contrast(txt, valid):\n",
    "            txt = str(txt)\n",
    "            sep = \" - \"\n",
    "            positions = [m.start() for m in regular_expressions.finditer(regular_expressions.escape(sep), txt)]\n",
    "            for pos in positions:\n",
    "                left  = txt[:pos].strip()\n",
    "                right = txt[pos+len(sep):].strip()\n",
    "                if left in valid and right in valid:\n",
    "                    return left, right\n",
    "            return np.nan, np.nan\n",
    "\n",
    "        # Decide if we need to rebuild A/B \n",
    "        need_rebuild = (\n",
    "            not {\"A\", \"B\"}.issubset(pairs_df.columns)\n",
    "            or (~pairs_df.get(\"A\", np.nan).astype(str).isin(catset)).any()\n",
    "            or (~pairs_df.get(\"B\", np.nan).astype(str).isin(catset)).any()\n",
    "        )\n",
    "\n",
    "        pairs = pairs_df.copy()\n",
    "        if need_rebuild:\n",
    "            if \"contrast\" in pairs.columns:\n",
    "                AB = pairs[\"contrast\"].apply(lambda s_: derive_AB_from_contrast(s_, catset))\n",
    "                pairs[\"A\"] = AB.apply(lambda t: t[0])\n",
    "                pairs[\"B\"] = AB.apply(lambda t: t[1])\n",
    "            # else: leave as-is; will drop NaNs below if unusable\n",
    "\n",
    "        pairs[\"A\"] = pairs[\"A\"].astype(str).str.strip()\n",
    "        pairs[\"B\"] = pairs[\"B\"].astype(str).str.strip()\n",
    "\n",
    "        sig = (pairs.loc[pairs[\"p_adj\"] < alpha, [\"A\", \"B\", \"p_adj\"]]\n",
    "                     .dropna()\n",
    "                     .copy())\n",
    "        sig = sig[sig[\"A\"].isin(y_pos) & sig[\"B\"].isin(y_pos)]\n",
    "        sig = sig.sort_values(\"p_adj\")\n",
    "        if top_k is not None:\n",
    "            sig = sig.head(top_k)\n",
    "\n",
    "        if not sig.empty:\n",
    "            use_paper = (brackets == \"paper\") or (brackets == \"auto\" and x_end is not None)\n",
    "            if use_paper:\n",
    "                tick_p = 0.015      \n",
    "                gap_p  = 0.055\n",
    "                x_start_p = n_label_x + 0.08\n",
    "                for j, r in enumerate(sig.itertuples(index=False)):\n",
    "                    y1 = y_pos[r.A]; y2 = y_pos[r.B]\n",
    "                    y_low, y_high = sorted((y1, y2))\n",
    "                    xk = x_start_p + j * gap_p\n",
    "\n",
    "                    shapes.append(dict(type=\"line\", x0=xk, x1=xk, y0=y_low, y1=y_high,\n",
    "                                       xref=\"paper\", yref=\"y\",\n",
    "                                       line=dict(width=1, color=\"#111827\"), layer=\"above\"))\n",
    "                    shapes.append(dict(type=\"line\", x0=xk - tick_p, x1=xk, y0=y_low, y1=y_low,\n",
    "                                       xref=\"paper\", yref=\"y\",\n",
    "                                       line=dict(width=1, color=\"#111827\"), layer=\"above\"))\n",
    "                    shapes.append(dict(type=\"line\", x0=xk - tick_p, x1=xk, y0=y_high, y1=y_high,\n",
    "                                       xref=\"paper\", yref=\"y\",\n",
    "                                       line=dict(width=1, color=\"#111827\"), layer=\"above\"))\n",
    "                    ann.append(dict(x=xk + 0.012, xref=\"paper\", y=(y_low + y_high)/2, yref=\"y\",\n",
    "                                    showarrow=False, text=_p_to_stars(float(r.p_adj)),\n",
    "                                    xanchor=\"left\", yanchor=\"middle\",\n",
    "                                    font=dict(color=\"#111827\", size=12)))\n",
    "            else:\n",
    "                xr_local = max(1e-9, x_right_base - xr_base_min)\n",
    "                tick = 0.012 * xr_local\n",
    "                gap  = 0.055 * xr_local\n",
    "                x_start = x_right_base + right_label_pad + 0.02 * xr_local\n",
    "                n_drawn = 0\n",
    "                for _, r in sig.iterrows():\n",
    "                    y1 = y_pos[r[\"A\"]]; y2 = y_pos[r[\"B\"]]\n",
    "                    y_low, y_high = sorted((y1, y2))\n",
    "                    xk = x_start + n_drawn * gap\n",
    "\n",
    "                    shapes.append(dict(type=\"line\", x0=xk, x1=xk, y0=y_low, y1=y_high,\n",
    "                                       xref=\"x\", yref=\"y\",\n",
    "                                       line=dict(width=1, color=\"#111827\"), layer=\"above\"))\n",
    "                    shapes.append(dict(type=\"line\", x0=xk - tick, x1=xk, y0=y_low, y1=y_low,\n",
    "                                       xref=\"x\", yref=\"y\",\n",
    "                                       line=dict(width=1, color=\"#111827\"), layer=\"above\"))\n",
    "                    shapes.append(dict(type=\"line\", x0=xk - tick, x1=xk, y0=y_high, y1=y_high,\n",
    "                                       xref=\"x\", yref=\"y\",\n",
    "                                       line=dict(width=1, color=\"#111827\"), layer=\"above\"))\n",
    "                    ann.append(dict(x=xk + 0.004 * xr_local, xref=\"x\",\n",
    "                                    y=(y_low + y_high)/2, yref=\"y\",\n",
    "                                    showarrow=False, text=_p_to_stars(float(r[\"p_adj\"])),\n",
    "                                    xanchor=\"left\", yanchor=\"middle\",\n",
    "                                    font=dict(color=\"#111827\", size=12)))\n",
    "                    n_drawn += 1\n",
    "\n",
    "                if x_end is None:\n",
    "                    x_max_inside = max(x_max_inside, x_start + max(1, n_drawn) * gap + 0.06 * xr_local)\n",
    "\n",
    "    # ---- layout ----\n",
    "    x_axis_right = x_right_base if x_end is not None else max(x_right_base, x_max_inside)\n",
    "\n",
    "    fig.update_layout(\n",
    "        paper_bgcolor=\"#FAFAF9\",\n",
    "        plot_bgcolor=\"#FFFFFF\",\n",
    "        margin=dict(l=220, r=380, t=60, b=100), \n",
    "        xaxis=dict(\n",
    "            title=xlabel, tickformat=\".1f\",\n",
    "            gridcolor=\"rgba(2,6,23,0.08)\", zeroline=False,\n",
    "            range=[xr_base_min, x_axis_right]\n",
    "        ),\n",
    "        yaxis=dict(\n",
    "            tickmode=\"array\",\n",
    "            tickvals=list(range(k)),\n",
    "            ticktext=list(s[\"Group\"]),\n",
    "            showgrid=False        \n",
    "        ),\n",
    "        shapes=shapes,\n",
    "        annotations=ann,\n",
    "    )\n",
    "    fig.update_yaxes(range=[-0.8, k-0.2])\n",
    "    return fig\n",
    "\n",
    "fig = observable_forest_plotly(\n",
    "    stats_df=emm.copy(),  \n",
    "    pairs_df=pairs_df.copy(),    \n",
    "    alpha=0.05,\n",
    "    x_end=5,              \n",
    "    n_label_x=0.9,       \n",
    "    brackets=\"auto\" \n",
    ")\n",
    "\n",
    "WIDTH = 1400\n",
    "HEIGHT = 600\n",
    "\n",
    "# figsize\n",
    "fig.update_layout(autosize=False, width=WIDTH, height=HEIGHT)\n",
    "# optional: left x start at 3\n",
    "fig.update_xaxes(range=[3, 5])\n",
    "fig.update_xaxes(title_font=dict(size=22))\n",
    "fig.update_xaxes(tickfont=dict(size=18))\n",
    "fig.update_yaxes(tickfont=dict(size=18))\n",
    "fig.update_yaxes(title_text=\"Question Category\", title_font=dict(size=22))\n",
    "fig.show()\n",
    "\n",
    "# save as PDF \n",
    "fig.write_image(\n",
    "    os.path.join(os.getcwd(), \"plots/question_importance_analysis.pdf\"),\n",
    "    width=WIDTH,\n",
    "    height=HEIGHT,\n",
    ")\n"
   ]
  },
  {
   "cell_type": "markdown",
   "id": "a004dfb2",
   "metadata": {},
   "source": [
    "# RQ3: Differences in User Groups: Correlation Analysis + Comparision of Category Types "
   ]
  },
  {
   "cell_type": "code",
   "execution_count": 22,
   "id": "8f6f5538",
   "metadata": {},
   "outputs": [
    {
     "name": "stdout",
     "output_type": "stream",
     "text": [
      "                            OLS Regression Results                            \n",
      "==============================================================================\n",
      "Dep. Variable:            Average_Imp   R-squared:                       0.141\n",
      "Model:                            OLS   Adj. R-squared:                  0.114\n",
      "Method:                 Least Squares   F-statistic:                     5.263\n",
      "Date:                Thu, 16 Oct 2025   Prob (F-statistic):            0.00210\n",
      "Time:                        20:24:47   Log-Likelihood:                -89.313\n",
      "No. Observations:                 100   AIC:                             186.6\n",
      "Df Residuals:                      96   BIC:                             197.0\n",
      "Df Model:                           3                                         \n",
      "Covariance Type:            nonrobust                                         \n",
      "=================================================================================\n",
      "                    coef    std err          t      P>|t|      [0.025      0.975]\n",
      "---------------------------------------------------------------------------------\n",
      "const             2.6195      0.376      6.968      0.000       1.873       3.366\n",
      "AttitudesAvgP     0.1433      0.065      2.202      0.030       0.014       0.272\n",
      "AttitudesAvgS     0.0571      0.080      0.711      0.479      -0.102       0.217\n",
      "RobotExpScale     0.0537      0.039      1.372      0.173      -0.024       0.132\n",
      "==============================================================================\n",
      "Omnibus:                        4.139   Durbin-Watson:                   2.109\n",
      "Prob(Omnibus):                  0.126   Jarque-Bera (JB):                3.485\n",
      "Skew:                          -0.371   Prob(JB):                        0.175\n",
      "Kurtosis:                       3.535   Cond. No.                         49.7\n",
      "==============================================================================\n",
      "\n",
      "Notes:\n",
      "[1] Standard Errors assume that the covariance matrix of the errors is correctly specified.\n"
     ]
    }
   ],
   "source": [
    "# linear regression for predicting importance from attitudes and experience\n",
    "\n",
    "imp_cols = [col for col in df_participants.columns if col.endswith('-Imp')]\n",
    "df_participants['Average_Imp'] = df_participants[imp_cols].mean(axis=1)\n",
    "\n",
    "exp_values = df_participants['RobotExpScale'].astype(float)\n",
    "\n",
    "X = df_participants[[\"AttitudesAvgP\", \"AttitudesAvgS\", \"RobotExpScale\"]]\n",
    "X = X.astype(float)\n",
    "X = sm.add_constant(X)\n",
    "y = df_participants[\"Average_Imp\"]\n",
    "y = y.astype(float)\n",
    "\n",
    "model = sm.OLS(y, X).fit()\n",
    "print(model.summary())\n"
   ]
  },
  {
   "cell_type": "code",
   "execution_count": 23,
   "id": "686abb73",
   "metadata": {},
   "outputs": [
    {
     "data": {
      "application/vnd.plotly.v1+json": {
       "config": {
        "plotlyServerURL": "https://plot.ly"
       },
       "data": [
        {
         "error_x": {
          "array": {
           "bdata": "oxieeBPpsz82KA1AUGvEP0NqYwfVh8A/",
           "dtype": "f8"
          },
          "arrayminus": {
           "bdata": "oxieeBPpsz82KA1AUGvEP0RqYwfVh8A/",
           "dtype": "f8"
          },
          "symmetric": false,
          "thickness": 1.5,
          "type": "data",
          "width": 0
         },
         "hoverinfo": "text+y",
         "marker": {
          "color": "blue",
          "size": 8
         },
         "mode": "markers",
         "text": [
          "0.054",
          "0.057",
          "0.143"
         ],
         "type": "scatter",
         "x": {
          "bdata": "8mpEW4iEqz/80SxsTECtP2VlbIZdVsI/",
          "dtype": "f8"
         },
         "y": {
          "bdata": "AAEC",
          "dtype": "i1"
         }
        }
       ],
       "layout": {
        "annotations": [
         {
          "font": {
           "size": 15
          },
          "showarrow": false,
          "text": "0.054",
          "x": 0.053745518818876806,
          "xanchor": "left",
          "xshift": 0,
          "y": 0,
          "yanchor": "bottom",
          "yshift": 12
         },
         {
          "font": {
           "size": 15
          },
          "showarrow": false,
          "text": "0.057",
          "x": 0.05713118381973811,
          "xanchor": "left",
          "xshift": 0,
          "y": 1,
          "yanchor": "bottom",
          "yshift": 12
         },
         {
          "font": {
           "size": 15
          },
          "showarrow": false,
          "text": "0.143",
          "x": 0.14326066077846203,
          "xanchor": "left",
          "xshift": 0,
          "y": 2,
          "yanchor": "bottom",
          "yshift": 12
         }
        ],
        "height": 600,
        "margin": {
         "b": 40,
         "l": 150,
         "r": 40,
         "t": 60
        },
        "shapes": [
         {
          "line": {
           "color": "black",
           "dash": "dash"
          },
          "type": "line",
          "x0": 0,
          "x1": 0,
          "y0": -1,
          "y1": 3
         }
        ],
        "template": {
         "data": {
          "bar": [
           {
            "error_x": {
             "color": "#2a3f5f"
            },
            "error_y": {
             "color": "#2a3f5f"
            },
            "marker": {
             "line": {
              "color": "#E5ECF6",
              "width": 0.5
             },
             "pattern": {
              "fillmode": "overlay",
              "size": 10,
              "solidity": 0.2
             }
            },
            "type": "bar"
           }
          ],
          "barpolar": [
           {
            "marker": {
             "line": {
              "color": "#E5ECF6",
              "width": 0.5
             },
             "pattern": {
              "fillmode": "overlay",
              "size": 10,
              "solidity": 0.2
             }
            },
            "type": "barpolar"
           }
          ],
          "carpet": [
           {
            "aaxis": {
             "endlinecolor": "#2a3f5f",
             "gridcolor": "white",
             "linecolor": "white",
             "minorgridcolor": "white",
             "startlinecolor": "#2a3f5f"
            },
            "baxis": {
             "endlinecolor": "#2a3f5f",
             "gridcolor": "white",
             "linecolor": "white",
             "minorgridcolor": "white",
             "startlinecolor": "#2a3f5f"
            },
            "type": "carpet"
           }
          ],
          "choropleth": [
           {
            "colorbar": {
             "outlinewidth": 0,
             "ticks": ""
            },
            "type": "choropleth"
           }
          ],
          "contour": [
           {
            "colorbar": {
             "outlinewidth": 0,
             "ticks": ""
            },
            "colorscale": [
             [
              0,
              "#0d0887"
             ],
             [
              0.1111111111111111,
              "#46039f"
             ],
             [
              0.2222222222222222,
              "#7201a8"
             ],
             [
              0.3333333333333333,
              "#9c179e"
             ],
             [
              0.4444444444444444,
              "#bd3786"
             ],
             [
              0.5555555555555556,
              "#d8576b"
             ],
             [
              0.6666666666666666,
              "#ed7953"
             ],
             [
              0.7777777777777778,
              "#fb9f3a"
             ],
             [
              0.8888888888888888,
              "#fdca26"
             ],
             [
              1,
              "#f0f921"
             ]
            ],
            "type": "contour"
           }
          ],
          "contourcarpet": [
           {
            "colorbar": {
             "outlinewidth": 0,
             "ticks": ""
            },
            "type": "contourcarpet"
           }
          ],
          "heatmap": [
           {
            "colorbar": {
             "outlinewidth": 0,
             "ticks": ""
            },
            "colorscale": [
             [
              0,
              "#0d0887"
             ],
             [
              0.1111111111111111,
              "#46039f"
             ],
             [
              0.2222222222222222,
              "#7201a8"
             ],
             [
              0.3333333333333333,
              "#9c179e"
             ],
             [
              0.4444444444444444,
              "#bd3786"
             ],
             [
              0.5555555555555556,
              "#d8576b"
             ],
             [
              0.6666666666666666,
              "#ed7953"
             ],
             [
              0.7777777777777778,
              "#fb9f3a"
             ],
             [
              0.8888888888888888,
              "#fdca26"
             ],
             [
              1,
              "#f0f921"
             ]
            ],
            "type": "heatmap"
           }
          ],
          "histogram": [
           {
            "marker": {
             "pattern": {
              "fillmode": "overlay",
              "size": 10,
              "solidity": 0.2
             }
            },
            "type": "histogram"
           }
          ],
          "histogram2d": [
           {
            "colorbar": {
             "outlinewidth": 0,
             "ticks": ""
            },
            "colorscale": [
             [
              0,
              "#0d0887"
             ],
             [
              0.1111111111111111,
              "#46039f"
             ],
             [
              0.2222222222222222,
              "#7201a8"
             ],
             [
              0.3333333333333333,
              "#9c179e"
             ],
             [
              0.4444444444444444,
              "#bd3786"
             ],
             [
              0.5555555555555556,
              "#d8576b"
             ],
             [
              0.6666666666666666,
              "#ed7953"
             ],
             [
              0.7777777777777778,
              "#fb9f3a"
             ],
             [
              0.8888888888888888,
              "#fdca26"
             ],
             [
              1,
              "#f0f921"
             ]
            ],
            "type": "histogram2d"
           }
          ],
          "histogram2dcontour": [
           {
            "colorbar": {
             "outlinewidth": 0,
             "ticks": ""
            },
            "colorscale": [
             [
              0,
              "#0d0887"
             ],
             [
              0.1111111111111111,
              "#46039f"
             ],
             [
              0.2222222222222222,
              "#7201a8"
             ],
             [
              0.3333333333333333,
              "#9c179e"
             ],
             [
              0.4444444444444444,
              "#bd3786"
             ],
             [
              0.5555555555555556,
              "#d8576b"
             ],
             [
              0.6666666666666666,
              "#ed7953"
             ],
             [
              0.7777777777777778,
              "#fb9f3a"
             ],
             [
              0.8888888888888888,
              "#fdca26"
             ],
             [
              1,
              "#f0f921"
             ]
            ],
            "type": "histogram2dcontour"
           }
          ],
          "mesh3d": [
           {
            "colorbar": {
             "outlinewidth": 0,
             "ticks": ""
            },
            "type": "mesh3d"
           }
          ],
          "parcoords": [
           {
            "line": {
             "colorbar": {
              "outlinewidth": 0,
              "ticks": ""
             }
            },
            "type": "parcoords"
           }
          ],
          "pie": [
           {
            "automargin": true,
            "type": "pie"
           }
          ],
          "scatter": [
           {
            "fillpattern": {
             "fillmode": "overlay",
             "size": 10,
             "solidity": 0.2
            },
            "type": "scatter"
           }
          ],
          "scatter3d": [
           {
            "line": {
             "colorbar": {
              "outlinewidth": 0,
              "ticks": ""
             }
            },
            "marker": {
             "colorbar": {
              "outlinewidth": 0,
              "ticks": ""
             }
            },
            "type": "scatter3d"
           }
          ],
          "scattercarpet": [
           {
            "marker": {
             "colorbar": {
              "outlinewidth": 0,
              "ticks": ""
             }
            },
            "type": "scattercarpet"
           }
          ],
          "scattergeo": [
           {
            "marker": {
             "colorbar": {
              "outlinewidth": 0,
              "ticks": ""
             }
            },
            "type": "scattergeo"
           }
          ],
          "scattergl": [
           {
            "marker": {
             "colorbar": {
              "outlinewidth": 0,
              "ticks": ""
             }
            },
            "type": "scattergl"
           }
          ],
          "scattermap": [
           {
            "marker": {
             "colorbar": {
              "outlinewidth": 0,
              "ticks": ""
             }
            },
            "type": "scattermap"
           }
          ],
          "scattermapbox": [
           {
            "marker": {
             "colorbar": {
              "outlinewidth": 0,
              "ticks": ""
             }
            },
            "type": "scattermapbox"
           }
          ],
          "scatterpolar": [
           {
            "marker": {
             "colorbar": {
              "outlinewidth": 0,
              "ticks": ""
             }
            },
            "type": "scatterpolar"
           }
          ],
          "scatterpolargl": [
           {
            "marker": {
             "colorbar": {
              "outlinewidth": 0,
              "ticks": ""
             }
            },
            "type": "scatterpolargl"
           }
          ],
          "scatterternary": [
           {
            "marker": {
             "colorbar": {
              "outlinewidth": 0,
              "ticks": ""
             }
            },
            "type": "scatterternary"
           }
          ],
          "surface": [
           {
            "colorbar": {
             "outlinewidth": 0,
             "ticks": ""
            },
            "colorscale": [
             [
              0,
              "#0d0887"
             ],
             [
              0.1111111111111111,
              "#46039f"
             ],
             [
              0.2222222222222222,
              "#7201a8"
             ],
             [
              0.3333333333333333,
              "#9c179e"
             ],
             [
              0.4444444444444444,
              "#bd3786"
             ],
             [
              0.5555555555555556,
              "#d8576b"
             ],
             [
              0.6666666666666666,
              "#ed7953"
             ],
             [
              0.7777777777777778,
              "#fb9f3a"
             ],
             [
              0.8888888888888888,
              "#fdca26"
             ],
             [
              1,
              "#f0f921"
             ]
            ],
            "type": "surface"
           }
          ],
          "table": [
           {
            "cells": {
             "fill": {
              "color": "#EBF0F8"
             },
             "line": {
              "color": "white"
             }
            },
            "header": {
             "fill": {
              "color": "#C8D4E3"
             },
             "line": {
              "color": "white"
             }
            },
            "type": "table"
           }
          ]
         },
         "layout": {
          "annotationdefaults": {
           "arrowcolor": "#2a3f5f",
           "arrowhead": 0,
           "arrowwidth": 1
          },
          "autotypenumbers": "strict",
          "coloraxis": {
           "colorbar": {
            "outlinewidth": 0,
            "ticks": ""
           }
          },
          "colorscale": {
           "diverging": [
            [
             0,
             "#8e0152"
            ],
            [
             0.1,
             "#c51b7d"
            ],
            [
             0.2,
             "#de77ae"
            ],
            [
             0.3,
             "#f1b6da"
            ],
            [
             0.4,
             "#fde0ef"
            ],
            [
             0.5,
             "#f7f7f7"
            ],
            [
             0.6,
             "#e6f5d0"
            ],
            [
             0.7,
             "#b8e186"
            ],
            [
             0.8,
             "#7fbc41"
            ],
            [
             0.9,
             "#4d9221"
            ],
            [
             1,
             "#276419"
            ]
           ],
           "sequential": [
            [
             0,
             "#0d0887"
            ],
            [
             0.1111111111111111,
             "#46039f"
            ],
            [
             0.2222222222222222,
             "#7201a8"
            ],
            [
             0.3333333333333333,
             "#9c179e"
            ],
            [
             0.4444444444444444,
             "#bd3786"
            ],
            [
             0.5555555555555556,
             "#d8576b"
            ],
            [
             0.6666666666666666,
             "#ed7953"
            ],
            [
             0.7777777777777778,
             "#fb9f3a"
            ],
            [
             0.8888888888888888,
             "#fdca26"
            ],
            [
             1,
             "#f0f921"
            ]
           ],
           "sequentialminus": [
            [
             0,
             "#0d0887"
            ],
            [
             0.1111111111111111,
             "#46039f"
            ],
            [
             0.2222222222222222,
             "#7201a8"
            ],
            [
             0.3333333333333333,
             "#9c179e"
            ],
            [
             0.4444444444444444,
             "#bd3786"
            ],
            [
             0.5555555555555556,
             "#d8576b"
            ],
            [
             0.6666666666666666,
             "#ed7953"
            ],
            [
             0.7777777777777778,
             "#fb9f3a"
            ],
            [
             0.8888888888888888,
             "#fdca26"
            ],
            [
             1,
             "#f0f921"
            ]
           ]
          },
          "colorway": [
           "#636efa",
           "#EF553B",
           "#00cc96",
           "#ab63fa",
           "#FFA15A",
           "#19d3f3",
           "#FF6692",
           "#B6E880",
           "#FF97FF",
           "#FECB52"
          ],
          "font": {
           "color": "#2a3f5f"
          },
          "geo": {
           "bgcolor": "white",
           "lakecolor": "white",
           "landcolor": "#E5ECF6",
           "showlakes": true,
           "showland": true,
           "subunitcolor": "white"
          },
          "hoverlabel": {
           "align": "left"
          },
          "hovermode": "closest",
          "mapbox": {
           "style": "light"
          },
          "paper_bgcolor": "white",
          "plot_bgcolor": "#E5ECF6",
          "polar": {
           "angularaxis": {
            "gridcolor": "white",
            "linecolor": "white",
            "ticks": ""
           },
           "bgcolor": "#E5ECF6",
           "radialaxis": {
            "gridcolor": "white",
            "linecolor": "white",
            "ticks": ""
           }
          },
          "scene": {
           "xaxis": {
            "backgroundcolor": "#E5ECF6",
            "gridcolor": "white",
            "gridwidth": 2,
            "linecolor": "white",
            "showbackground": true,
            "ticks": "",
            "zerolinecolor": "white"
           },
           "yaxis": {
            "backgroundcolor": "#E5ECF6",
            "gridcolor": "white",
            "gridwidth": 2,
            "linecolor": "white",
            "showbackground": true,
            "ticks": "",
            "zerolinecolor": "white"
           },
           "zaxis": {
            "backgroundcolor": "#E5ECF6",
            "gridcolor": "white",
            "gridwidth": 2,
            "linecolor": "white",
            "showbackground": true,
            "ticks": "",
            "zerolinecolor": "white"
           }
          },
          "shapedefaults": {
           "line": {
            "color": "#2a3f5f"
           }
          },
          "ternary": {
           "aaxis": {
            "gridcolor": "white",
            "linecolor": "white",
            "ticks": ""
           },
           "baxis": {
            "gridcolor": "white",
            "linecolor": "white",
            "ticks": ""
           },
           "bgcolor": "#E5ECF6",
           "caxis": {
            "gridcolor": "white",
            "linecolor": "white",
            "ticks": ""
           }
          },
          "title": {
           "x": 0.05
          },
          "xaxis": {
           "automargin": true,
           "gridcolor": "white",
           "linecolor": "white",
           "ticks": "",
           "title": {
            "standoff": 15
           },
           "zerolinecolor": "white",
           "zerolinewidth": 2
          },
          "yaxis": {
           "automargin": true,
           "gridcolor": "white",
           "linecolor": "white",
           "ticks": "",
           "title": {
            "standoff": 15
           },
           "zerolinecolor": "white",
           "zerolinewidth": 2
          }
         }
        },
        "title": {},
        "width": 800,
        "xaxis": {
         "tickfont": {
          "size": 16
         },
         "title": {
          "font": {
           "size": 21,
           "weight": "bold"
          },
          "text": "Coefficient estimate"
         }
        },
        "yaxis": {
         "tickfont": {
          "size": 16
         },
         "tickmode": "array",
         "ticktext": [
          "Robotics Experience",
          "Attitudes (Societal)",
          "Attitudes (Personal)"
         ],
         "tickvals": {
          "bdata": "AAEC",
          "dtype": "i1"
         },
         "title": {
          "font": {
           "size": 21,
           "weight": "bold"
          },
          "text": "User Variables"
         }
        }
       }
      }
     },
     "metadata": {},
     "output_type": "display_data"
    }
   ],
   "source": [
    "# Grab coefficients and 95% confidence intervals (exclude intercept for plotting)\n",
    "res = model \n",
    "params = res.params.copy()\n",
    "conf = res.conf_int().copy()\n",
    "if \"const\" in params.index:\n",
    "    params = params.drop(\"const\")\n",
    "    conf = conf.loc[params.index]\n",
    "\n",
    "# Build a tidy frame, sort by absolute effect size\n",
    "coef_df = pd.DataFrame({\n",
    "    \"coef\": params,\n",
    "    \"lo\": conf[0],\n",
    "    \"hi\": conf[1],\n",
    "})\n",
    "coef_df[\"abs_coef\"] = coef_df[\"coef\"].abs()\n",
    "coef_df = coef_df.sort_values(\"abs_coef\", ascending=True)\n",
    "\n",
    "# Replacement dict for nicer labels\n",
    "replacement_dict = {\n",
    "    \"AttitudesAvgP\": \"Attitudes (Personal)\",\n",
    "    \"AttitudesAvgS\": \"Attitudes (Societal)\",\n",
    "    \"Average_Imp\": \"Question Importance\",\n",
    "    \"RobotExpScale\": \"Robotics Experience\"\n",
    "}\n",
    "y_labels = [replacement_dict.get(lbl, lbl) for lbl in coef_df.index.tolist()]\n",
    "y_pos = np.arange(len(coef_df))\n",
    "x = coef_df[\"coef\"].values\n",
    "error_minus = x - coef_df[\"lo\"].values\n",
    "error_plus = coef_df[\"hi\"].values - x\n",
    "\n",
    "fig = go.Figure()\n",
    "\n",
    "# Add coefficient points with error bars\n",
    "fig.add_trace(go.Scatter(\n",
    "    x=x,\n",
    "    y=y_pos,\n",
    "    mode=\"markers\",\n",
    "    error_x=dict(\n",
    "        type=\"data\",\n",
    "        symmetric=False,\n",
    "        array=error_plus,\n",
    "        arrayminus=error_minus,\n",
    "        thickness=1.5,\n",
    "        width=0\n",
    "    ),\n",
    "    marker=dict(color=\"blue\", size=8),\n",
    "    text=[f\"{val:.3f}\" for val in x],  # hover text\n",
    "    hoverinfo=\"text+y\"\n",
    "))\n",
    "\n",
    "# Add vertical line at zero\n",
    "fig.add_shape(\n",
    "    type=\"line\",\n",
    "    x0=0, x1=0,\n",
    "    y0=-1, y1=len(y_pos),\n",
    "    line=dict(color=\"black\", dash=\"dash\")\n",
    ")\n",
    "fig.update_layout(\n",
    "    title=None ,\n",
    "    xaxis_title=\"Coefficient estimate\",\n",
    "    yaxis_title=\"User Variables\",\n",
    "    yaxis=dict(\n",
    "        tickmode=\"array\",\n",
    "        tickvals=y_pos,\n",
    "        ticktext=y_labels\n",
    "    ),\n",
    "    margin=dict(l=150, r=40, t=60, b=40),\n",
    "    width=800,\n",
    "    height=600\n",
    "    )\n",
    "\n",
    "# Add text labels slightly above the line\n",
    "for xi, yi in zip(x, y_pos):\n",
    "    fig.add_annotation(\n",
    "        x=xi, y=yi,\n",
    "        text=f\"{xi:.3f}\",\n",
    "        showarrow=False,\n",
    "        xanchor=\"left\",\n",
    "        yanchor=\"bottom\",\n",
    "        font=dict(size=15),\n",
    "        xshift=0,\n",
    "        yshift=12  \n",
    "    )\n",
    "\n",
    "fig.update_xaxes(title_font=dict(size=21, weight=\"bold\"), tickfont=dict(size=16))\n",
    "fig.update_yaxes(title_font=dict(size=21, weight=\"bold\"), tickfont=dict(size=16))\n",
    "\n",
    "fig.show()\n",
    "fig.write_image(os.path.join(os.getcwd(), 'plots/linear_regression_coefficients.pdf'), format='pdf', width=800, height=600)\n"
   ]
  },
  {
   "cell_type": "code",
   "execution_count": 15,
   "id": "5634b064",
   "metadata": {},
   "outputs": [
    {
     "name": "stdout",
     "output_type": "stream",
     "text": [
      "AttitudesAvgP  vs  AttitudesAvgS     r = +0.592 |  p_raw = 8.38e-11 |  p_holm = 5.03e-10\n",
      "AttitudesAvgP  vs  Average_Imp       r = +0.332 |  p_raw = 0.000743 |  p_holm = 0.00371\n",
      "AttitudesAvgS  vs  Average_Imp       r = +0.320 |  p_raw = 0.00116 |  p_holm = 0.00465\n",
      "RobotExpScale  vs  Average_Imp       r = +0.193 |  p_raw = 0.0547 |  p_holm = 0.154\n",
      "RobotExpScale  vs  AttitudesAvgP     r = +0.195 |  p_raw = 0.0514 |  p_holm = 0.154\n",
      "RobotExpScale  vs  AttitudesAvgS     r = +0.144 |  p_raw = 0.152 |  p_holm = 0.154\n"
     ]
    }
   ],
   "source": [
    "spearman = True\n",
    "\n",
    "if spearman:\n",
    "    corr_test = spearmanr\n",
    "else:\n",
    "    corr_test = pearsonr\n",
    "\n",
    "# ----- 1. Compute correlations & raw p-values -----\n",
    "tests = [\n",
    "    (\"AttitudesAvgP  vs  AttitudesAvgS\",\n",
    "     *corr_test(df_participants[\"AttitudesAvgP\"], df_participants[\"AttitudesAvgS\"])),\n",
    "\n",
    "    (\"AttitudesAvgP  vs  Average_Imp\",\n",
    "     *corr_test(df_participants[\"AttitudesAvgP\"], df_participants[\"Average_Imp\"])),\n",
    "\n",
    "    (\"AttitudesAvgS  vs  Average_Imp\",\n",
    "     *corr_test(df_participants[\"AttitudesAvgS\"], df_participants[\"Average_Imp\"])),\n",
    "\n",
    "    (\"RobotExpScale  vs  Average_Imp\",\n",
    "     *corr_test(exp_values, df_participants[\"Average_Imp\"])),\n",
    "\n",
    "    (\"RobotExpScale  vs  AttitudesAvgP\",\n",
    "     *corr_test(exp_values, df_participants[\"AttitudesAvgP\"])),\n",
    "\n",
    "    (\"RobotExpScale  vs  AttitudesAvgS\",\n",
    "     *corr_test(exp_values, df_participants[\"AttitudesAvgS\"])),\n",
    "]\n",
    "\n",
    "\n",
    "labels, r_vals, p_raw = zip(*[(name, r, p) for name, r, p in tests])\n",
    "\n",
    "# ----- 2. Holm (step-down Bonferroni) correction -----\n",
    "# multipletests returns: rejected?, p_corrected, crit, p_sorted\n",
    "_, p_holm, _, _ = multipletests(p_raw, alpha=0.05, method=\"holm\")\n",
    "\n",
    "# ----- 3. Pretty print -----\n",
    "for name, r, p0, pH in zip(labels, r_vals, p_raw, p_holm):\n",
    "    print(f\"{name:35s}  r = {r:+.3f} |  p_raw = {p0:.3g} |  p_holm = {pH:.3g}\")\n"
   ]
  },
  {
   "cell_type": "code",
   "execution_count": 16,
   "id": "6bb38c3d",
   "metadata": {},
   "outputs": [
    {
     "data": {
      "image/png": "[encoded data removed]",
      "text/plain": [
       "<Figure size 600x500 with 2 Axes>"
      ]
     },
     "metadata": {},
     "output_type": "display_data"
    }
   ],
   "source": [
    "# --------------------------------------------------\n",
    "# 1 .  Assemble an r-matrix & matching Holm p-matrix\n",
    "# --------------------------------------------------\n",
    "vars_order = [\"AttitudesAvgP\", \"AttitudesAvgS\",\n",
    "              \"Average_Imp\", \"RobotExpScale\"]\n",
    "\n",
    "# map each label (exact strings from your `labels`) to indices\n",
    "pair_to_idx = {\n",
    "    (\"AttitudesAvgP\", \"AttitudesAvgS\"): 0,\n",
    "    (\"AttitudesAvgP\", \"Average_Imp\"):   1,\n",
    "    (\"AttitudesAvgS\", \"Average_Imp\"):   2,\n",
    "    (\"RobotExpScale\", \"Average_Imp\"):   3,\n",
    "    (\"RobotExpScale\", \"AttitudesAvgP\"): 4,\n",
    "    (\"RobotExpScale\", \"AttitudesAvgS\"): 5,\n",
    "}\n",
    "\n",
    "n = len(vars_order)\n",
    "R   = np.full((n, n), np.nan)   # correlation coefficients\n",
    "P_H = np.full((n, n), np.nan)   # Holm-adjusted p-values\n",
    "\n",
    "for i_label, (lab, r, pH) in enumerate(zip(labels, r_vals, p_holm)):\n",
    "    left, right = [s.strip() for s in lab.split(\"  vs  \")]\n",
    "    i, j = vars_order.index(left), vars_order.index(right)\n",
    "    R[i, j] = R[j, i] = r\n",
    "    P_H[i, j] = P_H[j, i] = pH\n",
    "\n",
    "# --------------------------------------------------\n",
    "# 2 .  Plot heat-map\n",
    "# --------------------------------------------------\n",
    "fig, ax = plt.subplots(figsize=(6, 5))\n",
    "\n",
    "im = ax.imshow(R, vmin=-1, vmax=1)         # default colormap; no colours set explicitly\n",
    "\n",
    "# tick labels\n",
    "ax.set_xticks(range(n), vars_order, rotation=45, ha=\"right\")\n",
    "ax.set_yticks(range(n), vars_order)\n",
    "\n",
    "# --------------------------------------------------\n",
    "# 3 .  Annotate cells with r & significance stars\n",
    "# --------------------------------------------------\n",
    "for i in range(n):\n",
    "    for j in range(n):\n",
    "        if i == j or np.isnan(R[i, j]):   # skip diagonal / empty cells\n",
    "            continue\n",
    "        r = R[i, j]\n",
    "        p = P_H[i, j]\n",
    "\n",
    "        # choose star(s) for Holm-corrected p\n",
    "        if   p < 0.001: stars = \"***\"\n",
    "        elif p < 0.01:  stars = \"**\"\n",
    "        elif p < 0.05:  stars = \"*\"\n",
    "        else:           stars = \"\"\n",
    "\n",
    "        ax.text(j, i, f\"{r:+.2f}\\n{stars}\",\n",
    "                ha=\"center\", va=\"center\",\n",
    "                fontsize=9, fontweight=\"bold\" if stars else \"normal\")\n",
    "        \n",
    "im = ax.imshow(\n",
    "        R,\n",
    "        vmin=-1, vmax=1,\n",
    "        cmap=\"RdBu\"      # e.g. \"coolwarm\", \"RdBu\", \"seismic\"\n",
    "        )\n",
    "cbar = fig.colorbar(im, ax=ax, shrink=0.8) \n",
    "# bold\n",
    "cbar.ax.set_ylabel(\"Spearman's  ρ\", rotation=-90, va=\"bottom\", fontsize=12, fontweight=\"bold\")\n",
    "\n",
    "# replace labels (dictionary)\n",
    "\n",
    "replacement_dict = {\n",
    "    \"AttitudesAvgP\": \"Attitudes (Personal)\",\n",
    "    \"AttitudesAvgS\": \"Attitudes (Societal)\",\n",
    "    \"Average_Imp\": \"Question Importance\",\n",
    "    \"RobotExpScale\": \"Robotics Experience\"\n",
    "}\n",
    "\n",
    "vars_order = [replacement_dict.get(var, var) for var in vars_order]\n",
    "ax.set_xticklabels(vars_order, rotation=22, ha=\"right\")\n",
    "ax.set_yticklabels(vars_order)\n",
    "#ax.set_title(\"Pearson Correlations & Holm-Corrected p-values\", fontsize=14, fontweight=\"bold\")\n",
    "#ax.set_xlabel(\"Variables\", fontsize=12)\n",
    "ax.set_ylabel(\"User Variables\", fontsize=12, fontweight=\"bold\")\n",
    "\n",
    "plt.tight_layout()\n",
    "plt.show()\n",
    "\n",
    "# save as pdf\n",
    "fig.savefig(os.path.join(os.getcwd(), 'plots/pearson_correlations.pdf'), format='pdf', bbox_inches='tight')\n"
   ]
  },
  {
   "cell_type": "code",
   "execution_count": 17,
   "id": "34aca348",
   "metadata": {},
   "outputs": [
    {
     "name": "stdout",
     "output_type": "stream",
     "text": [
      "Average participant-level Q_Importance by group and bin:\n",
      "bin                     low   high  Δ (high - low)\n",
      "Group                                             \n",
      "environment-state     3.756  3.955           0.198\n",
      "execution-details     3.742  3.918           0.176\n",
      "future-actions        3.557  3.556          -0.002\n",
      "how-did-you-decide    3.773  4.060           0.287\n",
      "how-did-you-know      4.008  4.266           0.258\n",
      "mental-state          3.538  3.755           0.217\n",
      "potential-issues      4.132  4.361           0.229\n",
      "self/task-assessment  3.703  3.961           0.258\n",
      "technical-details     3.766  4.167           0.401\n",
      "time                  3.558  3.712           0.154\n",
      "what-abilities        3.527  3.765           0.238\n",
      "why                   3.423  3.864           0.441\n",
      "\n",
      "Participant counts (n) contributing Q_Importance per group × bin:\n",
      "bin                   low  high\n",
      "Group                          \n",
      "environment-state      45    11\n",
      "execution-details      68    22\n",
      "future-actions         29    12\n",
      "how-did-you-decide     30    13\n",
      "how-did-you-know       36    13\n",
      "mental-state           39    15\n",
      "potential-issues       30    14\n",
      "self/task-assessment   47    12\n",
      "technical-details      21     7\n",
      "time                   52    11\n",
      "what-abilities         52    19\n",
      "why                    43    14\n",
      "\n",
      "Participant-normalized proportions by group (%):\n",
      "bin                    low  high\n",
      "Group                           \n",
      "environment-state      9.8   3.1\n",
      "execution-details     23.3  15.7\n",
      "future-actions         3.9   4.6\n",
      "how-did-you-decide     4.6   8.1\n",
      "how-did-you-know       6.3   6.3\n",
      "mental-state           5.2   8.3\n",
      "potential-issues       4.8   9.4\n",
      "self/task-assessment  11.0  10.0\n",
      "technical-details      2.6   3.6\n",
      "time                   7.0   5.5\n",
      "what-abilities        12.3  15.2\n",
      "why                    9.2  10.3\n",
      "\n",
      "Welch t-tests (per category): high vs. low on participant-level proportions\n",
      "                      n_low  n_high  mean_low  mean_high  Δ (high - low)       t       df  p_two_sided\n",
      "Group                                                                                                 \n",
      "environment-state        76      24    0.0976     0.0310         -0.0666 -4.0483  97.9908       0.0001\n",
      "execution-details        76      24    0.2331     0.1575         -0.0756 -2.3470  47.6080       0.0231\n",
      "future-actions           76      24    0.0392     0.0465          0.0073  0.5400  39.8013       0.5922\n",
      "how-did-you-decide       76      24    0.0457     0.0806          0.0349  1.6872  33.8632       0.1008\n",
      "how-did-you-know         76      24    0.0630     0.0629         -0.0000 -0.0023  39.6502       0.9981\n",
      "mental-state             76      24    0.0522     0.0828          0.0305  1.3180  30.1254       0.1975\n",
      "potential-issues         76      24    0.0478     0.0936          0.0458  1.7804  30.8140       0.0849\n",
      "self/task-assessment     76      24    0.1102     0.0999         -0.0103 -0.2792  33.0611       0.7818\n",
      "technical-details        76      24    0.0257     0.0359          0.0101  0.6142  30.4918       0.5436\n",
      "time                     76      24    0.0702     0.0551         -0.0151 -0.9274  36.5579       0.3598\n",
      "what-abilities           76      24    0.1231     0.1517          0.0286  0.7321  32.5272       0.4693\n",
      "why                      76      24    0.0921     0.1026          0.0104  0.3571  39.1192       0.7229\n"
     ]
    },
    {
     "data": {
      "application/vnd.plotly.v1+json": {
       "config": {
        "plotlyServerURL": "https://plot.ly"
       },
       "data": [
        {
         "name": "low robot experience (< 3.5)",
         "offsetgroup": "0",
         "type": "bar",
         "width": 0.4,
         "x": [
          "environment-state",
          "execution-details",
          "future-actions",
          "how-did-you-decide",
          "how-did-you-know",
          "mental-state",
          "potential-issues",
          "self/task-assessment",
          "technical-details",
          "time",
          "what-abilities",
          "why"
         ],
         "y": {
          "bdata": "3cqsh8GGI0Arp5aAsU83QF15goAbVg9AZz0c20tIEkBhGXn4uTIZQCpscXUw4hRA2fPMy3keE0Dej+kKXgomQNKpxNNDmARAxclXH6gSHEC4qfw4Up8oQCQkGERnbSJA",
          "dtype": "f8"
         }
        },
        {
         "name": "high robot experience (≥ 3.5)",
         "offsetgroup": "1",
         "type": "bar",
         "width": 0.4,
         "x": [
          "environment-state",
          "execution-details",
          "future-actions",
          "how-did-you-decide",
          "how-did-you-know",
          "mental-state",
          "potential-issues",
          "self/task-assessment",
          "technical-details",
          "time",
          "what-abilities",
          "why"
         ],
         "y": {
          "bdata": "F3Z0hQbNCEB2gO0Nv38vQMm6FfsalxJASP9lfiwfIEAQvC9nuS0ZQMsj4orwjCBAAHs+b+m1IkBuv/XRMfojQEkH/I3osgxApf1HOJALFkDdhTGEF1kuQJfCQRHDgiRA",
          "dtype": "f8"
         }
        }
       ],
       "layout": {
        "barmode": "group",
        "height": 500,
        "legend": {
         "orientation": "v",
         "title": {
          "text": "Threshold"
         },
         "x": 0.7,
         "y": 1
        },
        "template": {
         "data": {
          "bar": [
           {
            "error_x": {
             "color": "#2a3f5f"
            },
            "error_y": {
             "color": "#2a3f5f"
            },
            "marker": {
             "line": {
              "color": "#E5ECF6",
              "width": 0.5
             },
             "pattern": {
              "fillmode": "overlay",
              "size": 10,
              "solidity": 0.2
             }
            },
            "type": "bar"
           }
          ],
          "barpolar": [
           {
            "marker": {
             "line": {
              "color": "#E5ECF6",
              "width": 0.5
             },
             "pattern": {
              "fillmode": "overlay",
              "size": 10,
              "solidity": 0.2
             }
            },
            "type": "barpolar"
           }
          ],
          "carpet": [
           {
            "aaxis": {
             "endlinecolor": "#2a3f5f",
             "gridcolor": "white",
             "linecolor": "white",
             "minorgridcolor": "white",
             "startlinecolor": "#2a3f5f"
            },
            "baxis": {
             "endlinecolor": "#2a3f5f",
             "gridcolor": "white",
             "linecolor": "white",
             "minorgridcolor": "white",
             "startlinecolor": "#2a3f5f"
            },
            "type": "carpet"
           }
          ],
          "choropleth": [
           {
            "colorbar": {
             "outlinewidth": 0,
             "ticks": ""
            },
            "type": "choropleth"
           }
          ],
          "contour": [
           {
            "colorbar": {
             "outlinewidth": 0,
             "ticks": ""
            },
            "colorscale": [
             [
              0,
              "#0d0887"
             ],
             [
              0.1111111111111111,
              "#46039f"
             ],
             [
              0.2222222222222222,
              "#7201a8"
             ],
             [
              0.3333333333333333,
              "#9c179e"
             ],
             [
              0.4444444444444444,
              "#bd3786"
             ],
             [
              0.5555555555555556,
              "#d8576b"
             ],
             [
              0.6666666666666666,
              "#ed7953"
             ],
             [
              0.7777777777777778,
              "#fb9f3a"
             ],
             [
              0.8888888888888888,
              "#fdca26"
             ],
             [
              1,
              "#f0f921"
             ]
            ],
            "type": "contour"
           }
          ],
          "contourcarpet": [
           {
            "colorbar": {
             "outlinewidth": 0,
             "ticks": ""
            },
            "type": "contourcarpet"
           }
          ],
          "heatmap": [
           {
            "colorbar": {
             "outlinewidth": 0,
             "ticks": ""
            },
            "colorscale": [
             [
              0,
              "#0d0887"
             ],
             [
              0.1111111111111111,
              "#46039f"
             ],
             [
              0.2222222222222222,
              "#7201a8"
             ],
             [
              0.3333333333333333,
              "#9c179e"
             ],
             [
              0.4444444444444444,
              "#bd3786"
             ],
             [
              0.5555555555555556,
              "#d8576b"
             ],
             [
              0.6666666666666666,
              "#ed7953"
             ],
             [
              0.7777777777777778,
              "#fb9f3a"
             ],
             [
              0.8888888888888888,
              "#fdca26"
             ],
             [
              1,
              "#f0f921"
             ]
            ],
            "type": "heatmap"
           }
          ],
          "histogram": [
           {
            "marker": {
             "pattern": {
              "fillmode": "overlay",
              "size": 10,
              "solidity": 0.2
             }
            },
            "type": "histogram"
           }
          ],
          "histogram2d": [
           {
            "colorbar": {
             "outlinewidth": 0,
             "ticks": ""
            },
            "colorscale": [
             [
              0,
              "#0d0887"
             ],
             [
              0.1111111111111111,
              "#46039f"
             ],
             [
              0.2222222222222222,
              "#7201a8"
             ],
             [
              0.3333333333333333,
              "#9c179e"
             ],
             [
              0.4444444444444444,
              "#bd3786"
             ],
             [
              0.5555555555555556,
              "#d8576b"
             ],
             [
              0.6666666666666666,
              "#ed7953"
             ],
             [
              0.7777777777777778,
              "#fb9f3a"
             ],
             [
              0.8888888888888888,
              "#fdca26"
             ],
             [
              1,
              "#f0f921"
             ]
            ],
            "type": "histogram2d"
           }
          ],
          "histogram2dcontour": [
           {
            "colorbar": {
             "outlinewidth": 0,
             "ticks": ""
            },
            "colorscale": [
             [
              0,
              "#0d0887"
             ],
             [
              0.1111111111111111,
              "#46039f"
             ],
             [
              0.2222222222222222,
              "#7201a8"
             ],
             [
              0.3333333333333333,
              "#9c179e"
             ],
             [
              0.4444444444444444,
              "#bd3786"
             ],
             [
              0.5555555555555556,
              "#d8576b"
             ],
             [
              0.6666666666666666,
              "#ed7953"
             ],
             [
              0.7777777777777778,
              "#fb9f3a"
             ],
             [
              0.8888888888888888,
              "#fdca26"
             ],
             [
              1,
              "#f0f921"
             ]
            ],
            "type": "histogram2dcontour"
           }
          ],
          "mesh3d": [
           {
            "colorbar": {
             "outlinewidth": 0,
             "ticks": ""
            },
            "type": "mesh3d"
           }
          ],
          "parcoords": [
           {
            "line": {
             "colorbar": {
              "outlinewidth": 0,
              "ticks": ""
             }
            },
            "type": "parcoords"
           }
          ],
          "pie": [
           {
            "automargin": true,
            "type": "pie"
           }
          ],
          "scatter": [
           {
            "fillpattern": {
             "fillmode": "overlay",
             "size": 10,
             "solidity": 0.2
            },
            "type": "scatter"
           }
          ],
          "scatter3d": [
           {
            "line": {
             "colorbar": {
              "outlinewidth": 0,
              "ticks": ""
             }
            },
            "marker": {
             "colorbar": {
              "outlinewidth": 0,
              "ticks": ""
             }
            },
            "type": "scatter3d"
           }
          ],
          "scattercarpet": [
           {
            "marker": {
             "colorbar": {
              "outlinewidth": 0,
              "ticks": ""
             }
            },
            "type": "scattercarpet"
           }
          ],
          "scattergeo": [
           {
            "marker": {
             "colorbar": {
              "outlinewidth": 0,
              "ticks": ""
             }
            },
            "type": "scattergeo"
           }
          ],
          "scattergl": [
           {
            "marker": {
             "colorbar": {
              "outlinewidth": 0,
              "ticks": ""
             }
            },
            "type": "scattergl"
           }
          ],
          "scattermap": [
           {
            "marker": {
             "colorbar": {
              "outlinewidth": 0,
              "ticks": ""
             }
            },
            "type": "scattermap"
           }
          ],
          "scattermapbox": [
           {
            "marker": {
             "colorbar": {
              "outlinewidth": 0,
              "ticks": ""
             }
            },
            "type": "scattermapbox"
           }
          ],
          "scatterpolar": [
           {
            "marker": {
             "colorbar": {
              "outlinewidth": 0,
              "ticks": ""
             }
            },
            "type": "scatterpolar"
           }
          ],
          "scatterpolargl": [
           {
            "marker": {
             "colorbar": {
              "outlinewidth": 0,
              "ticks": ""
             }
            },
            "type": "scatterpolargl"
           }
          ],
          "scatterternary": [
           {
            "marker": {
             "colorbar": {
              "outlinewidth": 0,
              "ticks": ""
             }
            },
            "type": "scatterternary"
           }
          ],
          "surface": [
           {
            "colorbar": {
             "outlinewidth": 0,
             "ticks": ""
            },
            "colorscale": [
             [
              0,
              "#0d0887"
             ],
             [
              0.1111111111111111,
              "#46039f"
             ],
             [
              0.2222222222222222,
              "#7201a8"
             ],
             [
              0.3333333333333333,
              "#9c179e"
             ],
             [
              0.4444444444444444,
              "#bd3786"
             ],
             [
              0.5555555555555556,
              "#d8576b"
             ],
             [
              0.6666666666666666,
              "#ed7953"
             ],
             [
              0.7777777777777778,
              "#fb9f3a"
             ],
             [
              0.8888888888888888,
              "#fdca26"
             ],
             [
              1,
              "#f0f921"
             ]
            ],
            "type": "surface"
           }
          ],
          "table": [
           {
            "cells": {
             "fill": {
              "color": "#EBF0F8"
             },
             "line": {
              "color": "white"
             }
            },
            "header": {
             "fill": {
              "color": "#C8D4E3"
             },
             "line": {
              "color": "white"
             }
            },
            "type": "table"
           }
          ]
         },
         "layout": {
          "annotationdefaults": {
           "arrowcolor": "#2a3f5f",
           "arrowhead": 0,
           "arrowwidth": 1
          },
          "autotypenumbers": "strict",
          "coloraxis": {
           "colorbar": {
            "outlinewidth": 0,
            "ticks": ""
           }
          },
          "colorscale": {
           "diverging": [
            [
             0,
             "#8e0152"
            ],
            [
             0.1,
             "#c51b7d"
            ],
            [
             0.2,
             "#de77ae"
            ],
            [
             0.3,
             "#f1b6da"
            ],
            [
             0.4,
             "#fde0ef"
            ],
            [
             0.5,
             "#f7f7f7"
            ],
            [
             0.6,
             "#e6f5d0"
            ],
            [
             0.7,
             "#b8e186"
            ],
            [
             0.8,
             "#7fbc41"
            ],
            [
             0.9,
             "#4d9221"
            ],
            [
             1,
             "#276419"
            ]
           ],
           "sequential": [
            [
             0,
             "#0d0887"
            ],
            [
             0.1111111111111111,
             "#46039f"
            ],
            [
             0.2222222222222222,
             "#7201a8"
            ],
            [
             0.3333333333333333,
             "#9c179e"
            ],
            [
             0.4444444444444444,
             "#bd3786"
            ],
            [
             0.5555555555555556,
             "#d8576b"
            ],
            [
             0.6666666666666666,
             "#ed7953"
            ],
            [
             0.7777777777777778,
             "#fb9f3a"
            ],
            [
             0.8888888888888888,
             "#fdca26"
            ],
            [
             1,
             "#f0f921"
            ]
           ],
           "sequentialminus": [
            [
             0,
             "#0d0887"
            ],
            [
             0.1111111111111111,
             "#46039f"
            ],
            [
             0.2222222222222222,
             "#7201a8"
            ],
            [
             0.3333333333333333,
             "#9c179e"
            ],
            [
             0.4444444444444444,
             "#bd3786"
            ],
            [
             0.5555555555555556,
             "#d8576b"
            ],
            [
             0.6666666666666666,
             "#ed7953"
            ],
            [
             0.7777777777777778,
             "#fb9f3a"
            ],
            [
             0.8888888888888888,
             "#fdca26"
            ],
            [
             1,
             "#f0f921"
            ]
           ]
          },
          "colorway": [
           "#636efa",
           "#EF553B",
           "#00cc96",
           "#ab63fa",
           "#FFA15A",
           "#19d3f3",
           "#FF6692",
           "#B6E880",
           "#FF97FF",
           "#FECB52"
          ],
          "font": {
           "color": "#2a3f5f"
          },
          "geo": {
           "bgcolor": "white",
           "lakecolor": "white",
           "landcolor": "#E5ECF6",
           "showlakes": true,
           "showland": true,
           "subunitcolor": "white"
          },
          "hoverlabel": {
           "align": "left"
          },
          "hovermode": "closest",
          "mapbox": {
           "style": "light"
          },
          "paper_bgcolor": "white",
          "plot_bgcolor": "#E5ECF6",
          "polar": {
           "angularaxis": {
            "gridcolor": "white",
            "linecolor": "white",
            "ticks": ""
           },
           "bgcolor": "#E5ECF6",
           "radialaxis": {
            "gridcolor": "white",
            "linecolor": "white",
            "ticks": ""
           }
          },
          "scene": {
           "xaxis": {
            "backgroundcolor": "#E5ECF6",
            "gridcolor": "white",
            "gridwidth": 2,
            "linecolor": "white",
            "showbackground": true,
            "ticks": "",
            "zerolinecolor": "white"
           },
           "yaxis": {
            "backgroundcolor": "#E5ECF6",
            "gridcolor": "white",
            "gridwidth": 2,
            "linecolor": "white",
            "showbackground": true,
            "ticks": "",
            "zerolinecolor": "white"
           },
           "zaxis": {
            "backgroundcolor": "#E5ECF6",
            "gridcolor": "white",
            "gridwidth": 2,
            "linecolor": "white",
            "showbackground": true,
            "ticks": "",
            "zerolinecolor": "white"
           }
          },
          "shapedefaults": {
           "line": {
            "color": "#2a3f5f"
           }
          },
          "ternary": {
           "aaxis": {
            "gridcolor": "white",
            "linecolor": "white",
            "ticks": ""
           },
           "baxis": {
            "gridcolor": "white",
            "linecolor": "white",
            "ticks": ""
           },
           "bgcolor": "#E5ECF6",
           "caxis": {
            "gridcolor": "white",
            "linecolor": "white",
            "ticks": ""
           }
          },
          "title": {
           "x": 0.05
          },
          "xaxis": {
           "automargin": true,
           "gridcolor": "white",
           "linecolor": "white",
           "ticks": "",
           "title": {
            "standoff": 15
           },
           "zerolinecolor": "white",
           "zerolinewidth": 2
          },
          "yaxis": {
           "automargin": true,
           "gridcolor": "white",
           "linecolor": "white",
           "ticks": "",
           "title": {
            "standoff": 15
           },
           "zerolinecolor": "white",
           "zerolinewidth": 2
          }
         }
        },
        "title": {},
        "width": 1000,
        "xaxis": {
         "tickangle": -30,
         "tickmode": "array",
         "tickvals": [
          "environment-state",
          "execution-details",
          "future-actions",
          "how-did-you-decide",
          "how-did-you-know",
          "mental-state",
          "potential-issues",
          "self/task-assessment",
          "technical-details",
          "time",
          "what-abilities",
          "why"
         ]
        },
        "yaxis": {
         "title": {
          "text": "Category Distribution (%)"
         }
        }
       }
      }
     },
     "metadata": {},
     "output_type": "display_data"
    }
   ],
   "source": [
    "def compare_group_distribution(\n",
    "    df_annotated: pd.DataFrame,\n",
    "    df_participants: pd.DataFrame,\n",
    "    split_col: str,\n",
    "    threshold: float = 3.5,\n",
    "    participant_col_annotated: str = \"Participant_ID\",\n",
    "    participant_col_filtered: str = \"Participant_ID\",\n",
    "    group_col: str = \"Group\",\n",
    "    plot: bool = True,\n",
    "):\n",
    "    \"\"\"\n",
    "    Participant-normalized analysis.\n",
    "\n",
    "    For each participant, compute the proportion of their samples (within their bin)\n",
    "    that fall into each `group_col` category. Then:\n",
    "      - Average those participant-level proportions within bin (\"low\"/\"high\"),\n",
    "      - Compare low vs high using Welch's t-test per category.\n",
    "\n",
    "    Prints t-test results and returns a dict with tables and stats.\n",
    "    \"\"\"\n",
    "\n",
    "    # ---------- pick only needed cols and CAST the split column to float ----------\n",
    "    fil = df_participants[[participant_col_filtered, split_col]].copy()\n",
    "    fil[participant_col_filtered] = fil[participant_col_filtered].astype(str).str.strip()\n",
    "    fil[split_col] = pd.to_numeric(fil[split_col], errors=\"coerce\")  # force float\n",
    "    fil = fil.drop_duplicates(subset=[participant_col_filtered])\n",
    "\n",
    "    # ---------- prepare annotated and merge on participant id ----------\n",
    "    ann = df_annotated.copy()\n",
    "    ann[participant_col_annotated] = ann[participant_col_annotated].astype(str).str.strip()\n",
    "\n",
    "    merged = ann.merge(\n",
    "        fil,\n",
    "        left_on=participant_col_annotated,\n",
    "        right_on=participant_col_filtered,\n",
    "        how=\"inner\",\n",
    "        validate=\"m:1\",\n",
    "    )\n",
    "\n",
    "    # drop rows with missing category (important for proper denominators)\n",
    "    merged = merged.dropna(subset=[group_col])\n",
    "\n",
    "    # ---------- make bins: high if >= threshold, else low ----------\n",
    "    bins = np.where(merged[split_col] >= threshold, \"high\", \"low\")\n",
    "    merged = merged.assign(bin=pd.Categorical(bins, categories=[\"low\",\"high\"]))\n",
    "\n",
    "    pid = participant_col_filtered  # participant id present post-merge\n",
    "    merged[group_col] = merged[group_col].astype(\"category\")\n",
    "    categories = list(merged[group_col].cat.categories)\n",
    "\n",
    "    # ---------- participant-level category proportions ----------\n",
    "    # counts per participant x bin x category\n",
    "    per_part = (\n",
    "        merged.groupby([pid, \"bin\", group_col], observed=False)\n",
    "              .size()\n",
    "              .rename(\"n\")\n",
    "              .reset_index()\n",
    "    )\n",
    "    totals = (\n",
    "        per_part.groupby([pid, \"bin\"], observed=False)[\"n\"]\n",
    "                .sum()\n",
    "                .rename(\"N\")\n",
    "                .reset_index()\n",
    "    )\n",
    "    per_part = per_part.merge(totals, on=[pid, \"bin\"], how=\"left\")\n",
    "    per_part[\"prop\"] = per_part[\"n\"] / per_part[\"N\"]\n",
    "\n",
    "    # ensure zero-proportions exist for categories a participant didn't produce\n",
    "    participants = merged[[pid, \"bin\"]].drop_duplicates()\n",
    "    cats_df = pd.DataFrame({group_col: categories})\n",
    "    participants[\"key\"] = 1\n",
    "    cats_df[\"key\"] = 1\n",
    "    full = participants.merge(cats_df, on=\"key\").drop(columns=\"key\")\n",
    "\n",
    "    per_part_full = full.merge(\n",
    "        per_part[[pid, \"bin\", group_col, \"prop\"]],\n",
    "        on=[pid, \"bin\", group_col],\n",
    "        how=\"left\"\n",
    "    )\n",
    "    per_part_full[\"prop\"] = per_part_full[\"prop\"].fillna(0.0)\n",
    "\n",
    "    # mean participant-level proportion per category x bin\n",
    "    prop_tbl = (\n",
    "        per_part_full.groupby([group_col, \"bin\"], observed=False)[\"prop\"]\n",
    "                     .mean()\n",
    "                     .unstack(\"bin\")\n",
    "                     .reindex(index=categories, columns=[\"low\",\"high\"])\n",
    "    )\n",
    "\n",
    "    # convenience: participant counts per bin\n",
    "    n_participants_by_bin = participants[\"bin\"].value_counts().reindex([\"low\",\"high\"]).fillna(0).astype(int)\n",
    "\n",
    "    # ---------- Q_Importance: participant-level means ----------\n",
    "    qcol = \"Q_Importance\"\n",
    "    mean_tbl = None\n",
    "    n_tbl = None\n",
    "    if qcol in merged.columns:\n",
    "        merged[qcol] = pd.to_numeric(merged[qcol], errors=\"coerce\")\n",
    "        # participant-level mean first\n",
    "        pii = (merged.groupby([pid, group_col, \"bin\"], observed=False)[qcol]\n",
    "                     .mean()\n",
    "                     .reset_index())\n",
    "        # drop participants that are NaN for this measure\n",
    "        pii = pii.dropna(subset=[qcol])\n",
    "\n",
    "        mean_tbl = (pii.groupby([group_col, \"bin\"], observed=False)[qcol]\n",
    "                       .mean()\n",
    "                       .unstack(\"bin\")\n",
    "                       .reindex(index=categories, columns=[\"low\",\"high\"]))\n",
    "        n_tbl = (pii.groupby([group_col, \"bin\"], observed=False)[qcol]\n",
    "                    .size()\n",
    "                    .unstack(\"bin\")\n",
    "                    .reindex(index=categories, columns=[\"low\",\"high\"])\n",
    "                    .fillna(0).astype(int))\n",
    "\n",
    "        if {\"low\", \"high\"}.issubset(mean_tbl.columns):\n",
    "            mean_tbl[\"Δ (high - low)\"] = mean_tbl[\"high\"] - mean_tbl[\"low\"]\n",
    "\n",
    "        print(\"Average participant-level Q_Importance by group and bin:\")\n",
    "        print(mean_tbl.round(3).to_string())\n",
    "        print(\"\\nParticipant counts (n) contributing Q_Importance per group × bin:\")\n",
    "        print(n_tbl.to_string())\n",
    "\n",
    "    # ---------- Welch t-tests: low vs high on participant proportions per category ----------\n",
    "    rows = []\n",
    "    for c in categories:\n",
    "        low_vec  = per_part_full.loc[(per_part_full[\"bin\"] == \"low\")  & (per_part_full[group_col] == c), \"prop\"].values\n",
    "        high_vec = per_part_full.loc[(per_part_full[\"bin\"] == \"high\") & (per_part_full[group_col] == c), \"prop\"].values\n",
    "\n",
    "        # ttest_ind returns (t, p, df). Use Welch ('unequal') to avoid equal-variance assumption.\n",
    "        t_stat, p_val, df_welch = ttest_ind(high_vec, low_vec, alternative=\"two-sided\", usevar=\"unequal\")\n",
    "\n",
    "        rows.append({\n",
    "            group_col: c,\n",
    "            \"n_low\":  len(low_vec),\n",
    "            \"n_high\": len(high_vec),\n",
    "            \"mean_low\":  float(np.mean(low_vec))  if len(low_vec)  else np.nan,\n",
    "            \"mean_high\": float(np.mean(high_vec)) if len(high_vec) else np.nan,\n",
    "            \"Δ (high - low)\": (float(np.mean(high_vec)) - float(np.mean(low_vec))) if (len(low_vec) and len(high_vec)) else np.nan,\n",
    "            \"t\": float(t_stat),\n",
    "            \"df\": float(df_welch),\n",
    "            \"p_two_sided\": float(p_val),\n",
    "        })\n",
    "\n",
    "    ttest_df = pd.DataFrame(rows).set_index(group_col).loc[categories]\n",
    "\n",
    "    print(\"\\nParticipant-normalized proportions by group (%):\")\n",
    "    print((prop_tbl * 100).round(1).to_string())\n",
    "\n",
    "    print(\"\\nWelch t-tests (per category): high vs. low on participant-level proportions\")\n",
    "    print(ttest_df.round(4).to_string())\n",
    "\n",
    "    # ---------- Plot ----------\n",
    "    if plot and not prop_tbl.empty:\n",
    "        categories_list = list(prop_tbl.index)\n",
    "        low_vals  = (prop_tbl[\"low\"]  * 100.0).values if \"low\"  in prop_tbl.columns else np.zeros(len(categories_list))\n",
    "        high_vals = (prop_tbl[\"high\"] * 100.0).values if \"high\" in prop_tbl.columns else np.zeros(len(categories_list))\n",
    "\n",
    "        fig = go.Figure()\n",
    "        width = 0.40\n",
    "\n",
    "        fig.add_trace(go.Bar(\n",
    "            x=categories_list,\n",
    "            y=low_vals,\n",
    "            name=f\"low robot experience (< {threshold})\",\n",
    "            offsetgroup=0,\n",
    "            width=width\n",
    "        ))\n",
    "\n",
    "        fig.add_trace(go.Bar(\n",
    "            x=categories_list,\n",
    "            y=high_vals,\n",
    "            name=f\"high robot experience (≥ {threshold})\",\n",
    "            offsetgroup=1,\n",
    "            width=width\n",
    "        ))\n",
    "\n",
    "        fig.update_layout(\n",
    "            barmode=\"group\",\n",
    "            xaxis=dict(tickmode=\"array\", tickvals=categories_list, tickangle=-30),\n",
    "            yaxis_title=\"Category Distribution (%)\",\n",
    "            title=None,\n",
    "            legend_title_text=\"Threshold\",\n",
    "            width=1000,\n",
    "            height=500,\n",
    "            # move legend inside figure\n",
    "            legend=dict(x=0.7, y=1, orientation=\"v\"),\n",
    "        )\n",
    "        fig.show()\n",
    "\n",
    "        # save to pdf (optional)\n",
    "        try:\n",
    "            os.makedirs(\"plots\", exist_ok=True)\n",
    "            fig.write_image(\n",
    "                f\"plots/Category_differency_by_{split_col}_participant_normalized.pdf\",\n",
    "                format=\"pdf\", width=1000, height=500\n",
    "            )\n",
    "        except Exception as e:\n",
    "            print(f\"[write_image skipped] {e}\")\n",
    "\n",
    "    return {\n",
    "        # participant-normalized distribution\n",
    "        \"participant_prop_mean_by_group_bin\": prop_tbl,              # mean proportion per category × bin\n",
    "        \"participant_prop_percent_by_bin\": (prop_tbl * 100.0),       # same, in %\n",
    "        \"n_participants_by_bin\": n_participants_by_bin,              # participants per bin\n",
    "\n",
    "        # per-category Welch t-tests comparing high vs low on participant proportions\n",
    "        \"ttest_by_category\": ttest_df,                               # columns: n_low, n_high, mean_low, mean_high, Δ, t, df, p\n",
    "\n",
    "        # Q_Importance at participant level (if present)\n",
    "        \"q_importance_mean_by_group_bin\": mean_tbl,\n",
    "        \"q_importance_n_by_group_bin\": n_tbl,\n",
    "\n",
    "        # housekeeping\n",
    "        \"merge_n_rows\": len(merged),\n",
    "        \"unique_participants\": participants[pid].nunique(),\n",
    "    }\n",
    "\n",
    "res_robot = compare_group_distribution(\n",
    "    df_annotated, df_participants,\n",
    "    split_col=\"RobotExpScale\",\n",
    "    threshold=3.5,\n",
    "    plot=True\n",
    ")\n"
   ]
  },
  {
   "cell_type": "markdown",
   "id": "0653d53d",
   "metadata": {},
   "source": [
    "# Syntax Statistics"
   ]
  },
  {
   "cell_type": "code",
   "execution_count": null,
   "id": "b7a4aebb",
   "metadata": {},
   "outputs": [
    {
     "name": "stdout",
     "output_type": "stream",
     "text": [
      "Collecting en-core-web-sm==3.8.0\n",
      "  Downloading https://github.com/explosion/spacy-models/releases/download/en_core_web_sm-3.8.0/en_core_web_sm-3.8.0-py3-none-any.whl (12.8 MB)\n",
      "\u001b[2K     \u001b[90m━━━━━━━━━━━━━━━━━━━━━━━━━━━━━━━━━━━━━━━━\u001b[0m \u001b[32m12.8/12.8 MB\u001b[0m \u001b[31m7.8 MB/s\u001b[0m  \u001b[33m0:00:01\u001b[0mm0:00:01\u001b[0m00:01\u001b[0m\n",
      "\u001b[?25hInstalling collected packages: en-core-web-sm\n",
      "Successfully installed en-core-web-sm-3.8.0\n",
      "\u001b[38;5;2m✔ Download and installation successful\u001b[0m\n",
      "You can now load the package via spacy.load('en_core_web_sm')\n",
      "\u001b[38;5;3m⚠ Restart to reload dependencies\u001b[0m\n",
      "If you are in a Jupyter or Colab notebook, you may need to restart Python in\n",
      "order to load all the package's dependencies. You can do this by selecting the\n",
      "'Restart kernel' or 'Restart runtime' option.\n",
      "Tense distribution:\n",
      "  Future  :  32 ( 1.7%)\n",
      "  Past    : 939 (49.2%)\n",
      "  Present : 916 (48.0%)\n",
      "  Unknown :  20 ( 1.0%)\n",
      "\n",
      "Voice distribution:\n",
      "  Active  : 1866 (97.9%)\n",
      "  Passive :  41 ( 2.1%)\n",
      "\n",
      "Person distribution:\n",
      "  1st     :  44 ( 2.3%)\n",
      "  2nd     : 1278 (67.0%)\n",
      "  3rd     : 570 (29.9%)\n",
      "  Unknown :  15 ( 0.8%)\n",
      "\n",
      "Average number of questions per participant: 19.48, (SD = 3.13)\n",
      "Average sentence length: 9.87 words (SD = 4.35)\n"
     ]
    }
   ],
   "source": [
    "# --------------------------------------------------------------------------- #\n",
    "#  spaCy model                                                                #\n",
    "# --------------------------------------------------------------------------- #\n",
    "MODEL = \"en_core_web_sm\"\n",
    "if not is_package(MODEL):\n",
    "    download(MODEL)\n",
    "nlp = spacy.load(MODEL)\n",
    "\n",
    "# --------------------------------------------------------------------------- #\n",
    "#  Static resources                                                           #\n",
    "# --------------------------------------------------------------------------- #\n",
    "_PRONOUN_TO_PERSON = {\n",
    "    **{w: \"1st\" for w in\n",
    "       [\"i\", \"me\", \"we\", \"us\", \"my\", \"our\", \"mine\", \"ours\"]},\n",
    "    **{w: \"2nd\" for w in\n",
    "       [\"you\", \"your\", \"yours\"]},\n",
    "    **{w: \"3rd\" for w in\n",
    "       [\"he\", \"she\", \"it\", \"they\", \"him\", \"her\", \"them\",\n",
    "        \"his\", \"hers\", \"its\", \"their\", \"theirs\"]},\n",
    "}\n",
    "_MODAL_PRESENT = {\"can\", \"could\", \"may\", \"might\", \"must\", \"should\", \"would\", \"ought\"}\n",
    "\n",
    "def _pronoun_person(txt: str) -> str | None:\n",
    "    return _PRONOUN_TO_PERSON.get(txt.lower())\n",
    "\n",
    "# --------------------------------------------------------------------------- #\n",
    "#  Predicate & subject helpers                                                #\n",
    "# --------------------------------------------------------------------------- #\n",
    "def _find_main_predicate(doc):\n",
    "    verb = doc[-1].sent.root\n",
    "    while verb.dep_ in {\"aux\", \"auxpass\"} and verb.head is not verb:\n",
    "        verb = verb.head\n",
    "    return verb if verb.pos_ in {\"VERB\", \"AUX\"} else None\n",
    "\n",
    "def _find_subject(verb):\n",
    "    subj_deps = {\"nsubj\", \"nsubjpass\", \"csubj\", \"csubjpass\"}\n",
    "    for child in verb.children:\n",
    "        if child.dep_ in subj_deps:\n",
    "            return child\n",
    "    for anc in verb.ancestors:\n",
    "        for child in anc.children:\n",
    "            if child.dep_ in subj_deps:\n",
    "                return child\n",
    "    for child in verb.children:            # existential/copular\n",
    "        if child.dep_ == \"attr\":\n",
    "            return child\n",
    "    return None\n",
    "\n",
    "# --------------------------------------------------------------------------- #\n",
    "#  Tense · Voice · Person                                                     #\n",
    "# --------------------------------------------------------------------------- #\n",
    "def _classify_tense(verb) -> str:\n",
    "    \"\"\"\n",
    "    Past / Present / Future / Unknown\n",
    "\n",
    "    Strategy (stop at first match):\n",
    "        1. Verb's own morphological Tense\n",
    "        2. Verb's POS-tag\n",
    "        3. Auxiliaries (children + ancestors)\n",
    "    \"\"\"\n",
    "    # 1) Morph features on the lexical verb\n",
    "    if verb.morph.get(\"Tense\"):\n",
    "        return \"Past\" if verb.morph.get(\"Tense\")[0] == \"Past\" else \"Present\"\n",
    "\n",
    "    # 2) POS tag on the lexical verb\n",
    "    if verb.tag_ in {\"VBD\", \"VBN\"}:\n",
    "        return \"Past\"\n",
    "    if verb.tag_ in {\"VBZ\", \"VBP\"}:\n",
    "        return \"Present\"\n",
    "\n",
    "    # 3) Search auxiliaries for tense cues\n",
    "    aux_tokens = [tok for tok in verb.children if tok.dep_ in {\"aux\", \"auxpass\"}]\n",
    "    aux_tokens += [tok for tok in verb.ancestors if tok.dep_ in {\"aux\", \"auxpass\"}]\n",
    "\n",
    "    for aux in aux_tokens:\n",
    "        # strict morphological match\n",
    "        if aux.morph.get(\"Tense\") == [\"Past\"] or aux.tag_ == \"VBD\":\n",
    "            return \"Past\"\n",
    "        if aux.lower_ in {\"will\", \"shall\", \"'ll\"}:\n",
    "            return \"Future\"\n",
    "        if aux.morph.get(\"Tense\") == [\"Pres\"]:\n",
    "            return \"Present\"\n",
    "        if aux.lower_ in _MODAL_PRESENT:\n",
    "            return \"Present\"\n",
    "\n",
    "    # lexical future fallback (“will” as main verb)\n",
    "    if verb.lower_ in {\"will\", \"shall\", \"'ll\"}:\n",
    "        return \"Future\"\n",
    "\n",
    "    return \"Unknown\"\n",
    "\n",
    "def _classify_voice(verb) -> str:\n",
    "    if verb.morph.get(\"Voice\") == [\"Pass\"]:\n",
    "        return \"Passive\"\n",
    "    if any(c.dep_ == \"nsubjpass\" for c in verb.children) or verb.dep_ == \"auxpass\":\n",
    "        return \"Passive\"\n",
    "    return \"Active\"\n",
    "\n",
    "def _classify_person(subj, verb) -> str:\n",
    "    if subj:\n",
    "        p = _pronoun_person(subj.text)\n",
    "        if p:\n",
    "            return p\n",
    "        if subj.morph.get(\"Person\"):\n",
    "            return {\"1\": \"1st\", \"2\": \"2nd\", \"3\": \"3rd\"}.get(\n",
    "                subj.morph.get(\"Person\")[0], \"Unknown\")\n",
    "        return \"3rd\"\n",
    "    if verb.morph.get(\"Mood\") == \"Imp\" or (verb.tag_ == \"VB\" and verb.dep_ == \"ROOT\"):\n",
    "        return \"2nd\"   # implicit YOU\n",
    "    return \"Unknown\"\n",
    "\n",
    "# --------------------------------------------------------------------------- #\n",
    "#  Core analyser                                                              #\n",
    "# --------------------------------------------------------------------------- #\n",
    "def analyse_sentences(sentences: list[str]) -> dict:\n",
    "    make = lambda: defaultdict(lambda: {\"count\": 0, \"sentences\": []})\n",
    "    tense_b, voice_b, person_b = make(), make(), make()\n",
    "\n",
    "    for sent in sentences:\n",
    "        doc  = nlp(sent)\n",
    "        verb = _find_main_predicate(doc)\n",
    "        if not verb:\n",
    "            continue\n",
    "\n",
    "        subj   = _find_subject(verb)\n",
    "        tense  = _classify_tense(verb)\n",
    "        voice  = _classify_voice(verb)\n",
    "        person = _classify_person(subj, verb)\n",
    "\n",
    "        for bucket, label in ((tense_b, tense), (voice_b, voice), (person_b, person)):\n",
    "            bucket[label][\"count\"] += 1\n",
    "            bucket[label][\"sentences\"].append(sent)\n",
    "\n",
    "    return {\"tense\": dict(tense_b), \"voice\": dict(voice_b), \"person\": dict(person_b)}\n",
    "\n",
    "# --------------------------------------------------------------------------- #\n",
    "#  Pretty print                                                               #\n",
    "# --------------------------------------------------------------------------- #\n",
    "def _print_section(title: str, data: dict, show_examples: bool):\n",
    "    total = sum(v[\"count\"] for v in data.values()) or 1\n",
    "    print(f\"{title} distribution:\")\n",
    "    for label in sorted(data):\n",
    "        v   = data[label]\n",
    "        pct = v[\"count\"] / total\n",
    "        print(f\"  {label:<8}: {v['count']:3} ({pct:5.1%})\")\n",
    "        if show_examples:\n",
    "            for s in v[\"sentences\"]:\n",
    "                print(f\"        ↳ {s}\")\n",
    "    print()\n",
    "\n",
    "def print_stats(results: dict, show_examples: bool = False):\n",
    "    _print_section(\"Tense\",  results[\"tense\"],  show_examples)\n",
    "    _print_section(\"Voice\",  results[\"voice\"],  show_examples)\n",
    "    _print_section(\"Person\", results[\"person\"], show_examples)\n",
    "\n",
    "stats = analyse_sentences(df_annotated[\"Question\"][df_annotated[\"Group\"] != \"excluded\"].tolist())\n",
    "print_stats(stats)\n",
    "\n",
    "# print average sentence lenght with SD\n",
    "avg_length = df_annotated[\"Question\"][df_annotated[\"Group\"] != \"excluded\"].str.split().apply(len).mean()\n",
    "std_length = df_annotated[\"Question\"][df_annotated[\"Group\"] != \"excluded\"].str.split().apply(len).std()\n",
    "# average number of questions per participant\n",
    "avg_questions_per_participant = df_annotated.groupby('Participant_ID').size().mean()\n",
    "std_questions_per_participant = df_annotated.groupby('Participant_ID').size().std()\n",
    "print(f\"Average number of questions per participant: {avg_questions_per_participant:.2f}, (SD = {std_questions_per_participant:.2f})\")\n",
    "print(f\"Average sentence length: {avg_length:.2f} words (SD = {std_length:.2f})\")"
   ]
  },
  {
   "cell_type": "code",
   "execution_count": 19,
   "id": "548aca3d",
   "metadata": {},
   "outputs": [
    {
     "data": {
      "text/plain": [
       "['is the salad allergy friendly?',\n",
       " 'Did the robot follow a particular recipe?',\n",
       " 'how long will it take to finish the salad',\n",
       " 'How many calories is the salad?',\n",
       " 'How does it know how much to take?',\n",
       " 'Can other ingredients be added to the salad, or is there a limit to steps?',\n",
       " 'was it easy to pick up the ingredients and mix them',\n",
       " 'What were the proportions of the things put into salad?',\n",
       " 'Was it able to identify the components independently?',\n",
       " 'what was in the salad']"
      ]
     },
     "execution_count": 19,
     "metadata": {},
     "output_type": "execute_result"
    }
   ],
   "source": [
    "stats[\"person\"][\"3rd\"][\"sentences\"][:10]"
   ]
  }
 ],
 "metadata": {
  "kernelspec": {
   "display_name": "THRI-paper",
   "language": "python",
   "name": "python3"
  },
  "language_info": {
   "codemirror_mode": {
    "name": "ipython",
    "version": 3
   },
   "file_extension": ".py",
   "mimetype": "text/x-python",
   "name": "python",
   "nbconvert_exporter": "python",
   "pygments_lexer": "ipython3",
   "version": "3.12.9"
  }
 },
 "nbformat": 4,
 "nbformat_minor": 5
}
